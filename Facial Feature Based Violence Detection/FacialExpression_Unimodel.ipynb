{
  "nbformat": 4,
  "nbformat_minor": 0,
  "metadata": {
    "colab": {
      "provenance": [],
      "gpuType": "T4"
    },
    "kernelspec": {
      "name": "python3",
      "display_name": "Python 3"
    },
    "language_info": {
      "name": "python"
    },
    "accelerator": "GPU"
  },
  "cells": [
    {
      "cell_type": "code",
      "execution_count": null,
      "metadata": {
        "colab": {
          "base_uri": "https://localhost:8080/"
        },
        "id": "aC779BVS1HzB",
        "outputId": "ab0fa5b5-5cc7-4072-fb41-faf7741594e2"
      },
      "outputs": [
        {
          "output_type": "stream",
          "name": "stdout",
          "text": [
            "Requirement already satisfied: moviepy in /usr/local/lib/python3.11/dist-packages (1.0.3)\n",
            "Requirement already satisfied: torch in /usr/local/lib/python3.11/dist-packages (2.6.0+cu124)\n",
            "Requirement already satisfied: torchvision in /usr/local/lib/python3.11/dist-packages (0.21.0+cu124)\n",
            "Requirement already satisfied: numpy in /usr/local/lib/python3.11/dist-packages (2.0.2)\n",
            "Requirement already satisfied: opencv-python in /usr/local/lib/python3.11/dist-packages (4.11.0.86)\n",
            "Requirement already satisfied: pillow in /usr/local/lib/python3.11/dist-packages (11.2.1)\n",
            "Collecting facenet-pytorch\n",
            "  Downloading facenet_pytorch-2.6.0-py3-none-any.whl.metadata (12 kB)\n",
            "Requirement already satisfied: tqdm in /usr/local/lib/python3.11/dist-packages (4.67.1)\n",
            "Collecting face-alignment\n",
            "  Downloading face_alignment-1.4.1-py2.py3-none-any.whl.metadata (7.4 kB)\n",
            "Requirement already satisfied: decorator<5.0,>=4.0.2 in /usr/local/lib/python3.11/dist-packages (from moviepy) (4.4.2)\n",
            "Requirement already satisfied: requests<3.0,>=2.8.1 in /usr/local/lib/python3.11/dist-packages (from moviepy) (2.32.3)\n",
            "Requirement already satisfied: proglog<=1.0.0 in /usr/local/lib/python3.11/dist-packages (from moviepy) (0.1.11)\n",
            "Requirement already satisfied: imageio<3.0,>=2.5 in /usr/local/lib/python3.11/dist-packages (from moviepy) (2.37.0)\n",
            "Requirement already satisfied: imageio-ffmpeg>=0.2.0 in /usr/local/lib/python3.11/dist-packages (from moviepy) (0.6.0)\n",
            "Requirement already satisfied: filelock in /usr/local/lib/python3.11/dist-packages (from torch) (3.18.0)\n",
            "Requirement already satisfied: typing-extensions>=4.10.0 in /usr/local/lib/python3.11/dist-packages (from torch) (4.13.2)\n",
            "Requirement already satisfied: networkx in /usr/local/lib/python3.11/dist-packages (from torch) (3.4.2)\n",
            "Requirement already satisfied: jinja2 in /usr/local/lib/python3.11/dist-packages (from torch) (3.1.6)\n",
            "Requirement already satisfied: fsspec in /usr/local/lib/python3.11/dist-packages (from torch) (2025.3.2)\n",
            "Collecting nvidia-cuda-nvrtc-cu12==12.4.127 (from torch)\n",
            "  Downloading nvidia_cuda_nvrtc_cu12-12.4.127-py3-none-manylinux2014_x86_64.whl.metadata (1.5 kB)\n",
            "Collecting nvidia-cuda-runtime-cu12==12.4.127 (from torch)\n",
            "  Downloading nvidia_cuda_runtime_cu12-12.4.127-py3-none-manylinux2014_x86_64.whl.metadata (1.5 kB)\n",
            "Collecting nvidia-cuda-cupti-cu12==12.4.127 (from torch)\n",
            "  Downloading nvidia_cuda_cupti_cu12-12.4.127-py3-none-manylinux2014_x86_64.whl.metadata (1.6 kB)\n",
            "Collecting nvidia-cudnn-cu12==9.1.0.70 (from torch)\n",
            "  Downloading nvidia_cudnn_cu12-9.1.0.70-py3-none-manylinux2014_x86_64.whl.metadata (1.6 kB)\n",
            "Collecting nvidia-cublas-cu12==12.4.5.8 (from torch)\n",
            "  Downloading nvidia_cublas_cu12-12.4.5.8-py3-none-manylinux2014_x86_64.whl.metadata (1.5 kB)\n",
            "Collecting nvidia-cufft-cu12==11.2.1.3 (from torch)\n",
            "  Downloading nvidia_cufft_cu12-11.2.1.3-py3-none-manylinux2014_x86_64.whl.metadata (1.5 kB)\n",
            "Collecting nvidia-curand-cu12==10.3.5.147 (from torch)\n",
            "  Downloading nvidia_curand_cu12-10.3.5.147-py3-none-manylinux2014_x86_64.whl.metadata (1.5 kB)\n",
            "Collecting nvidia-cusolver-cu12==11.6.1.9 (from torch)\n",
            "  Downloading nvidia_cusolver_cu12-11.6.1.9-py3-none-manylinux2014_x86_64.whl.metadata (1.6 kB)\n",
            "Collecting nvidia-cusparse-cu12==12.3.1.170 (from torch)\n",
            "  Downloading nvidia_cusparse_cu12-12.3.1.170-py3-none-manylinux2014_x86_64.whl.metadata (1.6 kB)\n",
            "Requirement already satisfied: nvidia-cusparselt-cu12==0.6.2 in /usr/local/lib/python3.11/dist-packages (from torch) (0.6.2)\n",
            "Requirement already satisfied: nvidia-nccl-cu12==2.21.5 in /usr/local/lib/python3.11/dist-packages (from torch) (2.21.5)\n",
            "Requirement already satisfied: nvidia-nvtx-cu12==12.4.127 in /usr/local/lib/python3.11/dist-packages (from torch) (12.4.127)\n",
            "Collecting nvidia-nvjitlink-cu12==12.4.127 (from torch)\n",
            "  Downloading nvidia_nvjitlink_cu12-12.4.127-py3-none-manylinux2014_x86_64.whl.metadata (1.5 kB)\n",
            "Requirement already satisfied: triton==3.2.0 in /usr/local/lib/python3.11/dist-packages (from torch) (3.2.0)\n",
            "Requirement already satisfied: sympy==1.13.1 in /usr/local/lib/python3.11/dist-packages (from torch) (1.13.1)\n",
            "Requirement already satisfied: mpmath<1.4,>=1.1.0 in /usr/local/lib/python3.11/dist-packages (from sympy==1.13.1->torch) (1.3.0)\n",
            "Collecting numpy\n",
            "  Downloading numpy-1.26.4-cp311-cp311-manylinux_2_17_x86_64.manylinux2014_x86_64.whl.metadata (61 kB)\n",
            "\u001b[2K     \u001b[90m━━━━━━━━━━━━━━━━━━━━━━━━━━━━━━━━━━━━━━━━\u001b[0m \u001b[32m61.0/61.0 kB\u001b[0m \u001b[31m4.7 MB/s\u001b[0m eta \u001b[36m0:00:00\u001b[0m\n",
            "\u001b[?25hCollecting pillow\n",
            "  Downloading pillow-10.2.0-cp311-cp311-manylinux_2_28_x86_64.whl.metadata (9.7 kB)\n",
            "INFO: pip is looking at multiple versions of facenet-pytorch to determine which version is compatible with other requirements. This could take a while.\n",
            "Collecting facenet-pytorch\n",
            "  Downloading facenet_pytorch-2.5.3-py3-none-any.whl.metadata (13 kB)\n",
            "Requirement already satisfied: scipy>=0.17 in /usr/local/lib/python3.11/dist-packages (from face-alignment) (1.15.2)\n",
            "Requirement already satisfied: scikit-image in /usr/local/lib/python3.11/dist-packages (from face-alignment) (0.25.2)\n",
            "Requirement already satisfied: numba in /usr/local/lib/python3.11/dist-packages (from face-alignment) (0.60.0)\n",
            "Requirement already satisfied: charset-normalizer<4,>=2 in /usr/local/lib/python3.11/dist-packages (from requests<3.0,>=2.8.1->moviepy) (3.4.1)\n",
            "Requirement already satisfied: idna<4,>=2.5 in /usr/local/lib/python3.11/dist-packages (from requests<3.0,>=2.8.1->moviepy) (3.10)\n",
            "Requirement already satisfied: urllib3<3,>=1.21.1 in /usr/local/lib/python3.11/dist-packages (from requests<3.0,>=2.8.1->moviepy) (2.4.0)\n",
            "Requirement already satisfied: certifi>=2017.4.17 in /usr/local/lib/python3.11/dist-packages (from requests<3.0,>=2.8.1->moviepy) (2025.4.26)\n",
            "Requirement already satisfied: MarkupSafe>=2.0 in /usr/local/lib/python3.11/dist-packages (from jinja2->torch) (3.0.2)\n",
            "Requirement already satisfied: llvmlite<0.44,>=0.43.0dev0 in /usr/local/lib/python3.11/dist-packages (from numba->face-alignment) (0.43.0)\n",
            "Requirement already satisfied: tifffile>=2022.8.12 in /usr/local/lib/python3.11/dist-packages (from scikit-image->face-alignment) (2025.3.30)\n",
            "Requirement already satisfied: packaging>=21 in /usr/local/lib/python3.11/dist-packages (from scikit-image->face-alignment) (24.2)\n",
            "Requirement already satisfied: lazy-loader>=0.4 in /usr/local/lib/python3.11/dist-packages (from scikit-image->face-alignment) (0.4)\n",
            "Downloading nvidia_cublas_cu12-12.4.5.8-py3-none-manylinux2014_x86_64.whl (363.4 MB)\n",
            "\u001b[2K   \u001b[90m━━━━━━━━━━━━━━━━━━━━━━━━━━━━━━━━━━━━━━━━\u001b[0m \u001b[32m363.4/363.4 MB\u001b[0m \u001b[31m4.3 MB/s\u001b[0m eta \u001b[36m0:00:00\u001b[0m\n",
            "\u001b[?25hDownloading nvidia_cuda_cupti_cu12-12.4.127-py3-none-manylinux2014_x86_64.whl (13.8 MB)\n",
            "\u001b[2K   \u001b[90m━━━━━━━━━━━━━━━━━━━━━━━━━━━━━━━━━━━━━━━━\u001b[0m \u001b[32m13.8/13.8 MB\u001b[0m \u001b[31m121.8 MB/s\u001b[0m eta \u001b[36m0:00:00\u001b[0m\n",
            "\u001b[?25hDownloading nvidia_cuda_nvrtc_cu12-12.4.127-py3-none-manylinux2014_x86_64.whl (24.6 MB)\n",
            "\u001b[2K   \u001b[90m━━━━━━━━━━━━━━━━━━━━━━━━━━━━━━━━━━━━━━━━\u001b[0m \u001b[32m24.6/24.6 MB\u001b[0m \u001b[31m30.6 MB/s\u001b[0m eta \u001b[36m0:00:00\u001b[0m\n",
            "\u001b[?25hDownloading nvidia_cuda_runtime_cu12-12.4.127-py3-none-manylinux2014_x86_64.whl (883 kB)\n",
            "\u001b[2K   \u001b[90m━━━━━━━━━━━━━━━━━━━━━━━━━━━━━━━━━━━━━━━━\u001b[0m \u001b[32m883.7/883.7 kB\u001b[0m \u001b[31m48.4 MB/s\u001b[0m eta \u001b[36m0:00:00\u001b[0m\n",
            "\u001b[?25hDownloading nvidia_cudnn_cu12-9.1.0.70-py3-none-manylinux2014_x86_64.whl (664.8 MB)\n",
            "\u001b[2K   \u001b[90m━━━━━━━━━━━━━━━━━━━━━━━━━━━━━━━━━━━━━━━━\u001b[0m \u001b[32m664.8/664.8 MB\u001b[0m \u001b[31m3.0 MB/s\u001b[0m eta \u001b[36m0:00:00\u001b[0m\n",
            "\u001b[?25hDownloading nvidia_cufft_cu12-11.2.1.3-py3-none-manylinux2014_x86_64.whl (211.5 MB)\n",
            "\u001b[2K   \u001b[90m━━━━━━━━━━━━━━━━━━━━━━━━━━━━━━━━━━━━━━━━\u001b[0m \u001b[32m211.5/211.5 MB\u001b[0m \u001b[31m5.6 MB/s\u001b[0m eta \u001b[36m0:00:00\u001b[0m\n",
            "\u001b[?25hDownloading nvidia_curand_cu12-10.3.5.147-py3-none-manylinux2014_x86_64.whl (56.3 MB)\n",
            "\u001b[2K   \u001b[90m━━━━━━━━━━━━━━━━━━━━━━━━━━━━━━━━━━━━━━━━\u001b[0m \u001b[32m56.3/56.3 MB\u001b[0m \u001b[31m13.1 MB/s\u001b[0m eta \u001b[36m0:00:00\u001b[0m\n",
            "\u001b[?25hDownloading nvidia_cusolver_cu12-11.6.1.9-py3-none-manylinux2014_x86_64.whl (127.9 MB)\n",
            "\u001b[2K   \u001b[90m━━━━━━━━━━━━━━━━━━━━━━━━━━━━━━━━━━━━━━━━\u001b[0m \u001b[32m127.9/127.9 MB\u001b[0m \u001b[31m7.3 MB/s\u001b[0m eta \u001b[36m0:00:00\u001b[0m\n",
            "\u001b[?25hDownloading nvidia_cusparse_cu12-12.3.1.170-py3-none-manylinux2014_x86_64.whl (207.5 MB)\n",
            "\u001b[2K   \u001b[90m━━━━━━━━━━━━━━━━━━━━━━━━━━━━━━━━━━━━━━━━\u001b[0m \u001b[32m207.5/207.5 MB\u001b[0m \u001b[31m5.9 MB/s\u001b[0m eta \u001b[36m0:00:00\u001b[0m\n",
            "\u001b[?25hDownloading nvidia_nvjitlink_cu12-12.4.127-py3-none-manylinux2014_x86_64.whl (21.1 MB)\n",
            "\u001b[2K   \u001b[90m━━━━━━━━━━━━━━━━━━━━━━━━━━━━━━━━━━━━━━━━\u001b[0m \u001b[32m21.1/21.1 MB\u001b[0m \u001b[31m34.1 MB/s\u001b[0m eta \u001b[36m0:00:00\u001b[0m\n",
            "\u001b[?25hDownloading facenet_pytorch-2.5.3-py3-none-any.whl (1.9 MB)\n",
            "\u001b[2K   \u001b[90m━━━━━━━━━━━━━━━━━━━━━━━━━━━━━━━━━━━━━━━━\u001b[0m \u001b[32m1.9/1.9 MB\u001b[0m \u001b[31m49.1 MB/s\u001b[0m eta \u001b[36m0:00:00\u001b[0m\n",
            "\u001b[?25hDownloading face_alignment-1.4.1-py2.py3-none-any.whl (30 kB)\n",
            "Installing collected packages: nvidia-nvjitlink-cu12, nvidia-curand-cu12, nvidia-cufft-cu12, nvidia-cuda-runtime-cu12, nvidia-cuda-nvrtc-cu12, nvidia-cuda-cupti-cu12, nvidia-cublas-cu12, nvidia-cusparse-cu12, nvidia-cudnn-cu12, nvidia-cusolver-cu12, face-alignment, facenet-pytorch\n",
            "  Attempting uninstall: nvidia-nvjitlink-cu12\n",
            "    Found existing installation: nvidia-nvjitlink-cu12 12.5.82\n",
            "    Uninstalling nvidia-nvjitlink-cu12-12.5.82:\n",
            "      Successfully uninstalled nvidia-nvjitlink-cu12-12.5.82\n",
            "  Attempting uninstall: nvidia-curand-cu12\n",
            "    Found existing installation: nvidia-curand-cu12 10.3.6.82\n",
            "    Uninstalling nvidia-curand-cu12-10.3.6.82:\n",
            "      Successfully uninstalled nvidia-curand-cu12-10.3.6.82\n",
            "  Attempting uninstall: nvidia-cufft-cu12\n",
            "    Found existing installation: nvidia-cufft-cu12 11.2.3.61\n",
            "    Uninstalling nvidia-cufft-cu12-11.2.3.61:\n",
            "      Successfully uninstalled nvidia-cufft-cu12-11.2.3.61\n",
            "  Attempting uninstall: nvidia-cuda-runtime-cu12\n",
            "    Found existing installation: nvidia-cuda-runtime-cu12 12.5.82\n",
            "    Uninstalling nvidia-cuda-runtime-cu12-12.5.82:\n",
            "      Successfully uninstalled nvidia-cuda-runtime-cu12-12.5.82\n",
            "  Attempting uninstall: nvidia-cuda-nvrtc-cu12\n",
            "    Found existing installation: nvidia-cuda-nvrtc-cu12 12.5.82\n",
            "    Uninstalling nvidia-cuda-nvrtc-cu12-12.5.82:\n",
            "      Successfully uninstalled nvidia-cuda-nvrtc-cu12-12.5.82\n",
            "  Attempting uninstall: nvidia-cuda-cupti-cu12\n",
            "    Found existing installation: nvidia-cuda-cupti-cu12 12.5.82\n",
            "    Uninstalling nvidia-cuda-cupti-cu12-12.5.82:\n",
            "      Successfully uninstalled nvidia-cuda-cupti-cu12-12.5.82\n",
            "  Attempting uninstall: nvidia-cublas-cu12\n",
            "    Found existing installation: nvidia-cublas-cu12 12.5.3.2\n",
            "    Uninstalling nvidia-cublas-cu12-12.5.3.2:\n",
            "      Successfully uninstalled nvidia-cublas-cu12-12.5.3.2\n",
            "  Attempting uninstall: nvidia-cusparse-cu12\n",
            "    Found existing installation: nvidia-cusparse-cu12 12.5.1.3\n",
            "    Uninstalling nvidia-cusparse-cu12-12.5.1.3:\n",
            "      Successfully uninstalled nvidia-cusparse-cu12-12.5.1.3\n",
            "  Attempting uninstall: nvidia-cudnn-cu12\n",
            "    Found existing installation: nvidia-cudnn-cu12 9.3.0.75\n",
            "    Uninstalling nvidia-cudnn-cu12-9.3.0.75:\n",
            "      Successfully uninstalled nvidia-cudnn-cu12-9.3.0.75\n",
            "  Attempting uninstall: nvidia-cusolver-cu12\n",
            "    Found existing installation: nvidia-cusolver-cu12 11.6.3.83\n",
            "    Uninstalling nvidia-cusolver-cu12-11.6.3.83:\n",
            "      Successfully uninstalled nvidia-cusolver-cu12-11.6.3.83\n",
            "Successfully installed face-alignment-1.4.1 facenet-pytorch-2.5.3 nvidia-cublas-cu12-12.4.5.8 nvidia-cuda-cupti-cu12-12.4.127 nvidia-cuda-nvrtc-cu12-12.4.127 nvidia-cuda-runtime-cu12-12.4.127 nvidia-cudnn-cu12-9.1.0.70 nvidia-cufft-cu12-11.2.1.3 nvidia-curand-cu12-10.3.5.147 nvidia-cusolver-cu12-11.6.1.9 nvidia-cusparse-cu12-12.3.1.170 nvidia-nvjitlink-cu12-12.4.127\n"
          ]
        }
      ],
      "source": [
        "!pip install moviepy torch torchvision numpy opencv-python pillow facenet-pytorch tqdm moviepy face-alignment"
      ]
    },
    {
      "cell_type": "code",
      "source": [
        "import os\n",
        "import cv2\n",
        "import torch\n",
        "import numpy as np\n",
        "import pandas as pd\n",
        "from tqdm import tqdm\n",
        "from PIL import Image\n",
        "from moviepy.editor import VideoFileClip\n",
        "from facenet_pytorch import MTCNN\n",
        "import torchvision.transforms as transforms\n",
        "import torchvision.models as models\n",
        "import face_alignment\n",
        "from google.colab import files\n",
        "import torch\n",
        "import torch.nn as nn\n",
        "from torch.utils.data import Dataset, DataLoader\n",
        "from torch.nn.utils.rnn import pad_sequence, pack_padded_sequence, pad_packed_sequence\n",
        "from sklearn.metrics import accuracy_score, f1_score, confusion_matrix, classification_report\n",
        "from sklearn.model_selection import train_test_split\n",
        "import matplotlib.pyplot as plt\n",
        "import seaborn as sns\n"
      ],
      "metadata": {
        "colab": {
          "base_uri": "https://localhost:8080/"
        },
        "id": "DwIRimlc_ON0",
        "outputId": "03a128ef-ca61-41ee-9730-b7be8a05b0ea"
      },
      "execution_count": null,
      "outputs": [
        {
          "output_type": "stream",
          "name": "stderr",
          "text": [
            "WARNING:py.warnings:/usr/local/lib/python3.11/dist-packages/moviepy/video/io/sliders.py:61: SyntaxWarning: \"is\" with a literal. Did you mean \"==\"?\n",
            "  if event.key is 'enter':\n",
            "\n"
          ]
        }
      ]
    },
    {
      "cell_type": "code",
      "source": [
        "from google.colab import drive\n",
        "drive.mount('/content/drive')"
      ],
      "metadata": {
        "colab": {
          "base_uri": "https://localhost:8080/"
        },
        "id": "Vxq2ar-yILzH",
        "outputId": "14928663-199c-4cf7-ab1c-d6162ce3a212"
      },
      "execution_count": null,
      "outputs": [
        {
          "output_type": "stream",
          "name": "stdout",
          "text": [
            "Drive already mounted at /content/drive; to attempt to forcibly remount, call drive.mount(\"/content/drive\", force_remount=True).\n"
          ]
        }
      ]
    },
    {
      "cell_type": "markdown",
      "source": [
        "**Dataset**\n",
        "\n",
        "Videos are already downloaded using yt-dlp.\n",
        "\n",
        "Google Drive Path: /content/drive/MyDrive/Sem-I/Multimodel Probilistic Machine Learning in Human Communication/Project/videos_mp4"
      ],
      "metadata": {
        "id": "FySs9QNn_hOV"
      }
    },
    {
      "cell_type": "code",
      "source": [
        "project_dir = '/content/drive/MyDrive/Sem-I/Multimodel Probilistic Machine Learning in Human Communication/Project'\n",
        "csv_path = os.path.join(project_dir, 'dataset_annotation.csv')\n",
        "video_dir = os.path.join(project_dir, 'videos_mp4')\n",
        "features_dir = os.path.join(project_dir, 'features')\n",
        "\n",
        "device = torch.device('cuda' if torch.cuda.is_available() else 'cpu')\n"
      ],
      "metadata": {
        "id": "Mx9QQn0P_SSs"
      },
      "execution_count": null,
      "outputs": []
    },
    {
      "cell_type": "code",
      "source": [],
      "metadata": {
        "id": "H0v8-2XvExjc"
      },
      "execution_count": null,
      "outputs": []
    },
    {
      "cell_type": "code",
      "source": [
        "# Load ResNet50 (without classification layer)\n",
        "resnet = models.resnet50(pretrained=True)\n",
        "resnet = torch.nn.Sequential(*list(resnet.children())[:-1])\n",
        "resnet.eval().to(device)\n",
        "\n",
        "# MTCNN face detector\n",
        "mtcnn = MTCNN(keep_all=False, device=device)\n",
        "\n",
        "# Face alignment for head pose\n",
        "fa = face_alignment.FaceAlignment(landmarks_type='2D', device='cuda' if torch.cuda.is_available() else 'cpu')\n",
        "\n",
        "transform = transforms.Compose([\n",
        "    transforms.Resize((224, 224)),\n",
        "    transforms.ToTensor(),\n",
        "    transforms.Normalize(mean=[0.485, 0.456, 0.406],\n",
        "                         std=[0.229, 0.224, 0.225])\n",
        "])\n"
      ],
      "metadata": {
        "colab": {
          "base_uri": "https://localhost:8080/"
        },
        "id": "3FES-QAZFANO",
        "outputId": "981cf484-c1ce-47b4-ed00-dd8d7f73ac0b"
      },
      "execution_count": null,
      "outputs": [
        {
          "output_type": "stream",
          "name": "stderr",
          "text": [
            "WARNING:py.warnings:/usr/local/lib/python3.11/dist-packages/torchvision/models/_utils.py:208: UserWarning: The parameter 'pretrained' is deprecated since 0.13 and may be removed in the future, please use 'weights' instead.\n",
            "  warnings.warn(\n",
            "\n",
            "WARNING:py.warnings:/usr/local/lib/python3.11/dist-packages/torchvision/models/_utils.py:223: UserWarning: Arguments other than a weight enum or `None` for 'weights' are deprecated since 0.13 and may be removed in the future. The current behavior is equivalent to passing `weights=ResNet50_Weights.IMAGENET1K_V1`. You can also use `weights=ResNet50_Weights.DEFAULT` to get the most up-to-date weights.\n",
            "  warnings.warn(msg)\n",
            "\n",
            "Downloading: \"https://download.pytorch.org/models/resnet50-0676ba61.pth\" to /root/.cache/torch/hub/checkpoints/resnet50-0676ba61.pth\n",
            "100%|██████████| 97.8M/97.8M [00:01<00:00, 102MB/s]\n",
            "Downloading: \"https://www.adrianbulat.com/downloads/python-fan/s3fd-619a316812.pth\" to /root/.cache/torch/hub/checkpoints/s3fd-619a316812.pth\n",
            "100%|██████████| 85.7M/85.7M [00:00<00:00, 109MB/s]\n",
            "Downloading: \"https://www.adrianbulat.com/downloads/python-fan/3DFAN4-4a694010b9.zip\" to /root/.cache/torch/hub/checkpoints/3DFAN4-4a694010b9.zip\n",
            "100%|██████████| 91.9M/91.9M [00:00<00:00, 107MB/s]\n"
          ]
        }
      ]
    },
    {
      "cell_type": "code",
      "source": [
        "def estimate_head_pose(image_np):\n",
        "    landmarks = fa.get_landmarks(image_np)\n",
        "    if landmarks is None:\n",
        "        return None\n",
        "    landmarks = landmarks[0]\n",
        "\n",
        "    image_points = np.array([\n",
        "        landmarks[30], landmarks[8], landmarks[36],\n",
        "        landmarks[45], landmarks[48], landmarks[54]\n",
        "    ], dtype=\"double\")\n",
        "\n",
        "    model_points = np.array([\n",
        "        (0.0, 0.0, 0.0),\n",
        "        (0.0, -330.0, -65.0),\n",
        "        (-225.0, 170.0, -135.0),\n",
        "        (225.0, 170.0, -135.0),\n",
        "        (-150.0, -150.0, -125.0),\n",
        "        (150.0, -150.0, -125.0)\n",
        "    ])\n",
        "\n",
        "    h, w = image_np.shape[:2]\n",
        "    focal_length = w\n",
        "    center = (w // 2, h // 2)\n",
        "    camera_matrix = np.array([\n",
        "        [focal_length, 0, center[0]],\n",
        "        [0, focal_length, center[1]],\n",
        "        [0, 0, 1]\n",
        "    ], dtype=\"double\")\n",
        "    dist_coeffs = np.zeros((4, 1))\n",
        "\n",
        "    success, rot_vec, trans_vec = cv2.solvePnP(model_points, image_points, camera_matrix, dist_coeffs)\n",
        "    if not success:\n",
        "        return None\n",
        "\n",
        "    rmat, _ = cv2.Rodrigues(rot_vec)\n",
        "    pose_mat = cv2.hconcat((rmat, trans_vec))\n",
        "    _, _, _, _, _, _, euler_angles = cv2.decomposeProjectionMatrix(pose_mat)\n",
        "    yaw, pitch, roll = euler_angles.flatten().tolist()\n",
        "\n",
        "    return yaw, pitch, roll\n"
      ],
      "metadata": {
        "id": "rF6Boj9K_fO3"
      },
      "execution_count": null,
      "outputs": []
    },
    {
      "cell_type": "code",
      "source": [
        "def extract_face_embedding_and_pose(frame):\n",
        "    img = Image.fromarray(frame)\n",
        "    face_tensor = mtcnn(img)\n",
        "    if face_tensor is None:\n",
        "        return None\n",
        "    face_tensor = face_tensor.unsqueeze(0).to(device)\n",
        "\n",
        "    with torch.no_grad():\n",
        "        embedding = resnet(face_tensor).squeeze().cpu().numpy()\n",
        "\n",
        "    head_pose = estimate_head_pose(frame)\n",
        "    if head_pose is None:\n",
        "        head_pose = [0, 0, 0]\n",
        "\n",
        "    return np.concatenate([embedding, np.array(head_pose)])"
      ],
      "metadata": {
        "id": "heswcSgYDm99"
      },
      "execution_count": null,
      "outputs": []
    },
    {
      "cell_type": "code",
      "source": [
        "def convert_str_to_list(input_string):\n",
        "  try:\n",
        "    return eval(input_string)\n",
        "  except (SyntaxError, NameError):\n",
        "    return None"
      ],
      "metadata": {
        "id": "Jnt9sCLLD1BO"
      },
      "execution_count": null,
      "outputs": []
    },
    {
      "cell_type": "code",
      "source": [
        "def get_escalation_after_face(time_stamps, first_face_time):\n",
        "    if time_stamps is None or len(time_stamps) == 0:\n",
        "        return None\n",
        "\n",
        "    filtered_timestamps = [x for x in time_stamps if x > first_face_time]\n",
        "\n",
        "    if len(filtered_timestamps) == 0:\n",
        "        return None\n",
        "\n",
        "    return float(min(filtered_timestamps))"
      ],
      "metadata": {
        "id": "qJnIrII8D6Iv"
      },
      "execution_count": null,
      "outputs": []
    },
    {
      "cell_type": "code",
      "source": [
        "def process_video_escalation_controlled(row):\n",
        "    video_file = row['titles']\n",
        "    video_path = os.path.join(video_dir, video_file + '.mp4')\n",
        "    escalation_times = convert_str_to_list(row['escalation_timestamps'])\n",
        "    save_path = os.path.join(features_dir, video_file + '_features.npy')\n",
        "    if os.path.exists(save_path):\n",
        "        print(f\"Skipping {video_file} as features already exist.\")\n",
        "        return\n",
        "\n",
        "    clip = VideoFileClip(video_path)\n",
        "    duration = int(clip.duration)\n",
        "\n",
        "    first_face_time = None\n",
        "    for t in range(0, duration, 2):\n",
        "        frame = clip.get_frame(t)\n",
        "        if mtcnn(Image.fromarray(frame)) is not None:\n",
        "            first_face_time = t\n",
        "            print(f\"First face found at {t}s in {video_file}\")\n",
        "            break\n",
        "\n",
        "    if first_face_time is None:\n",
        "        print(f\"No face found in video {video_file}. Skipping...\")\n",
        "        return\n",
        "\n",
        "    escalation_time = get_escalation_after_face(escalation_times, first_face_time)\n",
        "    end_time = min(duration, int(escalation_time + 60)) if escalation_time else duration\n",
        "\n",
        "    features = []\n",
        "\n",
        "    print(f\"Processing {video_file} from {first_face_time}s to {end_time}s\")\n",
        "    for t in tqdm(range(first_face_time, end_time), desc=\"Extracting features\"):\n",
        "        frame = clip.get_frame(t)\n",
        "        feature_vec = extract_face_embedding_and_pose(frame)\n",
        "        if feature_vec is not None:\n",
        "            features.append(feature_vec)\n",
        "\n",
        "    features = np.array(features)\n",
        "    print(f\"Extracted {features.shape} features.\")\n",
        "\n",
        "    if features.shape[0] == 0:\n",
        "        print(f\"No features extracted for {video_file}\")\n",
        "        return\n",
        "\n",
        "    os.makedirs(os.path.dirname(save_path), exist_ok=True)\n",
        "    np.save(save_path, features)\n",
        "    print(f\"Saved features to {save_path}\")"
      ],
      "metadata": {
        "id": "43lqDqRcEMJL"
      },
      "execution_count": null,
      "outputs": []
    },
    {
      "cell_type": "code",
      "source": [
        "df = pd.read_csv(\"dataset_annotation.csv\")\n",
        "for idx,row in df.iterrows():\n",
        "  process_video_escalation_controlled(row)\n"
      ],
      "metadata": {
        "colab": {
          "base_uri": "https://localhost:8080/"
        },
        "id": "kE6PQdTsEOqz",
        "outputId": "4b481d18-e0ea-47d1-dc92-dad293f44992"
      },
      "execution_count": null,
      "outputs": [
        {
          "output_type": "stream",
          "name": "stdout",
          "text": [
            "First face found at 6s in San Diego Police Officers Fatally Shoot Man Who Fired On Them\n",
            "Processing San Diego Police Officers Fatally Shoot Man Who Fired On Them from 6s to 96s\n"
          ]
        },
        {
          "output_type": "stream",
          "name": "stderr",
          "text": [
            "Extracting features:  86%|████████▌ | 77/90 [01:35<00:12,  1.04it/s]WARNING:py.warnings:/usr/local/lib/python3.11/dist-packages/face_alignment/api.py:147: UserWarning: No faces were detected.\n",
            "  warnings.warn(\"No faces were detected.\")\n",
            "\n",
            "Extracting features: 100%|██████████| 90/90 [01:41<00:00,  1.13s/it]\n"
          ]
        },
        {
          "output_type": "stream",
          "name": "stdout",
          "text": [
            "Extracted (79, 2051) features.\n",
            "Saved features to /content/drive/MyDrive/Sem-I/Multimodel Probilistic Machine Learning in Human Communication/Project/features/San Diego Police Officers Fatally Shoot Man Who Fired On Them_features.npy\n",
            "First face found at 26s in Georgia Police Officer Pulls Over Chief Deputy For Speeding\n",
            "Processing Georgia Police Officer Pulls Over Chief Deputy For Speeding from 26s to 133s\n"
          ]
        },
        {
          "output_type": "stream",
          "name": "stderr",
          "text": [
            "Extracting features: 100%|██████████| 107/107 [00:59<00:00,  1.79it/s]\n"
          ]
        },
        {
          "output_type": "stream",
          "name": "stdout",
          "text": [
            "Extracted (35, 2051) features.\n",
            "Saved features to /content/drive/MyDrive/Sem-I/Multimodel Probilistic Machine Learning in Human Communication/Project/features/Georgia Police Officer Pulls Over Chief Deputy For Speeding_features.npy\n",
            "First face found at 0s in Registered Violent Sexual Predator Tries To Run From Florida Police\n",
            "Processing Registered Violent Sexual Predator Tries To Run From Florida Police from 0s to 106s\n"
          ]
        },
        {
          "output_type": "stream",
          "name": "stderr",
          "text": [
            "Extracting features: 100%|██████████| 106/106 [01:08<00:00,  1.55it/s]\n"
          ]
        },
        {
          "output_type": "stream",
          "name": "stdout",
          "text": [
            "Extracted (53, 2051) features.\n",
            "Saved features to /content/drive/MyDrive/Sem-I/Multimodel Probilistic Machine Learning in Human Communication/Project/features/Registered Violent Sexual Predator Tries To Run From Florida Police_features.npy\n",
            "First face found at 6s in Bodycam Footage of U.S. Marshal Fatally Shooting Omari Cryer in Louisville\n",
            "Processing Bodycam Footage of U.S. Marshal Fatally Shooting Omari Cryer in Louisville from 6s to 66s\n"
          ]
        },
        {
          "output_type": "stream",
          "name": "stderr",
          "text": [
            "Extracting features: 100%|██████████| 60/60 [00:43<00:00,  1.38it/s]\n"
          ]
        },
        {
          "output_type": "stream",
          "name": "stdout",
          "text": [
            "Extracted (54, 2051) features.\n",
            "Saved features to /content/drive/MyDrive/Sem-I/Multimodel Probilistic Machine Learning in Human Communication/Project/features/Bodycam Footage of U.S. Marshal Fatally Shooting Omari Cryer in Louisville_features.npy\n",
            "First face found at 6s in Man Attacks Officer with Knife in Front of Police Station\n",
            "Processing Man Attacks Officer with Knife in Front of Police Station from 6s to 97s\n"
          ]
        },
        {
          "output_type": "stream",
          "name": "stderr",
          "text": [
            "Extracting features: 100%|██████████| 91/91 [00:45<00:00,  1.98it/s]\n"
          ]
        },
        {
          "output_type": "stream",
          "name": "stdout",
          "text": [
            "Extracted (32, 2051) features.\n",
            "Saved features to /content/drive/MyDrive/Sem-I/Multimodel Probilistic Machine Learning in Human Communication/Project/features/Man Attacks Officer with Knife in Front of Police Station_features.npy\n",
            "First face found at 70s in Indiana Officer Rescues 2 Labrador Retrievers Clinging to Edge of icy Pond\n",
            "Processing Indiana Officer Rescues 2 Labrador Retrievers Clinging to Edge of icy Pond from 70s to 89s\n"
          ]
        },
        {
          "output_type": "stream",
          "name": "stderr",
          "text": [
            "Extracting features: 100%|██████████| 19/19 [00:13<00:00,  1.43it/s]\n"
          ]
        },
        {
          "output_type": "stream",
          "name": "stdout",
          "text": [
            "Extracted (19, 2051) features.\n",
            "Saved features to /content/drive/MyDrive/Sem-I/Multimodel Probilistic Machine Learning in Human Communication/Project/features/Indiana Officer Rescues 2 Labrador Retrievers Clinging to Edge of icy Pond_features.npy\n",
            "First face found at 6s in Indianapolis Police Shoot Man Who Pointed Gun at an Officer\n",
            "Processing Indianapolis Police Shoot Man Who Pointed Gun at an Officer from 6s to 97s\n"
          ]
        },
        {
          "output_type": "stream",
          "name": "stderr",
          "text": [
            "Extracting features: 100%|██████████| 91/91 [00:49<00:00,  1.82it/s]\n"
          ]
        },
        {
          "output_type": "stream",
          "name": "stdout",
          "text": [
            "Extracted (43, 2051) features.\n",
            "Saved features to /content/drive/MyDrive/Sem-I/Multimodel Probilistic Machine Learning in Human Communication/Project/features/Indianapolis Police Shoot Man Who Pointed Gun at an Officer_features.npy\n",
            "First face found at 6s in Man in Tactical Gear Shot After Charging at Officers With a Crowbar\n",
            "Processing Man in Tactical Gear Shot After Charging at Officers With a Crowbar from 6s to 74s\n"
          ]
        },
        {
          "output_type": "stream",
          "name": "stderr",
          "text": [
            "Extracting features: 100%|██████████| 68/68 [00:49<00:00,  1.38it/s]\n"
          ]
        },
        {
          "output_type": "stream",
          "name": "stdout",
          "text": [
            "Extracted (30, 2051) features.\n",
            "Saved features to /content/drive/MyDrive/Sem-I/Multimodel Probilistic Machine Learning in Human Communication/Project/features/Man in Tactical Gear Shot After Charging at Officers With a Crowbar_features.npy\n",
            "First face found at 0s in Bodycam Captures Tampa Police Chief Using Position To Get Out of Traffic Violation\n",
            "Processing Bodycam Captures Tampa Police Chief Using Position To Get Out of Traffic Violation from 0s to 134s\n"
          ]
        },
        {
          "output_type": "stream",
          "name": "stderr",
          "text": [
            "Extracting features: 100%|██████████| 134/134 [01:21<00:00,  1.65it/s]\n"
          ]
        },
        {
          "output_type": "stream",
          "name": "stdout",
          "text": [
            "Extracted (74, 2051) features.\n",
            "Saved features to /content/drive/MyDrive/Sem-I/Multimodel Probilistic Machine Learning in Human Communication/Project/features/Bodycam Captures Tampa Police Chief Using Position To Get Out of Traffic Violation_features.npy\n",
            "First face found at 32s in Cruiser Cam Shows Police Using PIT Maneuver To End a Chase in Dayton, Ohio\n",
            "Processing Cruiser Cam Shows Police Using PIT Maneuver To End a Chase in Dayton, Ohio from 32s to 94s\n"
          ]
        },
        {
          "output_type": "stream",
          "name": "stderr",
          "text": [
            "Extracting features: 100%|██████████| 62/62 [00:31<00:00,  1.99it/s]\n"
          ]
        },
        {
          "output_type": "stream",
          "name": "stdout",
          "text": [
            "Extracted (22, 2051) features.\n",
            "Saved features to /content/drive/MyDrive/Sem-I/Multimodel Probilistic Machine Learning in Human Communication/Project/features/Cruiser Cam Shows Police Using PIT Maneuver To End a Chase in Dayton, Ohio_features.npy\n",
            "First face found at 40s in Man Almost Gets Shot by Cops After Answering Door With Gun in Hand\n",
            "Processing Man Almost Gets Shot by Cops After Answering Door With Gun in Hand from 40s to 174s\n"
          ]
        },
        {
          "output_type": "stream",
          "name": "stderr",
          "text": [
            "Extracting features: 100%|██████████| 134/134 [01:20<00:00,  1.67it/s]\n"
          ]
        },
        {
          "output_type": "stream",
          "name": "stdout",
          "text": [
            "Extracted (60, 2051) features.\n",
            "Saved features to /content/drive/MyDrive/Sem-I/Multimodel Probilistic Machine Learning in Human Communication/Project/features/Man Almost Gets Shot by Cops After Answering Door With Gun in Hand_features.npy\n",
            "First face found at 10s in Officer Clings to Moving Car Before Firing Shots at Fleeing Suspect\n",
            "Processing Officer Clings to Moving Car Before Firing Shots at Fleeing Suspect from 10s to 88s\n"
          ]
        },
        {
          "output_type": "stream",
          "name": "stderr",
          "text": [
            "Extracting features: 100%|██████████| 78/78 [00:47<00:00,  1.64it/s]\n"
          ]
        },
        {
          "output_type": "stream",
          "name": "stdout",
          "text": [
            "Extracted (15, 2051) features.\n",
            "Saved features to /content/drive/MyDrive/Sem-I/Multimodel Probilistic Machine Learning in Human Communication/Project/features/Officer Clings to Moving Car Before Firing Shots at Fleeing Suspect_features.npy\n",
            "First face found at 2s in Fort Wayne Police Officer Saves Toddler From Drowning in Pool\n",
            "Processing Fort Wayne Police Officer Saves Toddler From Drowning in Pool from 2s to 98s\n"
          ]
        },
        {
          "output_type": "stream",
          "name": "stderr",
          "text": [
            "Extracting features: 100%|██████████| 96/96 [00:57<00:00,  1.68it/s]\n"
          ]
        },
        {
          "output_type": "stream",
          "name": "stdout",
          "text": [
            "Extracted (4, 2051) features.\n",
            "Saved features to /content/drive/MyDrive/Sem-I/Multimodel Probilistic Machine Learning in Human Communication/Project/features/Fort Wayne Police Officer Saves Toddler From Drowning in Pool_features.npy\n",
            "First face found at 0s in Helicopter Footage Shows Suspects in a Stolen BMW SUV Trying to Escape Deputies\n",
            "Processing Helicopter Footage Shows Suspects in a Stolen BMW SUV Trying to Escape Deputies from 0s to 106s\n"
          ]
        },
        {
          "output_type": "stream",
          "name": "stderr",
          "text": [
            "Extracting features: 100%|██████████| 106/106 [01:00<00:00,  1.76it/s]\n"
          ]
        },
        {
          "output_type": "stream",
          "name": "stdout",
          "text": [
            "Extracted (54, 2051) features.\n",
            "Saved features to /content/drive/MyDrive/Sem-I/Multimodel Probilistic Machine Learning in Human Communication/Project/features/Helicopter Footage Shows Suspects in a Stolen BMW SUV Trying to Escape Deputies_features.npy\n",
            "First face found at 6s in San Diego Police Officer Shoots Man Walking Towards Him With a Knife\n",
            "Processing San Diego Police Officer Shoots Man Walking Towards Him With a Knife from 6s to 70s\n"
          ]
        },
        {
          "output_type": "stream",
          "name": "stderr",
          "text": [
            "Extracting features: 100%|██████████| 64/64 [00:46<00:00,  1.38it/s]\n"
          ]
        },
        {
          "output_type": "stream",
          "name": "stdout",
          "text": [
            "Extracted (38, 2051) features.\n",
            "Saved features to /content/drive/MyDrive/Sem-I/Multimodel Probilistic Machine Learning in Human Communication/Project/features/San Diego Police Officer Shoots Man Walking Towards Him With a Knife_features.npy\n",
            "First face found at 10s in Bodycam Shows Moments Before Cop Shot Man Reaching For Officer's Gun\n",
            "Processing Bodycam Shows Moments Before Cop Shot Man Reaching For Officer's Gun from 10s to 82s\n"
          ]
        },
        {
          "output_type": "stream",
          "name": "stderr",
          "text": [
            "Extracting features: 100%|██████████| 72/72 [00:46<00:00,  1.56it/s]\n"
          ]
        },
        {
          "output_type": "stream",
          "name": "stdout",
          "text": [
            "Extracted (24, 2051) features.\n",
            "Saved features to /content/drive/MyDrive/Sem-I/Multimodel Probilistic Machine Learning in Human Communication/Project/features/Bodycam Shows Moments Before Cop Shot Man Reaching For Officer's Gun_features.npy\n",
            "First face found at 38s in Police Officer Shoots Knife Wielding Suspect After Crashing Car Into Water\n",
            "Processing Police Officer Shoots Knife Wielding Suspect After Crashing Car Into Water from 38s to 151s\n"
          ]
        },
        {
          "output_type": "stream",
          "name": "stderr",
          "text": [
            "Extracting features: 100%|██████████| 113/113 [01:41<00:00,  1.11it/s]\n"
          ]
        },
        {
          "output_type": "stream",
          "name": "stdout",
          "text": [
            "Extracted (85, 2051) features.\n",
            "Saved features to /content/drive/MyDrive/Sem-I/Multimodel Probilistic Machine Learning in Human Communication/Project/features/Police Officer Shoots Knife Wielding Suspect After Crashing Car Into Water_features.npy\n",
            "First face found at 16s in Deputies Shoot Woman As She Raises a Shotgun Toward Them\n",
            "Processing Deputies Shoot Woman As She Raises a Shotgun Toward Them from 16s to 79s\n"
          ]
        },
        {
          "output_type": "stream",
          "name": "stderr",
          "text": [
            "Extracting features: 100%|██████████| 63/63 [00:40<00:00,  1.54it/s]\n"
          ]
        },
        {
          "output_type": "stream",
          "name": "stdout",
          "text": [
            "Extracted (19, 2051) features.\n",
            "Saved features to /content/drive/MyDrive/Sem-I/Multimodel Probilistic Machine Learning in Human Communication/Project/features/Deputies Shoot Woman As She Raises a Shotgun Toward Them_features.npy\n",
            "First face found at 0s in Cops Arrest Two Suspects After Being Caught Red-Handed With a Stolen Cash Register\n",
            "Processing Cops Arrest Two Suspects After Being Caught Red-Handed With a Stolen Cash Register from 0s to 66s\n"
          ]
        },
        {
          "output_type": "stream",
          "name": "stderr",
          "text": [
            "Extracting features: 100%|██████████| 66/66 [00:41<00:00,  1.60it/s]\n"
          ]
        },
        {
          "output_type": "stream",
          "name": "stdout",
          "text": [
            "Extracted (8, 2051) features.\n",
            "Saved features to /content/drive/MyDrive/Sem-I/Multimodel Probilistic Machine Learning in Human Communication/Project/features/Cops Arrest Two Suspects After Being Caught Red-Handed With a Stolen Cash Register_features.npy\n",
            "First face found at 50s in Orlando Officer Drive Off After Deputy Pulls Him Over For Speeding\n",
            "Processing Orlando Officer Drive Off After Deputy Pulls Him Over For Speeding from 50s to 156s\n"
          ]
        },
        {
          "output_type": "stream",
          "name": "stderr",
          "text": [
            "Extracting features: 100%|██████████| 106/106 [00:59<00:00,  1.78it/s]\n"
          ]
        },
        {
          "output_type": "stream",
          "name": "stdout",
          "text": [
            "Extracted (25, 2051) features.\n",
            "Saved features to /content/drive/MyDrive/Sem-I/Multimodel Probilistic Machine Learning in Human Communication/Project/features/Orlando Officer Drive Off After Deputy Pulls Him Over For Speeding_features.npy\n",
            "First face found at 50s in Bodycam Footage of Sandy Police Shooting 16-year-old in Stolen Army Van\n",
            "Processing Bodycam Footage of Sandy Police Shooting 16-year-old in Stolen Army Van from 50s to 117s\n"
          ]
        },
        {
          "output_type": "stream",
          "name": "stderr",
          "text": [
            "Extracting features: 100%|██████████| 67/67 [00:45<00:00,  1.47it/s]\n"
          ]
        },
        {
          "output_type": "stream",
          "name": "stdout",
          "text": [
            "Extracted (25, 2051) features.\n",
            "Saved features to /content/drive/MyDrive/Sem-I/Multimodel Probilistic Machine Learning in Human Communication/Project/features/Bodycam Footage of Sandy Police Shooting 16-year-old in Stolen Army Van_features.npy\n",
            "First face found at 2s in Ohio Woman Rams Police Cars in Attempt to Escape Arrest\n",
            "Processing Ohio Woman Rams Police Cars in Attempt to Escape Arrest from 2s to 85s\n"
          ]
        },
        {
          "output_type": "stream",
          "name": "stderr",
          "text": [
            "Extracting features: 100%|██████████| 83/83 [00:53<00:00,  1.56it/s]\n"
          ]
        },
        {
          "output_type": "stream",
          "name": "stdout",
          "text": [
            "Extracted (29, 2051) features.\n",
            "Saved features to /content/drive/MyDrive/Sem-I/Multimodel Probilistic Machine Learning in Human Communication/Project/features/Ohio Woman Rams Police Cars in Attempt to Escape Arrest_features.npy\n",
            "First face found at 6s in Santa Ana Police Shoot Armed Suspect During a Traffic Stop\n",
            "Processing Santa Ana Police Shoot Armed Suspect During a Traffic Stop from 6s to 80s\n"
          ]
        },
        {
          "output_type": "stream",
          "name": "stderr",
          "text": [
            "Extracting features: 100%|██████████| 74/74 [00:47<00:00,  1.57it/s]\n"
          ]
        },
        {
          "output_type": "stream",
          "name": "stdout",
          "text": [
            "Extracted (30, 2051) features.\n",
            "Saved features to /content/drive/MyDrive/Sem-I/Multimodel Probilistic Machine Learning in Human Communication/Project/features/Santa Ana Police Shoot Armed Suspect During a Traffic Stop_features.npy\n",
            "First face found at 10s in Albuquerque Police Shoot Man While Trying to Wrestle Gun From His Hands\n",
            "Processing Albuquerque Police Shoot Man While Trying to Wrestle Gun From His Hands from 10s to 88s\n"
          ]
        },
        {
          "output_type": "stream",
          "name": "stderr",
          "text": [
            "Extracting features: 100%|██████████| 78/78 [00:52<00:00,  1.50it/s]\n"
          ]
        },
        {
          "output_type": "stream",
          "name": "stdout",
          "text": [
            "Extracted (41, 2051) features.\n",
            "Saved features to /content/drive/MyDrive/Sem-I/Multimodel Probilistic Machine Learning in Human Communication/Project/features/Albuquerque Police Shoot Man While Trying to Wrestle Gun From His Hands_features.npy\n",
            "First face found at 56s in Cop Shoots at Restaurant Owner Holding Gun During Burglary Response\n",
            "Processing Cop Shoots at Restaurant Owner Holding Gun During Burglary Response from 56s to 75s\n"
          ]
        },
        {
          "output_type": "stream",
          "name": "stderr",
          "text": [
            "Extracting features: 100%|██████████| 19/19 [00:14<00:00,  1.32it/s]\n"
          ]
        },
        {
          "output_type": "stream",
          "name": "stdout",
          "text": [
            "Extracted (19, 2051) features.\n",
            "Saved features to /content/drive/MyDrive/Sem-I/Multimodel Probilistic Machine Learning in Human Communication/Project/features/Cop Shoots at Restaurant Owner Holding Gun During Burglary Response_features.npy\n",
            "First face found at 24s in Bodycam Video Shows NYPD Cops Shooting Man Charging at Them With Knife\n",
            "Processing Bodycam Video Shows NYPD Cops Shooting Man Charging at Them With Knife from 24s to 97s\n"
          ]
        },
        {
          "output_type": "stream",
          "name": "stderr",
          "text": [
            "Extracting features: 100%|██████████| 73/73 [01:04<00:00,  1.12it/s]\n"
          ]
        },
        {
          "output_type": "stream",
          "name": "stdout",
          "text": [
            "Extracted (47, 2051) features.\n",
            "Saved features to /content/drive/MyDrive/Sem-I/Multimodel Probilistic Machine Learning in Human Communication/Project/features/Bodycam Video Shows NYPD Cops Shooting Man Charging at Them With Knife_features.npy\n",
            "First face found at 16s in Officer Shoots Armed Man After He Points Gun in Greensboro Parking Lot\n",
            "Processing Officer Shoots Armed Man After He Points Gun in Greensboro Parking Lot from 16s to 85s\n"
          ]
        },
        {
          "output_type": "stream",
          "name": "stderr",
          "text": [
            "Extracting features: 100%|██████████| 69/69 [00:45<00:00,  1.52it/s]\n"
          ]
        },
        {
          "output_type": "stream",
          "name": "stdout",
          "text": [
            "Extracted (30, 2051) features.\n",
            "Saved features to /content/drive/MyDrive/Sem-I/Multimodel Probilistic Machine Learning in Human Communication/Project/features/Officer Shoots Armed Man After He Points Gun in Greensboro Parking Lot_features.npy\n",
            "First face found at 68s in Three Teenage Carjacking Suspects Lead Seattle Police on a High-Speed Chase\n",
            "Processing Three Teenage Carjacking Suspects Lead Seattle Police on a High-Speed Chase from 68s to 103s\n"
          ]
        },
        {
          "output_type": "stream",
          "name": "stderr",
          "text": [
            "Extracting features: 100%|██████████| 35/35 [00:24<00:00,  1.44it/s]\n"
          ]
        },
        {
          "output_type": "stream",
          "name": "stdout",
          "text": [
            "Extracted (23, 2051) features.\n",
            "Saved features to /content/drive/MyDrive/Sem-I/Multimodel Probilistic Machine Learning in Human Communication/Project/features/Three Teenage Carjacking Suspects Lead Seattle Police on a High-Speed Chase_features.npy\n",
            "First face found at 42s in DUI Suspect Crashes into JSO Cruiser on Mathews Bridge\n",
            "Processing DUI Suspect Crashes into JSO Cruiser on Mathews Bridge from 42s to 104s\n"
          ]
        },
        {
          "output_type": "stream",
          "name": "stderr",
          "text": [
            "Extracting features: 100%|██████████| 62/62 [00:34<00:00,  1.81it/s]\n"
          ]
        },
        {
          "output_type": "stream",
          "name": "stdout",
          "text": [
            "Extracted (21, 2051) features.\n",
            "Saved features to /content/drive/MyDrive/Sem-I/Multimodel Probilistic Machine Learning in Human Communication/Project/features/DUI Suspect Crashes into JSO Cruiser on Mathews Bridge_features.npy\n",
            "First face found at 34s in Armed Suspects Toss Guns While Fleeing Police\n",
            "Processing Armed Suspects Toss Guns While Fleeing Police from 34s to 106s\n"
          ]
        },
        {
          "output_type": "stream",
          "name": "stderr",
          "text": [
            "Extracting features: 100%|██████████| 72/72 [00:43<00:00,  1.67it/s]\n"
          ]
        },
        {
          "output_type": "stream",
          "name": "stdout",
          "text": [
            "Extracted (18, 2051) features.\n",
            "Saved features to /content/drive/MyDrive/Sem-I/Multimodel Probilistic Machine Learning in Human Communication/Project/features/Armed Suspects Toss Guns While Fleeing Police_features.npy\n",
            "First face found at 18s in Pueblo County Deputy Goes Unconscious During an Arrest For Suspected Fentanyl Possession\n",
            "Processing Pueblo County Deputy Goes Unconscious During an Arrest For Suspected Fentanyl Possession from 18s to 134s\n"
          ]
        },
        {
          "output_type": "stream",
          "name": "stderr",
          "text": [
            "Extracting features: 100%|██████████| 116/116 [01:07<00:00,  1.71it/s]\n"
          ]
        },
        {
          "output_type": "stream",
          "name": "stdout",
          "text": [
            "Extracted (57, 2051) features.\n",
            "Saved features to /content/drive/MyDrive/Sem-I/Multimodel Probilistic Machine Learning in Human Communication/Project/features/Pueblo County Deputy Goes Unconscious During an Arrest For Suspected Fentanyl Possession_features.npy\n",
            "First face found at 0s in Hightstown Police Officers Save Choking Baby\n",
            "Processing Hightstown Police Officers Save Choking Baby from 0s to 66s\n"
          ]
        },
        {
          "output_type": "stream",
          "name": "stderr",
          "text": [
            "Extracting features: 100%|██████████| 66/66 [00:48<00:00,  1.37it/s]\n"
          ]
        },
        {
          "output_type": "stream",
          "name": "stdout",
          "text": [
            "Extracted (36, 2051) features.\n",
            "Saved features to /content/drive/MyDrive/Sem-I/Multimodel Probilistic Machine Learning in Human Communication/Project/features/Hightstown Police Officers Save Choking Baby_features.npy\n",
            "First face found at 8s in Suspect Armed With Screwdriver Shot By LA Deputies\n",
            "Processing Suspect Armed With Screwdriver Shot By LA Deputies from 8s to 71s\n"
          ]
        },
        {
          "output_type": "stream",
          "name": "stderr",
          "text": [
            "Extracting features: 100%|██████████| 63/63 [00:32<00:00,  1.97it/s]\n"
          ]
        },
        {
          "output_type": "stream",
          "name": "stdout",
          "text": [
            "Extracted (19, 2051) features.\n",
            "Saved features to /content/drive/MyDrive/Sem-I/Multimodel Probilistic Machine Learning in Human Communication/Project/features/Suspect Armed With Screwdriver Shot By LA Deputies_features.npy\n",
            "First face found at 12s in Seattle Police Harbor Patrol Officers Rescue Man From Drowning in Portage Bay\n",
            "Processing Seattle Police Harbor Patrol Officers Rescue Man From Drowning in Portage Bay from 12s to 81s\n"
          ]
        },
        {
          "output_type": "stream",
          "name": "stderr",
          "text": [
            "Extracting features: 100%|██████████| 69/69 [00:39<00:00,  1.74it/s]\n"
          ]
        },
        {
          "output_type": "stream",
          "name": "stdout",
          "text": [
            "Extracted (17, 2051) features.\n",
            "Saved features to /content/drive/MyDrive/Sem-I/Multimodel Probilistic Machine Learning in Human Communication/Project/features/Seattle Police Harbor Patrol Officers Rescue Man From Drowning in Portage Bay_features.npy\n",
            "First face found at 22s in Police Use Taser to Subdue Knife-Wielding Man After Crashing Into 7-Eleven\n",
            "Processing Police Use Taser to Subdue Knife-Wielding Man After Crashing Into 7-Eleven from 22s to 91s\n"
          ]
        },
        {
          "output_type": "stream",
          "name": "stderr",
          "text": [
            "Extracting features: 100%|██████████| 69/69 [00:42<00:00,  1.64it/s]\n"
          ]
        },
        {
          "output_type": "stream",
          "name": "stdout",
          "text": [
            "Extracted (34, 2051) features.\n",
            "Saved features to /content/drive/MyDrive/Sem-I/Multimodel Probilistic Machine Learning in Human Communication/Project/features/Police Use Taser to Subdue Knife-Wielding Man After Crashing Into 7-Eleven_features.npy\n",
            "First face found at 8s in Bodycam Footage of Stockton Officer Shooting Woman After Chase\n",
            "Processing Bodycam Footage of Stockton Officer Shooting Woman After Chase from 8s to 157s\n"
          ]
        },
        {
          "output_type": "stream",
          "name": "stderr",
          "text": [
            "Extracting features: 100%|██████████| 149/149 [01:08<00:00,  2.19it/s]\n"
          ]
        },
        {
          "output_type": "stream",
          "name": "stdout",
          "text": [
            "Extracted (18, 2051) features.\n",
            "Saved features to /content/drive/MyDrive/Sem-I/Multimodel Probilistic Machine Learning in Human Communication/Project/features/Bodycam Footage of Stockton Officer Shooting Woman After Chase_features.npy\n",
            "First face found at 6s in Orange County Deputies Shoot Man Who Charged at Them With a Knife\n",
            "Processing Orange County Deputies Shoot Man Who Charged at Them With a Knife from 6s to 113s\n"
          ]
        },
        {
          "output_type": "stream",
          "name": "stderr",
          "text": [
            "Extracting features: 100%|██████████| 107/107 [01:11<00:00,  1.49it/s]\n"
          ]
        },
        {
          "output_type": "stream",
          "name": "stdout",
          "text": [
            "Extracted (53, 2051) features.\n",
            "Saved features to /content/drive/MyDrive/Sem-I/Multimodel Probilistic Machine Learning in Human Communication/Project/features/Orange County Deputies Shoot Man Who Charged at Them With a Knife_features.npy\n",
            "First face found at 36s in Parolee Drowns in Hudson River While Attempting to Flee From Police on a Bicycle\n",
            "Processing Parolee Drowns in Hudson River While Attempting to Flee From Police on a Bicycle from 36s to 170s\n"
          ]
        },
        {
          "output_type": "stream",
          "name": "stderr",
          "text": [
            "Extracting features: 100%|██████████| 134/134 [01:28<00:00,  1.51it/s]\n"
          ]
        },
        {
          "output_type": "stream",
          "name": "stdout",
          "text": [
            "Extracted (40, 2051) features.\n",
            "Saved features to /content/drive/MyDrive/Sem-I/Multimodel Probilistic Machine Learning in Human Communication/Project/features/Parolee Drowns in Hudson River While Attempting to Flee From Police on a Bicycle_features.npy\n",
            "First face found at 14s in Murder Suspect Gets Shot After Advancing Towards LA Deputies With a Knife\n",
            "Processing Murder Suspect Gets Shot After Advancing Towards LA Deputies With a Knife from 14s to 77s\n"
          ]
        },
        {
          "output_type": "stream",
          "name": "stderr",
          "text": [
            "Extracting features: 100%|██████████| 63/63 [00:44<00:00,  1.41it/s]\n"
          ]
        },
        {
          "output_type": "stream",
          "name": "stdout",
          "text": [
            "Extracted (36, 2051) features.\n",
            "Saved features to /content/drive/MyDrive/Sem-I/Multimodel Probilistic Machine Learning in Human Communication/Project/features/Murder Suspect Gets Shot After Advancing Towards LA Deputies With a Knife_features.npy\n",
            "First face found at 10s in Armed Suspect Shot by San Antonio Officer During Drainage Ditch Pursuit\n",
            "Processing Armed Suspect Shot by San Antonio Officer During Drainage Ditch Pursuit from 10s to 88s\n"
          ]
        },
        {
          "output_type": "stream",
          "name": "stderr",
          "text": [
            "Extracting features: 100%|██████████| 78/78 [00:54<00:00,  1.43it/s]\n"
          ]
        },
        {
          "output_type": "stream",
          "name": "stdout",
          "text": [
            "Extracted (38, 2051) features.\n",
            "Saved features to /content/drive/MyDrive/Sem-I/Multimodel Probilistic Machine Learning in Human Communication/Project/features/Armed Suspect Shot by San Antonio Officer During Drainage Ditch Pursuit_features.npy\n",
            "First face found at 4s in NYPD Cop Strikes Woman Interfering in Arrest of Armed Attempted Murder Suspect\n",
            "Processing NYPD Cop Strikes Woman Interfering in Arrest of Armed Attempted Murder Suspect from 4s to 75s\n"
          ]
        },
        {
          "output_type": "stream",
          "name": "stderr",
          "text": [
            "Extracting features: 100%|██████████| 71/71 [01:02<00:00,  1.14it/s]\n"
          ]
        },
        {
          "output_type": "stream",
          "name": "stdout",
          "text": [
            "Extracted (52, 2051) features.\n",
            "Saved features to /content/drive/MyDrive/Sem-I/Multimodel Probilistic Machine Learning in Human Communication/Project/features/NYPD Cop Strikes Woman Interfering in Arrest of Armed Attempted Murder Suspect_features.npy\n",
            "First face found at 38s in Long Beach Officer Shoots Suspect After He Pulls a Gun Out of His Pocket\n",
            "Processing Long Beach Officer Shoots Suspect After He Pulls a Gun Out of His Pocket from 38s to 171s\n"
          ]
        },
        {
          "output_type": "stream",
          "name": "stderr",
          "text": [
            "Extracting features: 100%|██████████| 133/133 [01:33<00:00,  1.42it/s]\n"
          ]
        },
        {
          "output_type": "stream",
          "name": "stdout",
          "text": [
            "Extracted (84, 2051) features.\n",
            "Saved features to /content/drive/MyDrive/Sem-I/Multimodel Probilistic Machine Learning in Human Communication/Project/features/Long Beach Officer Shoots Suspect After He Pulls a Gun Out of His Pocket_features.npy\n",
            "First face found at 8s in Florida Deputies Borrow Family's Boat To Arrest Jet Ski Theft Suspect\n",
            "Processing Florida Deputies Borrow Family's Boat To Arrest Jet Ski Theft Suspect from 8s to 98s\n"
          ]
        },
        {
          "output_type": "stream",
          "name": "stderr",
          "text": [
            "Extracting features: 100%|██████████| 90/90 [00:46<00:00,  1.94it/s]\n"
          ]
        },
        {
          "output_type": "stream",
          "name": "stdout",
          "text": [
            "Extracted (18, 2051) features.\n",
            "Saved features to /content/drive/MyDrive/Sem-I/Multimodel Probilistic Machine Learning in Human Communication/Project/features/Florida Deputies Borrow Family's Boat To Arrest Jet Ski Theft Suspect_features.npy\n",
            "First face found at 6s in Man Shoots a Rookie NYPD Cop Over a Bus Seat\n",
            "Processing Man Shoots a Rookie NYPD Cop Over a Bus Seat from 6s to 96s\n"
          ]
        },
        {
          "output_type": "stream",
          "name": "stderr",
          "text": [
            "Extracting features: 100%|██████████| 90/90 [00:59<00:00,  1.51it/s]\n"
          ]
        },
        {
          "output_type": "stream",
          "name": "stdout",
          "text": [
            "Extracted (56, 2051) features.\n",
            "Saved features to /content/drive/MyDrive/Sem-I/Multimodel Probilistic Machine Learning in Human Communication/Project/features/Man Shoots a Rookie NYPD Cop Over a Bus Seat_features.npy\n",
            "First face found at 6s in Pursuit Ends in Deputy-Involved Shooting After Suspect Drives Away During a Traffic Stop\n",
            "Processing Pursuit Ends in Deputy-Involved Shooting After Suspect Drives Away During a Traffic Stop from 6s to 83s\n"
          ]
        },
        {
          "output_type": "stream",
          "name": "stderr",
          "text": [
            "Extracting features: 100%|██████████| 77/77 [00:45<00:00,  1.70it/s]\n"
          ]
        },
        {
          "output_type": "stream",
          "name": "stdout",
          "text": [
            "Extracted (40, 2051) features.\n",
            "Saved features to /content/drive/MyDrive/Sem-I/Multimodel Probilistic Machine Learning in Human Communication/Project/features/Pursuit Ends in Deputy-Involved Shooting After Suspect Drives Away During a Traffic Stop_features.npy\n",
            "First face found at 2s in Kalamazoo Police Officers Rescue Man Trapped Under Van\n",
            "Processing Kalamazoo Police Officers Rescue Man Trapped Under Van from 2s to 92s\n"
          ]
        },
        {
          "output_type": "stream",
          "name": "stderr",
          "text": [
            "Extracting features: 100%|██████████| 90/90 [01:01<00:00,  1.45it/s]\n"
          ]
        },
        {
          "output_type": "stream",
          "name": "stdout",
          "text": [
            "Extracted (44, 2051) features.\n",
            "Saved features to /content/drive/MyDrive/Sem-I/Multimodel Probilistic Machine Learning in Human Communication/Project/features/Kalamazoo Police Officers Rescue Man Trapped Under Van_features.npy\n",
            "First face found at 26s in Florida Woman Attempts to Scale Apartment Building to Avoid Arrest\n",
            "Processing Florida Woman Attempts to Scale Apartment Building to Avoid Arrest from 26s to 81s\n"
          ]
        },
        {
          "output_type": "stream",
          "name": "stderr",
          "text": [
            "Extracting features: 100%|██████████| 55/55 [00:37<00:00,  1.46it/s]\n"
          ]
        },
        {
          "output_type": "stream",
          "name": "stdout",
          "text": [
            "Extracted (31, 2051) features.\n",
            "Saved features to /content/drive/MyDrive/Sem-I/Multimodel Probilistic Machine Learning in Human Communication/Project/features/Florida Woman Attempts to Scale Apartment Building to Avoid Arrest_features.npy\n",
            "First face found at 16s in 14-year-old Boy Crashes Stolen Car while Fleeing From Officers on icy Roads\n",
            "Processing 14-year-old Boy Crashes Stolen Car while Fleeing From Officers on icy Roads from 16s to 156s\n"
          ]
        },
        {
          "output_type": "stream",
          "name": "stderr",
          "text": [
            "Extracting features: 100%|██████████| 140/140 [01:26<00:00,  1.62it/s]\n"
          ]
        },
        {
          "output_type": "stream",
          "name": "stdout",
          "text": [
            "Extracted (40, 2051) features.\n",
            "Saved features to /content/drive/MyDrive/Sem-I/Multimodel Probilistic Machine Learning in Human Communication/Project/features/14-year-old Boy Crashes Stolen Car while Fleeing From Officers on icy Roads_features.npy\n",
            "First face found at 36s in Bodycam Shows Officers Catch Fleeing Suspect After Burglary in Atlanta, Georgia\n",
            "Processing Bodycam Shows Officers Catch Fleeing Suspect After Burglary in Atlanta, Georgia from 36s to 49s\n"
          ]
        },
        {
          "output_type": "stream",
          "name": "stderr",
          "text": [
            "Extracting features: 100%|██████████| 13/13 [00:07<00:00,  1.73it/s]\n"
          ]
        },
        {
          "output_type": "stream",
          "name": "stdout",
          "text": [
            "Extracted (1, 2051) features.\n",
            "Saved features to /content/drive/MyDrive/Sem-I/Multimodel Probilistic Machine Learning in Human Communication/Project/features/Bodycam Shows Officers Catch Fleeing Suspect After Burglary in Atlanta, Georgia_features.npy\n",
            "First face found at 18s in Ohio Cop Sparta Kicks Suspect\n",
            "Processing Ohio Cop Sparta Kicks Suspect from 18s to 147s\n"
          ]
        },
        {
          "output_type": "stream",
          "name": "stderr",
          "text": [
            "Extracting features: 100%|██████████| 129/129 [01:28<00:00,  1.45it/s]\n"
          ]
        },
        {
          "output_type": "stream",
          "name": "stdout",
          "text": [
            "Extracted (81, 2051) features.\n",
            "Saved features to /content/drive/MyDrive/Sem-I/Multimodel Probilistic Machine Learning in Human Communication/Project/features/Ohio Cop Sparta Kicks Suspect_features.npy\n",
            "First face found at 8s in Bodycam Shows Car Theft Suspect Repeatedly Reach For Officer’s Gun During a Struggle\n",
            "Processing Bodycam Shows Car Theft Suspect Repeatedly Reach For Officer’s Gun During a Struggle from 8s to 92s\n"
          ]
        },
        {
          "output_type": "stream",
          "name": "stderr",
          "text": [
            "Extracting features: 100%|██████████| 84/84 [00:53<00:00,  1.57it/s]\n"
          ]
        },
        {
          "output_type": "stream",
          "name": "stdout",
          "text": [
            "Extracted (30, 2051) features.\n",
            "Saved features to /content/drive/MyDrive/Sem-I/Multimodel Probilistic Machine Learning in Human Communication/Project/features/Bodycam Shows Car Theft Suspect Repeatedly Reach For Officer’s Gun During a Struggle_features.npy\n",
            "First face found at 18s in LA County Deputy Shoots Armed Robbery Suspect Through Windshield\n",
            "Processing LA County Deputy Shoots Armed Robbery Suspect Through Windshield from 18s to 170s\n"
          ]
        },
        {
          "output_type": "stream",
          "name": "stderr",
          "text": [
            "Extracting features: 100%|██████████| 152/152 [01:35<00:00,  1.59it/s]\n"
          ]
        },
        {
          "output_type": "stream",
          "name": "stdout",
          "text": [
            "Extracted (60, 2051) features.\n",
            "Saved features to /content/drive/MyDrive/Sem-I/Multimodel Probilistic Machine Learning in Human Communication/Project/features/LA County Deputy Shoots Armed Robbery Suspect Through Windshield_features.npy\n",
            "First face found at 6s in Florida SWAT Sniper Shoots Bank Robbery Suspect Through Computer Monitor During a Hostage Situation\n",
            "Processing Florida SWAT Sniper Shoots Bank Robbery Suspect Through Computer Monitor During a Hostage Situation from 6s to 101s\n"
          ]
        },
        {
          "output_type": "stream",
          "name": "stderr",
          "text": [
            "Extracting features: 100%|██████████| 95/95 [01:00<00:00,  1.58it/s]\n"
          ]
        },
        {
          "output_type": "stream",
          "name": "stdout",
          "text": [
            "Extracted (57, 2051) features.\n",
            "Saved features to /content/drive/MyDrive/Sem-I/Multimodel Probilistic Machine Learning in Human Communication/Project/features/Florida SWAT Sniper Shoots Bank Robbery Suspect Through Computer Monitor During a Hostage Situation_features.npy\n",
            "First face found at 4s in Florida Deputy Jumps into Canal to Rescue Stranded Dog\n",
            "Processing Florida Deputy Jumps into Canal to Rescue Stranded Dog from 4s to 166s\n"
          ]
        },
        {
          "output_type": "stream",
          "name": "stderr",
          "text": [
            "Extracting features: 100%|██████████| 162/162 [02:10<00:00,  1.24it/s]\n"
          ]
        },
        {
          "output_type": "stream",
          "name": "stdout",
          "text": [
            "Extracted (85, 2051) features.\n",
            "Saved features to /content/drive/MyDrive/Sem-I/Multimodel Probilistic Machine Learning in Human Communication/Project/features/Florida Deputy Jumps into Canal to Rescue Stranded Dog_features.npy\n",
            "First face found at 4s in Deputies Shoot Armed Suspect After Pursuit Ends in 7-11 Crash\n",
            "Processing Deputies Shoot Armed Suspect After Pursuit Ends in 7-11 Crash from 4s to 79s\n"
          ]
        },
        {
          "output_type": "stream",
          "name": "stderr",
          "text": [
            "Extracting features: 100%|██████████| 75/75 [00:57<00:00,  1.31it/s]\n"
          ]
        },
        {
          "output_type": "stream",
          "name": "stdout",
          "text": [
            "Extracted (38, 2051) features.\n",
            "Saved features to /content/drive/MyDrive/Sem-I/Multimodel Probilistic Machine Learning in Human Communication/Project/features/Deputies Shoot Armed Suspect After Pursuit Ends in 7-11 Crash_features.npy\n",
            "First face found at 8s in Suspect Gets Shot After Pointing Gun at Officers in Boise, Idaho\n",
            "Processing Suspect Gets Shot After Pointing Gun at Officers in Boise, Idaho from 8s to 69s\n"
          ]
        },
        {
          "output_type": "stream",
          "name": "stderr",
          "text": [
            "Extracting features: 100%|██████████| 61/61 [00:41<00:00,  1.47it/s]\n"
          ]
        },
        {
          "output_type": "stream",
          "name": "stdout",
          "text": [
            "Extracted (21, 2051) features.\n",
            "Saved features to /content/drive/MyDrive/Sem-I/Multimodel Probilistic Machine Learning in Human Communication/Project/features/Suspect Gets Shot After Pointing Gun at Officers in Boise, Idaho_features.npy\n",
            "First face found at 6s in Car Launches Off Tow Truck Ramp in Lowndes County, Georgia\n",
            "Processing Car Launches Off Tow Truck Ramp in Lowndes County, Georgia from 6s to 63s\n"
          ]
        },
        {
          "output_type": "stream",
          "name": "stderr",
          "text": [
            "Extracting features: 100%|██████████| 57/57 [00:36<00:00,  1.56it/s]\n"
          ]
        },
        {
          "output_type": "stream",
          "name": "stdout",
          "text": [
            "Extracted (22, 2051) features.\n",
            "Saved features to /content/drive/MyDrive/Sem-I/Multimodel Probilistic Machine Learning in Human Communication/Project/features/Car Launches Off Tow Truck Ramp in Lowndes County, Georgia_features.npy\n",
            "First face found at 8s in Albuquerque Police Officers Chase Shoplifting Suspect on Horseback\n",
            "Processing Albuquerque Police Officers Chase Shoplifting Suspect on Horseback from 8s to 70s\n"
          ]
        },
        {
          "output_type": "stream",
          "name": "stderr",
          "text": [
            "Extracting features: 100%|██████████| 62/62 [00:27<00:00,  2.29it/s]\n"
          ]
        },
        {
          "output_type": "stream",
          "name": "stdout",
          "text": [
            "Extracted (8, 2051) features.\n",
            "Saved features to /content/drive/MyDrive/Sem-I/Multimodel Probilistic Machine Learning in Human Communication/Project/features/Albuquerque Police Officers Chase Shoplifting Suspect on Horseback_features.npy\n",
            "First face found at 6s in Fresno Officer Shoots Masked 15-year-old Boy Pulling Replica Gun From Waistband\n",
            "Processing Fresno Officer Shoots Masked 15-year-old Boy Pulling Replica Gun From Waistband from 6s to 76s\n"
          ]
        },
        {
          "output_type": "stream",
          "name": "stderr",
          "text": [
            "Extracting features: 100%|██████████| 70/70 [00:59<00:00,  1.17it/s]\n"
          ]
        },
        {
          "output_type": "stream",
          "name": "stdout",
          "text": [
            "Extracted (56, 2051) features.\n",
            "Saved features to /content/drive/MyDrive/Sem-I/Multimodel Probilistic Machine Learning in Human Communication/Project/features/Fresno Officer Shoots Masked 15-year-old Boy Pulling Replica Gun From Waistband_features.npy\n",
            "First face found at 6s in San Marcos Police Officer Shoots Suspect Armed With Knives During Foot Pursuit\n",
            "Processing San Marcos Police Officer Shoots Suspect Armed With Knives During Foot Pursuit from 6s to 90s\n"
          ]
        },
        {
          "output_type": "stream",
          "name": "stderr",
          "text": [
            "Extracting features: 100%|██████████| 84/84 [00:59<00:00,  1.42it/s]\n"
          ]
        },
        {
          "output_type": "stream",
          "name": "stdout",
          "text": [
            "Extracted (32, 2051) features.\n",
            "Saved features to /content/drive/MyDrive/Sem-I/Multimodel Probilistic Machine Learning in Human Communication/Project/features/San Marcos Police Officer Shoots Suspect Armed With Knives During Foot Pursuit_features.npy\n",
            "First face found at 2s in Trooper Catches Dog Trying To Flee From a Traffic Stop\n",
            "Processing Trooper Catches Dog Trying To Flee From a Traffic Stop from 2s to 36s\n"
          ]
        },
        {
          "output_type": "stream",
          "name": "stderr",
          "text": [
            "Extracting features: 100%|██████████| 34/34 [00:18<00:00,  1.83it/s]\n"
          ]
        },
        {
          "output_type": "stream",
          "name": "stdout",
          "text": [
            "Extracted (8, 2051) features.\n",
            "Saved features to /content/drive/MyDrive/Sem-I/Multimodel Probilistic Machine Learning in Human Communication/Project/features/Trooper Catches Dog Trying To Flee From a Traffic Stop_features.npy\n",
            "First face found at 14s in Austin Police Officers Help Child Choking On Candy\n",
            "Processing Austin Police Officers Help Child Choking On Candy from 14s to 139s\n"
          ]
        },
        {
          "output_type": "stream",
          "name": "stderr",
          "text": [
            "Extracting features: 100%|██████████| 125/125 [01:32<00:00,  1.35it/s]\n"
          ]
        },
        {
          "output_type": "stream",
          "name": "stdout",
          "text": [
            "Extracted (88, 2051) features.\n",
            "Saved features to /content/drive/MyDrive/Sem-I/Multimodel Probilistic Machine Learning in Human Communication/Project/features/Austin Police Officers Help Child Choking On Candy_features.npy\n",
            "First face found at 16s in Man Fleeing Ohio Police With Abducted infant Crashes into House\n",
            "Processing Man Fleeing Ohio Police With Abducted infant Crashes into House from 16s to 110s\n"
          ]
        },
        {
          "output_type": "stream",
          "name": "stderr",
          "text": [
            "Extracting features: 100%|██████████| 94/94 [00:55<00:00,  1.68it/s]\n"
          ]
        },
        {
          "output_type": "stream",
          "name": "stdout",
          "text": [
            "Extracted (32, 2051) features.\n",
            "Saved features to /content/drive/MyDrive/Sem-I/Multimodel Probilistic Machine Learning in Human Communication/Project/features/Man Fleeing Ohio Police With Abducted infant Crashes into House_features.npy\n",
            "First face found at 6s in Police PIT Maneuver Sends Armed Robbery Suspects’ Car Rolling in Pursuit\n",
            "Processing Police PIT Maneuver Sends Armed Robbery Suspects’ Car Rolling in Pursuit from 6s to 91s\n"
          ]
        },
        {
          "output_type": "stream",
          "name": "stderr",
          "text": [
            "Extracting features: 100%|██████████| 85/85 [00:59<00:00,  1.44it/s]\n"
          ]
        },
        {
          "output_type": "stream",
          "name": "stdout",
          "text": [
            "Extracted (28, 2051) features.\n",
            "Saved features to /content/drive/MyDrive/Sem-I/Multimodel Probilistic Machine Learning in Human Communication/Project/features/Police PIT Maneuver Sends Armed Robbery Suspects’ Car Rolling in Pursuit_features.npy\n",
            "First face found at 24s in Suspect Crashes into Hillsborough Deputy’s Vehicle While Attempting to Evade Arrest\n",
            "Processing Suspect Crashes into Hillsborough Deputy’s Vehicle While Attempting to Evade Arrest from 24s to 85s\n"
          ]
        },
        {
          "output_type": "stream",
          "name": "stderr",
          "text": [
            "Extracting features: 100%|██████████| 61/61 [00:47<00:00,  1.29it/s]\n"
          ]
        },
        {
          "output_type": "stream",
          "name": "stdout",
          "text": [
            "Extracted (28, 2051) features.\n",
            "Saved features to /content/drive/MyDrive/Sem-I/Multimodel Probilistic Machine Learning in Human Communication/Project/features/Suspect Crashes into Hillsborough Deputy’s Vehicle While Attempting to Evade Arrest_features.npy\n",
            "First face found at 6s in Bodycam Shows Armed Woman Being Tased by Deputy in Florida Walmart\n",
            "Processing Bodycam Shows Armed Woman Being Tased by Deputy in Florida Walmart from 6s to 75s\n"
          ]
        },
        {
          "output_type": "stream",
          "name": "stderr",
          "text": [
            "Extracting features: 100%|██████████| 69/69 [01:05<00:00,  1.05it/s]\n"
          ]
        },
        {
          "output_type": "stream",
          "name": "stdout",
          "text": [
            "Extracted (69, 2051) features.\n",
            "Saved features to /content/drive/MyDrive/Sem-I/Multimodel Probilistic Machine Learning in Human Communication/Project/features/Bodycam Shows Armed Woman Being Tased by Deputy in Florida Walmart_features.npy\n",
            "First face found at 10s in Tallahassee Officer Delivers Uber Eats Order After Delivery Man's Bike Breaks Down\n",
            "Processing Tallahassee Officer Delivers Uber Eats Order After Delivery Man's Bike Breaks Down from 10s to 109s\n"
          ]
        },
        {
          "output_type": "stream",
          "name": "stderr",
          "text": [
            "Extracting features: 100%|██████████| 99/99 [01:11<00:00,  1.38it/s]\n"
          ]
        },
        {
          "output_type": "stream",
          "name": "stdout",
          "text": [
            "Extracted (58, 2051) features.\n",
            "Saved features to /content/drive/MyDrive/Sem-I/Multimodel Probilistic Machine Learning in Human Communication/Project/features/Tallahassee Officer Delivers Uber Eats Order After Delivery Man's Bike Breaks Down_features.npy\n",
            "First face found at 10s in Bridgeport Officer Opens Fire After Suspect Pulls Gun During Foot Chase\n",
            "Processing Bridgeport Officer Opens Fire After Suspect Pulls Gun During Foot Chase from 10s to 97s\n"
          ]
        },
        {
          "output_type": "stream",
          "name": "stderr",
          "text": [
            "Extracting features: 100%|██████████| 87/87 [00:57<00:00,  1.52it/s]\n"
          ]
        },
        {
          "output_type": "stream",
          "name": "stdout",
          "text": [
            "Extracted (29, 2051) features.\n",
            "Saved features to /content/drive/MyDrive/Sem-I/Multimodel Probilistic Machine Learning in Human Communication/Project/features/Bridgeport Officer Opens Fire After Suspect Pulls Gun During Foot Chase_features.npy\n",
            "First face found at 0s in Oklahoma State Trooper Stays Calm While Being Shot At During High Speed Chase\n",
            "Processing Oklahoma State Trooper Stays Calm While Being Shot At During High Speed Chase from 0s to 83s\n"
          ]
        },
        {
          "output_type": "stream",
          "name": "stderr",
          "text": [
            "Extracting features: 100%|██████████| 83/83 [01:02<00:00,  1.32it/s]\n"
          ]
        },
        {
          "output_type": "stream",
          "name": "stdout",
          "text": [
            "Extracted (81, 2051) features.\n",
            "Saved features to /content/drive/MyDrive/Sem-I/Multimodel Probilistic Machine Learning in Human Communication/Project/features/Oklahoma State Trooper Stays Calm While Being Shot At During High Speed Chase_features.npy\n",
            "First face found at 14s in Bodycam Footage of Oklahoma City Police Officers Shooting Knife-Wielding Suspect\n",
            "Processing Bodycam Footage of Oklahoma City Police Officers Shooting Knife-Wielding Suspect from 14s to 94s\n"
          ]
        },
        {
          "output_type": "stream",
          "name": "stderr",
          "text": [
            "Extracting features: 100%|██████████| 80/80 [00:51<00:00,  1.55it/s]\n"
          ]
        },
        {
          "output_type": "stream",
          "name": "stdout",
          "text": [
            "Extracted (41, 2051) features.\n",
            "Saved features to /content/drive/MyDrive/Sem-I/Multimodel Probilistic Machine Learning in Human Communication/Project/features/Bodycam Footage of Oklahoma City Police Officers Shooting Knife-Wielding Suspect_features.npy\n",
            "First face found at 0s in Woman Tries Flirting With Trooper Before Human Smuggling Arrest\n",
            "Processing Woman Tries Flirting With Trooper Before Human Smuggling Arrest from 0s to 99s\n"
          ]
        },
        {
          "output_type": "stream",
          "name": "stderr",
          "text": [
            "Extracting features: 100%|██████████| 99/99 [00:58<00:00,  1.69it/s]\n"
          ]
        },
        {
          "output_type": "stream",
          "name": "stdout",
          "text": [
            "Extracted (67, 2051) features.\n",
            "Saved features to /content/drive/MyDrive/Sem-I/Multimodel Probilistic Machine Learning in Human Communication/Project/features/Woman Tries Flirting With Trooper Before Human Smuggling Arrest_features.npy\n",
            "First face found at 0s in Deputies Rescue Kids Abandoned in Woods by Suspect On-the-Run\n",
            "Processing Deputies Rescue Kids Abandoned in Woods by Suspect On-the-Run from 0s to 151s\n"
          ]
        },
        {
          "output_type": "stream",
          "name": "stderr",
          "text": [
            "Extracting features: 100%|██████████| 151/151 [01:52<00:00,  1.34it/s]\n"
          ]
        },
        {
          "output_type": "stream",
          "name": "stdout",
          "text": [
            "Extracted (94, 2051) features.\n",
            "Saved features to /content/drive/MyDrive/Sem-I/Multimodel Probilistic Machine Learning in Human Communication/Project/features/Deputies Rescue Kids Abandoned in Woods by Suspect On-the-Run_features.npy\n",
            "First face found at 0s in Louisville Police Officer Save Unconscious Newborn Baby\n",
            "Processing Louisville Police Officer Save Unconscious Newborn Baby from 0s to 49s\n"
          ]
        },
        {
          "output_type": "stream",
          "name": "stderr",
          "text": [
            "Extracting features: 100%|██████████| 49/49 [00:36<00:00,  1.34it/s]\n"
          ]
        },
        {
          "output_type": "stream",
          "name": "stdout",
          "text": [
            "Extracted (46, 2051) features.\n",
            "Saved features to /content/drive/MyDrive/Sem-I/Multimodel Probilistic Machine Learning in Human Communication/Project/features/Louisville Police Officer Save Unconscious Newborn Baby_features.npy\n",
            "First face found at 6s in Armed Suspect Shot by Deputy During Domestic Disturbance in Castaic, California\n",
            "Processing Armed Suspect Shot by Deputy During Domestic Disturbance in Castaic, California from 6s to 98s\n"
          ]
        },
        {
          "output_type": "stream",
          "name": "stderr",
          "text": [
            "Extracting features: 100%|██████████| 92/92 [01:00<00:00,  1.51it/s]\n"
          ]
        },
        {
          "output_type": "stream",
          "name": "stdout",
          "text": [
            "Extracted (51, 2051) features.\n",
            "Saved features to /content/drive/MyDrive/Sem-I/Multimodel Probilistic Machine Learning in Human Communication/Project/features/Armed Suspect Shot by Deputy During Domestic Disturbance in Castaic, California_features.npy\n",
            "First face found at 28s in Man Shot After Pointing Airsoft Rifle at Cedar Rapids Police Officer\n",
            "Processing Man Shot After Pointing Airsoft Rifle at Cedar Rapids Police Officer from 28s to 92s\n"
          ]
        },
        {
          "output_type": "stream",
          "name": "stderr",
          "text": [
            "Extracting features: 100%|██████████| 64/64 [00:44<00:00,  1.44it/s]"
          ]
        },
        {
          "output_type": "stream",
          "name": "stdout",
          "text": [
            "Extracted (35, 2051) features.\n",
            "Saved features to /content/drive/MyDrive/Sem-I/Multimodel Probilistic Machine Learning in Human Communication/Project/features/Man Shot After Pointing Airsoft Rifle at Cedar Rapids Police Officer_features.npy\n"
          ]
        },
        {
          "output_type": "stream",
          "name": "stderr",
          "text": [
            "\n"
          ]
        }
      ]
    },
    {
      "cell_type": "markdown",
      "source": [
        "Train the model"
      ],
      "metadata": {
        "id": "rolVppF0Inmh"
      }
    },
    {
      "cell_type": "code",
      "source": [
        "class VideoFeatureDataset(Dataset):\n",
        "    def __init__(self, dataframe, feature_dir):\n",
        "        self.data = dataframe\n",
        "        self.feature_dir = feature_dir\n",
        "\n",
        "    def __len__(self):\n",
        "        return len(self.data)\n",
        "\n",
        "    def __getitem__(self, idx):\n",
        "        row = self.data.iloc[idx]\n",
        "        filename = row['titles'] + '_features.npy'\n",
        "        feature_path = os.path.join(self.feature_dir, filename)\n",
        "        features = np.load(feature_path)\n",
        "        features_tensor = torch.tensor(features, dtype=torch.float32)\n",
        "        seq_len = features_tensor.shape[0]\n",
        "        label_violent = torch.tensor(row['is_violent'], dtype=torch.float32)\n",
        "        return features_tensor, seq_len, label_violent"
      ],
      "metadata": {
        "id": "ilIXOBlcJD4t"
      },
      "execution_count": null,
      "outputs": []
    },
    {
      "cell_type": "code",
      "source": [
        "def collate_fn(batch):\n",
        "    batch.sort(key=lambda x: x[1], reverse=True)\n",
        "    features, seq_lens, violent_labels = zip(*batch)\n",
        "    padded_features = pad_sequence(features, batch_first=True)\n",
        "    seq_lens = torch.tensor(seq_lens)\n",
        "    return padded_features, seq_lens, torch.stack(violent_labels)"
      ],
      "metadata": {
        "id": "ESJ256gkJGlb"
      },
      "execution_count": null,
      "outputs": []
    },
    {
      "cell_type": "code",
      "source": [
        "class SimpleGRUClassifier(nn.Module):\n",
        "    def __init__(self, input_size=2051, hidden_size=512, num_layers=2):\n",
        "        super(SimpleGRUClassifier, self).__init__()\n",
        "        self.gru = nn.GRU(input_size, hidden_size, num_layers,\n",
        "                          batch_first=True, bidirectional=True)\n",
        "        self.fc_violent = nn.Linear(hidden_size * 2, 1)\n",
        "\n",
        "    def forward(self, x, seq_lens):\n",
        "        packed = pack_padded_sequence(x, seq_lens.cpu(), batch_first=True, enforce_sorted=True)\n",
        "        packed_out, _ = self.gru(packed)\n",
        "        out, _ = pad_packed_sequence(packed_out, batch_first=True)\n",
        "        idx = (seq_lens - 1).view(-1, 1, 1).expand(out.size(0), 1, out.size(2))\n",
        "        last_outputs = out.gather(1, idx).squeeze(1)\n",
        "        violent_out = torch.sigmoid(self.fc_violent(last_outputs)).view(-1)\n",
        "        return violent_out"
      ],
      "metadata": {
        "id": "zv4igGOaJKe9"
      },
      "execution_count": null,
      "outputs": []
    },
    {
      "cell_type": "code",
      "source": [
        "def train_and_validate(epochs):\n",
        "\n",
        "    print(f\"Total samples with features: {len(df)}\")\n",
        "\n",
        "    train_df, val_df = train_test_split(df, test_size=0.2, random_state=42)\n",
        "    print(f\"Train samples: {len(train_df)}, Validation samples: {len(val_df)}\")\n",
        "\n",
        "    train_dataset = VideoFeatureDataset(train_df, features_dir)\n",
        "    val_dataset = VideoFeatureDataset(val_df, features_dir)\n",
        "\n",
        "    train_loader = DataLoader(train_dataset, batch_size=8, shuffle=True, collate_fn=collate_fn)\n",
        "    val_loader = DataLoader(val_dataset, batch_size=8, shuffle=False, collate_fn=collate_fn)\n",
        "\n",
        "\n",
        "    model = SimpleGRUClassifier(input_size=2051, hidden_size=512, num_layers=2).to(device)\n",
        "    criterion = nn.BCELoss()\n",
        "    optimizer = torch.optim.Adam(model.parameters(), lr=1e-3)\n",
        "\n",
        "    history = {\n",
        "        'train_loss': [],\n",
        "        'train_acc': [],\n",
        "        'train_f1': [],\n",
        "        'val_loss': [],\n",
        "        'val_acc': [],\n",
        "        'val_f1': []\n",
        "    }\n",
        "\n",
        "    for epoch in range(epochs):\n",
        "        model.train()\n",
        "        train_loss, preds_train, labels_train = 0.0, [], []\n",
        "        print(f\"\\nEpoch {epoch + 1}/{epochs}\")\n",
        "        for features, seq_lens, violent_labels in tqdm(train_loader, desc=\"Training\", ncols=100):\n",
        "            features, seq_lens, violent_labels = features.to(device), seq_lens.to(device), violent_labels.to(device)\n",
        "            pred_violent = model(features, seq_lens)\n",
        "            loss = criterion(pred_violent, violent_labels)\n",
        "            optimizer.zero_grad()\n",
        "            loss.backward()\n",
        "            optimizer.step()\n",
        "            train_loss += loss.item()\n",
        "            preds_train += (pred_violent > 0.5).int().cpu().tolist()\n",
        "            labels_train += violent_labels.int().cpu().tolist()\n",
        "\n",
        "        train_acc = accuracy_score(labels_train, preds_train)\n",
        "        train_f1 = f1_score(labels_train, preds_train)\n",
        "        history['train_loss'].append(train_loss)\n",
        "        history['train_acc'].append(train_acc)\n",
        "        history['train_f1'].append(train_f1)\n",
        "        print(f\"Train - Loss: {train_loss:.4f} | Acc: {train_acc:.3f}, F1: {train_f1:.3f}\")\n",
        "\n",
        "\n",
        "        model.eval()\n",
        "        val_loss, preds_val, labels_val = 0.0, [], []\n",
        "        with torch.no_grad():\n",
        "            for features, seq_lens, violent_labels in tqdm(val_loader, desc=\"Validating\", ncols=100):\n",
        "                features, seq_lens, violent_labels = features.to(device), seq_lens.to(device), violent_labels.to(device)\n",
        "                pred_violent= model(features, seq_lens)\n",
        "                loss = criterion(pred_violent, violent_labels)\n",
        "                val_loss += loss.item()\n",
        "                preds_val += (pred_violent > 0.5).int().cpu().tolist()\n",
        "                labels_val += violent_labels.int().cpu().tolist()\n",
        "\n",
        "        val_acc = accuracy_score(labels_val, preds_val)\n",
        "        val_f1 = f1_score(labels_val, preds_val)\n",
        "        history['val_loss'].append(val_loss)\n",
        "        history['val_acc'].append(val_acc)\n",
        "        history['val_f1'].append(val_f1)\n",
        "        print(f\"Validation - Loss: {val_loss:.4f} | Acc: {val_acc:.3f}, F1: {val_f1:.3f}\")\n",
        "\n",
        "\n",
        "    torch.save(model.state_dict(), f\"gru_violent_model.pth\")\n",
        "    print(f\"Model saved to gru_violent_model.pth\")\n",
        "\n",
        "    return history, labels_val, preds_val\n",
        "\n"
      ],
      "metadata": {
        "id": "rH3hUVl3JMzS"
      },
      "execution_count": null,
      "outputs": []
    },
    {
      "cell_type": "code",
      "source": [
        "epochs = 20\n",
        "history, gt_labels, pred_labels = train_and_validate(epochs=20)"
      ],
      "metadata": {
        "colab": {
          "base_uri": "https://localhost:8080/"
        },
        "id": "eSPtNpc3KiB4",
        "outputId": "a704b2fe-b48b-4268-bfb9-9d4d197ca7b7"
      },
      "execution_count": null,
      "outputs": [
        {
          "output_type": "stream",
          "name": "stdout",
          "text": [
            "Total samples with features: 75\n",
            "Train samples: 60, Validation samples: 15\n",
            "\n",
            "Epoch 1/20\n"
          ]
        },
        {
          "output_type": "stream",
          "name": "stderr",
          "text": [
            "Training: 100%|███████████████████████████████████████████████████████| 8/8 [00:01<00:00,  6.06it/s]\n"
          ]
        },
        {
          "output_type": "stream",
          "name": "stdout",
          "text": [
            "Train - Loss: 7.3072 | Acc: 0.650, F1: 0.720\n"
          ]
        },
        {
          "output_type": "stream",
          "name": "stderr",
          "text": [
            "Validating: 100%|█████████████████████████████████████████████████████| 2/2 [00:00<00:00, 15.73it/s]\n"
          ]
        },
        {
          "output_type": "stream",
          "name": "stdout",
          "text": [
            "Validation - Loss: 2.0073 | Acc: 0.467, F1: 0.556\n",
            "\n",
            "Epoch 2/20\n"
          ]
        },
        {
          "output_type": "stream",
          "name": "stderr",
          "text": [
            "Training: 100%|███████████████████████████████████████████████████████| 8/8 [00:00<00:00, 18.60it/s]\n"
          ]
        },
        {
          "output_type": "stream",
          "name": "stdout",
          "text": [
            "Train - Loss: 4.0337 | Acc: 0.783, F1: 0.840\n"
          ]
        },
        {
          "output_type": "stream",
          "name": "stderr",
          "text": [
            "Validating: 100%|█████████████████████████████████████████████████████| 2/2 [00:00<00:00, 28.31it/s]\n"
          ]
        },
        {
          "output_type": "stream",
          "name": "stdout",
          "text": [
            "Validation - Loss: 2.3327 | Acc: 0.533, F1: 0.667\n",
            "\n",
            "Epoch 3/20\n"
          ]
        },
        {
          "output_type": "stream",
          "name": "stderr",
          "text": [
            "Training: 100%|███████████████████████████████████████████████████████| 8/8 [00:00<00:00, 19.58it/s]\n"
          ]
        },
        {
          "output_type": "stream",
          "name": "stdout",
          "text": [
            "Train - Loss: 2.4783 | Acc: 0.900, F1: 0.914\n"
          ]
        },
        {
          "output_type": "stream",
          "name": "stderr",
          "text": [
            "Validating: 100%|█████████████████████████████████████████████████████| 2/2 [00:00<00:00, 29.75it/s]\n"
          ]
        },
        {
          "output_type": "stream",
          "name": "stdout",
          "text": [
            "Validation - Loss: 2.4928 | Acc: 0.533, F1: 0.632\n",
            "\n",
            "Epoch 4/20\n"
          ]
        },
        {
          "output_type": "stream",
          "name": "stderr",
          "text": [
            "Training: 100%|███████████████████████████████████████████████████████| 8/8 [00:00<00:00, 19.35it/s]\n"
          ]
        },
        {
          "output_type": "stream",
          "name": "stdout",
          "text": [
            "Train - Loss: 1.3311 | Acc: 0.950, F1: 0.960\n"
          ]
        },
        {
          "output_type": "stream",
          "name": "stderr",
          "text": [
            "Validating: 100%|█████████████████████████████████████████████████████| 2/2 [00:00<00:00, 27.28it/s]\n"
          ]
        },
        {
          "output_type": "stream",
          "name": "stdout",
          "text": [
            "Validation - Loss: 2.7327 | Acc: 0.600, F1: 0.700\n",
            "\n",
            "Epoch 5/20\n"
          ]
        },
        {
          "output_type": "stream",
          "name": "stderr",
          "text": [
            "Training: 100%|███████████████████████████████████████████████████████| 8/8 [00:00<00:00, 19.23it/s]\n"
          ]
        },
        {
          "output_type": "stream",
          "name": "stdout",
          "text": [
            "Train - Loss: 0.5620 | Acc: 1.000, F1: 1.000\n"
          ]
        },
        {
          "output_type": "stream",
          "name": "stderr",
          "text": [
            "Validating: 100%|█████████████████████████████████████████████████████| 2/2 [00:00<00:00, 28.92it/s]\n"
          ]
        },
        {
          "output_type": "stream",
          "name": "stdout",
          "text": [
            "Validation - Loss: 3.6086 | Acc: 0.600, F1: 0.700\n",
            "\n",
            "Epoch 6/20\n"
          ]
        },
        {
          "output_type": "stream",
          "name": "stderr",
          "text": [
            "Training: 100%|███████████████████████████████████████████████████████| 8/8 [00:00<00:00, 19.37it/s]\n"
          ]
        },
        {
          "output_type": "stream",
          "name": "stdout",
          "text": [
            "Train - Loss: 0.2178 | Acc: 1.000, F1: 1.000\n"
          ]
        },
        {
          "output_type": "stream",
          "name": "stderr",
          "text": [
            "Validating: 100%|█████████████████████████████████████████████████████| 2/2 [00:00<00:00, 28.91it/s]\n"
          ]
        },
        {
          "output_type": "stream",
          "name": "stdout",
          "text": [
            "Validation - Loss: 4.7985 | Acc: 0.600, F1: 0.700\n",
            "\n",
            "Epoch 7/20\n"
          ]
        },
        {
          "output_type": "stream",
          "name": "stderr",
          "text": [
            "Training: 100%|███████████████████████████████████████████████████████| 8/8 [00:00<00:00, 19.62it/s]\n"
          ]
        },
        {
          "output_type": "stream",
          "name": "stdout",
          "text": [
            "Train - Loss: 0.0762 | Acc: 1.000, F1: 1.000\n"
          ]
        },
        {
          "output_type": "stream",
          "name": "stderr",
          "text": [
            "Validating: 100%|█████████████████████████████████████████████████████| 2/2 [00:00<00:00, 23.95it/s]\n"
          ]
        },
        {
          "output_type": "stream",
          "name": "stdout",
          "text": [
            "Validation - Loss: 5.3046 | Acc: 0.600, F1: 0.700\n",
            "\n",
            "Epoch 8/20\n"
          ]
        },
        {
          "output_type": "stream",
          "name": "stderr",
          "text": [
            "Training: 100%|███████████████████████████████████████████████████████| 8/8 [00:00<00:00, 20.21it/s]\n"
          ]
        },
        {
          "output_type": "stream",
          "name": "stdout",
          "text": [
            "Train - Loss: 0.0877 | Acc: 1.000, F1: 1.000\n"
          ]
        },
        {
          "output_type": "stream",
          "name": "stderr",
          "text": [
            "Validating: 100%|█████████████████████████████████████████████████████| 2/2 [00:00<00:00, 23.51it/s]\n"
          ]
        },
        {
          "output_type": "stream",
          "name": "stdout",
          "text": [
            "Validation - Loss: 5.6700 | Acc: 0.600, F1: 0.700\n",
            "\n",
            "Epoch 9/20\n"
          ]
        },
        {
          "output_type": "stream",
          "name": "stderr",
          "text": [
            "Training: 100%|███████████████████████████████████████████████████████| 8/8 [00:00<00:00, 17.34it/s]\n"
          ]
        },
        {
          "output_type": "stream",
          "name": "stdout",
          "text": [
            "Train - Loss: 0.0526 | Acc: 1.000, F1: 1.000\n"
          ]
        },
        {
          "output_type": "stream",
          "name": "stderr",
          "text": [
            "Validating: 100%|█████████████████████████████████████████████████████| 2/2 [00:00<00:00, 24.12it/s]\n"
          ]
        },
        {
          "output_type": "stream",
          "name": "stdout",
          "text": [
            "Validation - Loss: 6.0893 | Acc: 0.600, F1: 0.700\n",
            "\n",
            "Epoch 10/20\n"
          ]
        },
        {
          "output_type": "stream",
          "name": "stderr",
          "text": [
            "Training: 100%|███████████████████████████████████████████████████████| 8/8 [00:00<00:00, 18.18it/s]\n"
          ]
        },
        {
          "output_type": "stream",
          "name": "stdout",
          "text": [
            "Train - Loss: 0.0259 | Acc: 1.000, F1: 1.000\n"
          ]
        },
        {
          "output_type": "stream",
          "name": "stderr",
          "text": [
            "Validating: 100%|█████████████████████████████████████████████████████| 2/2 [00:00<00:00, 25.84it/s]\n"
          ]
        },
        {
          "output_type": "stream",
          "name": "stdout",
          "text": [
            "Validation - Loss: 6.1337 | Acc: 0.600, F1: 0.700\n",
            "\n",
            "Epoch 11/20\n"
          ]
        },
        {
          "output_type": "stream",
          "name": "stderr",
          "text": [
            "Training: 100%|███████████████████████████████████████████████████████| 8/8 [00:00<00:00, 17.25it/s]\n"
          ]
        },
        {
          "output_type": "stream",
          "name": "stdout",
          "text": [
            "Train - Loss: 0.0122 | Acc: 1.000, F1: 1.000\n"
          ]
        },
        {
          "output_type": "stream",
          "name": "stderr",
          "text": [
            "Validating: 100%|█████████████████████████████████████████████████████| 2/2 [00:00<00:00, 26.04it/s]\n"
          ]
        },
        {
          "output_type": "stream",
          "name": "stdout",
          "text": [
            "Validation - Loss: 6.1231 | Acc: 0.600, F1: 0.700\n",
            "\n",
            "Epoch 12/20\n"
          ]
        },
        {
          "output_type": "stream",
          "name": "stderr",
          "text": [
            "Training: 100%|███████████████████████████████████████████████████████| 8/8 [00:00<00:00, 18.28it/s]\n"
          ]
        },
        {
          "output_type": "stream",
          "name": "stdout",
          "text": [
            "Train - Loss: 0.0079 | Acc: 1.000, F1: 1.000\n"
          ]
        },
        {
          "output_type": "stream",
          "name": "stderr",
          "text": [
            "Validating: 100%|█████████████████████████████████████████████████████| 2/2 [00:00<00:00, 26.02it/s]\n"
          ]
        },
        {
          "output_type": "stream",
          "name": "stdout",
          "text": [
            "Validation - Loss: 6.1548 | Acc: 0.600, F1: 0.700\n",
            "\n",
            "Epoch 13/20\n"
          ]
        },
        {
          "output_type": "stream",
          "name": "stderr",
          "text": [
            "Training: 100%|███████████████████████████████████████████████████████| 8/8 [00:00<00:00, 17.55it/s]\n"
          ]
        },
        {
          "output_type": "stream",
          "name": "stdout",
          "text": [
            "Train - Loss: 0.0074 | Acc: 1.000, F1: 1.000\n"
          ]
        },
        {
          "output_type": "stream",
          "name": "stderr",
          "text": [
            "Validating: 100%|█████████████████████████████████████████████████████| 2/2 [00:00<00:00, 23.75it/s]\n"
          ]
        },
        {
          "output_type": "stream",
          "name": "stdout",
          "text": [
            "Validation - Loss: 6.2162 | Acc: 0.600, F1: 0.700\n",
            "\n",
            "Epoch 14/20\n"
          ]
        },
        {
          "output_type": "stream",
          "name": "stderr",
          "text": [
            "Training: 100%|███████████████████████████████████████████████████████| 8/8 [00:00<00:00, 18.07it/s]\n"
          ]
        },
        {
          "output_type": "stream",
          "name": "stdout",
          "text": [
            "Train - Loss: 0.0061 | Acc: 1.000, F1: 1.000\n"
          ]
        },
        {
          "output_type": "stream",
          "name": "stderr",
          "text": [
            "Validating: 100%|█████████████████████████████████████████████████████| 2/2 [00:00<00:00, 20.62it/s]\n"
          ]
        },
        {
          "output_type": "stream",
          "name": "stdout",
          "text": [
            "Validation - Loss: 6.2722 | Acc: 0.600, F1: 0.700\n",
            "\n",
            "Epoch 15/20\n"
          ]
        },
        {
          "output_type": "stream",
          "name": "stderr",
          "text": [
            "Training: 100%|███████████████████████████████████████████████████████| 8/8 [00:00<00:00, 15.65it/s]\n"
          ]
        },
        {
          "output_type": "stream",
          "name": "stdout",
          "text": [
            "Train - Loss: 0.0051 | Acc: 1.000, F1: 1.000\n"
          ]
        },
        {
          "output_type": "stream",
          "name": "stderr",
          "text": [
            "Validating: 100%|█████████████████████████████████████████████████████| 2/2 [00:00<00:00, 26.43it/s]\n"
          ]
        },
        {
          "output_type": "stream",
          "name": "stdout",
          "text": [
            "Validation - Loss: 6.3294 | Acc: 0.600, F1: 0.700\n",
            "\n",
            "Epoch 16/20\n"
          ]
        },
        {
          "output_type": "stream",
          "name": "stderr",
          "text": [
            "Training: 100%|███████████████████████████████████████████████████████| 8/8 [00:00<00:00, 15.85it/s]\n"
          ]
        },
        {
          "output_type": "stream",
          "name": "stdout",
          "text": [
            "Train - Loss: 0.0046 | Acc: 1.000, F1: 1.000\n"
          ]
        },
        {
          "output_type": "stream",
          "name": "stderr",
          "text": [
            "Validating: 100%|█████████████████████████████████████████████████████| 2/2 [00:00<00:00, 28.04it/s]\n"
          ]
        },
        {
          "output_type": "stream",
          "name": "stdout",
          "text": [
            "Validation - Loss: 6.3846 | Acc: 0.600, F1: 0.700\n",
            "\n",
            "Epoch 17/20\n"
          ]
        },
        {
          "output_type": "stream",
          "name": "stderr",
          "text": [
            "Training: 100%|███████████████████████████████████████████████████████| 8/8 [00:00<00:00, 18.07it/s]\n"
          ]
        },
        {
          "output_type": "stream",
          "name": "stdout",
          "text": [
            "Train - Loss: 0.0043 | Acc: 1.000, F1: 1.000\n"
          ]
        },
        {
          "output_type": "stream",
          "name": "stderr",
          "text": [
            "Validating: 100%|█████████████████████████████████████████████████████| 2/2 [00:00<00:00, 27.88it/s]\n"
          ]
        },
        {
          "output_type": "stream",
          "name": "stdout",
          "text": [
            "Validation - Loss: 6.4374 | Acc: 0.600, F1: 0.700\n",
            "\n",
            "Epoch 18/20\n"
          ]
        },
        {
          "output_type": "stream",
          "name": "stderr",
          "text": [
            "Training: 100%|███████████████████████████████████████████████████████| 8/8 [00:00<00:00, 18.45it/s]\n"
          ]
        },
        {
          "output_type": "stream",
          "name": "stdout",
          "text": [
            "Train - Loss: 0.0042 | Acc: 1.000, F1: 1.000\n"
          ]
        },
        {
          "output_type": "stream",
          "name": "stderr",
          "text": [
            "Validating: 100%|█████████████████████████████████████████████████████| 2/2 [00:00<00:00, 26.52it/s]\n"
          ]
        },
        {
          "output_type": "stream",
          "name": "stdout",
          "text": [
            "Validation - Loss: 6.4791 | Acc: 0.600, F1: 0.700\n",
            "\n",
            "Epoch 19/20\n"
          ]
        },
        {
          "output_type": "stream",
          "name": "stderr",
          "text": [
            "Training: 100%|███████████████████████████████████████████████████████| 8/8 [00:00<00:00, 18.98it/s]\n"
          ]
        },
        {
          "output_type": "stream",
          "name": "stdout",
          "text": [
            "Train - Loss: 0.0035 | Acc: 1.000, F1: 1.000\n"
          ]
        },
        {
          "output_type": "stream",
          "name": "stderr",
          "text": [
            "Validating: 100%|█████████████████████████████████████████████████████| 2/2 [00:00<00:00, 29.07it/s]\n"
          ]
        },
        {
          "output_type": "stream",
          "name": "stdout",
          "text": [
            "Validation - Loss: 6.5190 | Acc: 0.600, F1: 0.700\n",
            "\n",
            "Epoch 20/20\n"
          ]
        },
        {
          "output_type": "stream",
          "name": "stderr",
          "text": [
            "Training: 100%|███████████████████████████████████████████████████████| 8/8 [00:00<00:00, 19.36it/s]\n"
          ]
        },
        {
          "output_type": "stream",
          "name": "stdout",
          "text": [
            "Train - Loss: 0.0034 | Acc: 1.000, F1: 1.000\n"
          ]
        },
        {
          "output_type": "stream",
          "name": "stderr",
          "text": [
            "Validating: 100%|█████████████████████████████████████████████████████| 2/2 [00:00<00:00, 23.12it/s]\n"
          ]
        },
        {
          "output_type": "stream",
          "name": "stdout",
          "text": [
            "Validation - Loss: 6.5591 | Acc: 0.600, F1: 0.700\n",
            "Model saved to gru_violent_model.pth\n"
          ]
        }
      ]
    },
    {
      "cell_type": "code",
      "source": [
        "epochs = np.arange(1, epochs + 1)\n",
        "\n",
        "plt.figure(figsize=(12, 4))\n",
        "plt.subplot(1, 3, 1)\n",
        "plt.plot(epochs, history['train_acc'], label='Train Acc')\n",
        "plt.plot(epochs, history['val_acc'], label='Val Acc')\n",
        "plt.xlabel('Epoch')\n",
        "plt.ylabel('Accuracy')\n",
        "plt.title('Accuracy Trend')\n",
        "plt.legend()\n",
        "\n",
        "plt.subplot(1, 3, 3)\n",
        "plt.plot(epochs, history['train_loss'], label='Train Loss')\n",
        "plt.plot(epochs, history['val_loss'], label='Val Loss')\n",
        "plt.xlabel('Epoch')\n",
        "plt.ylabel('Loss')\n",
        "plt.title('Loss Trend')\n",
        "plt.legend()\n",
        "\n",
        "plt.tight_layout()\n",
        "plt.show()\n"
      ],
      "metadata": {
        "colab": {
          "base_uri": "https://localhost:8080/",
          "height": 360
        },
        "id": "K5iCXyTqKUU4",
        "outputId": "fbd51642-7e69-4081-80d8-237e609a42e9"
      },
      "execution_count": null,
      "outputs": [
        {
          "output_type": "display_data",
          "data": {
            "text/plain": [
              "<Figure size 1200x400 with 2 Axes>"
            ],
            "image/png": "[encoded data removed]"
          },
          "metadata": {}
        }
      ]
    },
    {
      "cell_type": "code",
      "source": [
        "cm = confusion_matrix(gt_labels, pred_labels)\n",
        "report = classification_report(gt_labels, pred_labels, target_names=['Not Violent', 'Violent'])\n",
        "print(\"Confusion Matrix:\")\n",
        "print(cm)\n",
        "print(\"\\nClassification Report:\")\n",
        "print(report)\n",
        "\n",
        "plt.figure(figsize=(6, 5))\n",
        "sns.heatmap(cm, annot=True, fmt='d', cmap='Blues', xticklabels=['Not Violent', 'Violent'], yticklabels=['Not Violent', 'Violent'])\n",
        "plt.xlabel('Predicted')\n",
        "plt.ylabel('Actual')\n",
        "plt.title('Confusion Matrix')\n",
        "plt.show()\n"
      ],
      "metadata": {
        "colab": {
          "base_uri": "https://localhost:8080/",
          "height": 745
        },
        "id": "GYey05GcKbgY",
        "outputId": "e98127a3-b72e-4ac0-cd92-3eeccdf1d9a5"
      },
      "execution_count": null,
      "outputs": [
        {
          "output_type": "stream",
          "name": "stdout",
          "text": [
            "Confusion Matrix:\n",
            "[[2 5]\n",
            " [1 7]]\n",
            "\n",
            "Classification Report:\n",
            "              precision    recall  f1-score   support\n",
            "\n",
            " Not Violent       0.67      0.29      0.40         7\n",
            "     Violent       0.58      0.88      0.70         8\n",
            "\n",
            "    accuracy                           0.60        15\n",
            "   macro avg       0.62      0.58      0.55        15\n",
            "weighted avg       0.62      0.60      0.56        15\n",
            "\n"
          ]
        },
        {
          "output_type": "display_data",
          "data": {
            "text/plain": [
              "<Figure size 600x500 with 2 Axes>"
            ],
            "image/png": "[encoded data removed]"
          },
          "metadata": {}
        }
      ]
    },
    {
      "cell_type": "markdown",
      "source": [
        "Analyze the video:\n"
      ],
      "metadata": {
        "id": "PRXxVNPmaxzs"
      }
    },
    {
      "cell_type": "code",
      "source": [
        "model = SimpleGRUClassifier()\n",
        "model.load_state_dict(torch.load(\"gru_violent_model.pth\", map_location=device))\n",
        "model.to(device)\n",
        "model.eval()"
      ],
      "metadata": {
        "colab": {
          "base_uri": "https://localhost:8080/"
        },
        "id": "Om_GSsNMbXXw",
        "outputId": "441989d3-42cd-4954-dad0-66b8cd775563"
      },
      "execution_count": null,
      "outputs": [
        {
          "output_type": "execute_result",
          "data": {
            "text/plain": [
              "SimpleGRUClassifier(\n",
              "  (gru): GRU(2051, 512, num_layers=2, batch_first=True, bidirectional=True)\n",
              "  (fc_violent): Linear(in_features=1024, out_features=1, bias=True)\n",
              ")"
            ]
          },
          "metadata": {},
          "execution_count": 19
        }
      ]
    },
    {
      "cell_type": "markdown",
      "source": [
        "1. Whole video at once"
      ],
      "metadata": {
        "id": "K8losrDLbXuv"
      }
    },
    {
      "cell_type": "code",
      "source": [
        "def extract_features_from_video_for_model_full(video_path):\n",
        "\n",
        "    video_filename = video_path.split('/')[-1]\n",
        "\n",
        "    clip = VideoFileClip(video_path)\n",
        "    print(f\"Processing {video_filename} ({int(clip.duration)} seconds)\")\n",
        "    duration = int(clip.duration)\n",
        "\n",
        "    features = []\n",
        "    for t in tqdm(range(duration), desc=\"Extracting frames\"):\n",
        "        frame = clip.get_frame(t)\n",
        "        embedding = extract_face_embedding_and_pose(frame)\n",
        "        if embedding is not None:\n",
        "            features.append(embedding)\n",
        "\n",
        "    features = np.array(features)\n",
        "\n",
        "    if features.shape[0] == 0:\n",
        "        print(f\"\\nNo embeddings extracted for {video_filename}.\")\n",
        "        return torch.tensor([]), 0\n",
        "\n",
        "    print(f\"Extracted {features.shape} embeddings\")\n",
        "\n",
        "    return features"
      ],
      "metadata": {
        "id": "iE38aTg2apqE"
      },
      "execution_count": null,
      "outputs": []
    },
    {
      "cell_type": "code",
      "source": [
        "def analyze_video_full(video_path, model):\n",
        "        features= extract_features_from_video_for_model_full(video_path)\n",
        "        features_tensor = torch.tensor(features, dtype=torch.float32).unsqueeze(0).to(device)\n",
        "        seq_len = torch.tensor([features.shape[0]]).to(device)\n",
        "\n",
        "        with torch.no_grad():\n",
        "            pred_violent = model(features_tensor, seq_len)\n",
        "\n",
        "        pred_violent = pred_violent.item()\n",
        "\n",
        "        return{\n",
        "            \"is_violent\": pred_violent > 0.5,\n",
        "            \"prob_violent\": round(pred_violent, 3),\n",
        "        }\n"
      ],
      "metadata": {
        "id": "IAPXplnQbTrZ"
      },
      "execution_count": null,
      "outputs": []
    },
    {
      "cell_type": "code",
      "source": [
        "video_name = \"Bodycam Shows Suspect Shooting Oklahoma City Cop at Close Range During Pat-Down.mp4\"\n",
        "video_path = os.path.join(video_dir, video_name)\n",
        "analyze_video_full(video_path, model)"
      ],
      "metadata": {
        "colab": {
          "base_uri": "https://localhost:8080/"
        },
        "id": "7c_b1TkObm38",
        "outputId": "1ec8b278-0e2b-48c1-cc94-6e5e6521e38a"
      },
      "execution_count": null,
      "outputs": [
        {
          "output_type": "stream",
          "name": "stdout",
          "text": [
            "Processing Bodycam Shows Suspect Shooting Oklahoma City Cop at Close Range During Pat-Down.mp4 (133 seconds)\n"
          ]
        },
        {
          "output_type": "stream",
          "name": "stderr",
          "text": [
            "Extracting frames:  41%|████▏     | 55/133 [00:34<00:40,  1.93it/s]WARNING:py.warnings:/usr/local/lib/python3.11/dist-packages/face_alignment/api.py:147: UserWarning: No faces were detected.\n",
            "  warnings.warn(\"No faces were detected.\")\n",
            "\n",
            "Extracting frames: 100%|██████████| 133/133 [01:26<00:00,  1.54it/s]"
          ]
        },
        {
          "output_type": "stream",
          "name": "stdout",
          "text": [
            "Extracted (39, 2051) embeddings\n"
          ]
        },
        {
          "output_type": "stream",
          "name": "stderr",
          "text": [
            "\n"
          ]
        },
        {
          "output_type": "execute_result",
          "data": {
            "text/plain": [
              "{'is_violent': True, 'prob_violent': 1.0}"
            ]
          },
          "metadata": {},
          "execution_count": 22
        }
      ]
    },
    {
      "cell_type": "code",
      "source": [
        "video_name = \"Bodycam Captures Tampa Police Chief Using Position To Get Out of Traffic Violation.mp4\"\n",
        "video_path = os.path.join(video_dir, video_name)\n",
        "analyze_video_full(video_path, model)"
      ],
      "metadata": {
        "colab": {
          "base_uri": "https://localhost:8080/"
        },
        "id": "AORfPS3kdrjj",
        "outputId": "14b26a66-1fd9-411b-e288-9c31c0c0d5ea"
      },
      "execution_count": null,
      "outputs": [
        {
          "output_type": "stream",
          "name": "stdout",
          "text": [
            "Processing Bodycam Captures Tampa Police Chief Using Position To Get Out of Traffic Violation.mp4 (134 seconds)\n"
          ]
        },
        {
          "output_type": "stream",
          "name": "stderr",
          "text": [
            "Extracting frames: 100%|██████████| 134/134 [01:23<00:00,  1.61it/s]"
          ]
        },
        {
          "output_type": "stream",
          "name": "stdout",
          "text": [
            "Extracted (74, 2051) embeddings\n"
          ]
        },
        {
          "output_type": "stream",
          "name": "stderr",
          "text": [
            "\n"
          ]
        },
        {
          "output_type": "execute_result",
          "data": {
            "text/plain": [
              "{'is_violent': False, 'prob_violent': 0.001}"
            ]
          },
          "metadata": {},
          "execution_count": 23
        }
      ]
    },
    {
      "cell_type": "markdown",
      "source": [
        "2. Analyzing in temporal manner"
      ],
      "metadata": {
        "id": "CXCorHRma8fF"
      }
    },
    {
      "cell_type": "code",
      "source": [
        "def detect_first_face(video_path):\n",
        "    clip = VideoFileClip(video_path)\n",
        "    duration = int(clip.duration)\n",
        "\n",
        "    for t in tqdm(range(duration), desc=\"Detecting first face\"):\n",
        "        frame = clip.get_frame(t)\n",
        "        embedding = extract_face_embedding_and_pose(frame)\n",
        "        if embedding is not None:\n",
        "            return True,t,duration\n",
        "\n",
        "    return False,0,duration"
      ],
      "metadata": {
        "id": "sHyRYwxUfj0r"
      },
      "execution_count": null,
      "outputs": []
    },
    {
      "cell_type": "code",
      "source": [
        "def extract_features_from_video_for_model(video_path,start_time,end_time):\n",
        "\n",
        "    video_filename = video_path.split('/')[-1]\n",
        "\n",
        "    clip = VideoFileClip(video_path)\n",
        "    print(f\"Processing {video_filename} ({int(clip.duration)} seconds)\")\n",
        "\n",
        "    clip = clip.subclip(start_time, end_time)\n",
        "\n",
        "    duration = int(clip.duration)\n",
        "\n",
        "    features = []\n",
        "    for t in tqdm(range(duration), desc=\"Extracting frames\"):\n",
        "        frame = clip.get_frame(t)\n",
        "        embedding = extract_face_embedding_and_pose(frame)\n",
        "        if embedding is not None:\n",
        "            features.append(embedding)\n",
        "\n",
        "    f = features.copy()\n",
        "    features = np.array(features)\n",
        "\n",
        "    if features.shape[0] == 0:\n",
        "        print(f\"\\nNo embeddings extracted for {video_filename}.\")\n",
        "        return torch.tensor([]), 0\n",
        "\n",
        "    print(f\"Extracted {features.shape} embeddings\")\n",
        "\n",
        "    return f"
      ],
      "metadata": {
        "id": "H-WwCKT5eMFw"
      },
      "execution_count": null,
      "outputs": []
    },
    {
      "cell_type": "code",
      "source": [
        "def analyze_video_incremental(video_path, model):\n",
        "    face, stmp, dur = detect_first_face(video_path)\n",
        "    print(stmp,dur)\n",
        "    predictions = []\n",
        "    timestamps = range(stmp,dur,2)\n",
        "    if face:\n",
        "        pred = 0.0\n",
        "        f = []\n",
        "        for i in range(stmp,dur,2):\n",
        "\n",
        "            if i-2 < stmp:\n",
        "              start = stmp\n",
        "            else:\n",
        "              start = i-2\n",
        "\n",
        "            features= extract_features_from_video_for_model(video_path,start,i)\n",
        "            if isinstance(features,tuple):\n",
        "                predictions.append(pred)\n",
        "                continue\n",
        "\n",
        "            f.extend(features)\n",
        "            f_arr = np.array(f)\n",
        "            features_tensor = torch.tensor(f_arr, dtype=torch.float32).unsqueeze(0).to(device)\n",
        "            seq_len = torch.tensor([f_arr.shape[0]]).to(device)\n",
        "\n",
        "\n",
        "            with torch.no_grad():\n",
        "              pred_violent = model(features_tensor, seq_len)\n",
        "\n",
        "            predictions.append(pred_violent[0])\n",
        "            if pred_violent != pred:\n",
        "              pred = pred_violent[0]\n",
        "\n",
        "    return predictions,timestamps"
      ],
      "metadata": {
        "id": "eHHz-z_EbBn4"
      },
      "execution_count": null,
      "outputs": []
    },
    {
      "cell_type": "code",
      "source": [
        "def plot_incremental_analysis(predictions,timestamps):\n",
        "  plt.figure(figsize=(10, 6))\n",
        "  plt.plot(timestamps, predictions, marker='o', linestyle='-')\n",
        "  plt.xlabel(\"Time (seconds)\")\n",
        "  plt.ylabel(\"Violent Prediction Score\")\n",
        "  plt.title(\"Violent Prediction Score over Time\")\n",
        "  plt.grid(True)\n",
        "  plt.show()"
      ],
      "metadata": {
        "id": "rCS58bN0fVzn"
      },
      "execution_count": null,
      "outputs": []
    },
    {
      "cell_type": "code",
      "source": [
        "video_name = \"Bodycam Shows Suspect Shooting Oklahoma City Cop at Close Range During Pat-Down.mp4\"\n",
        "video_path = os.path.join(video_dir, video_name)\n",
        "result = analyze_video_incremental(video_path, model)\n",
        "p = [i if isinstance(i,float) else i.item() for i in result[0]]\n",
        "t  = [i for i in result[1]]\n",
        "plot_incremental_analysis(p,t)"
      ],
      "metadata": {
        "colab": {
          "base_uri": "https://localhost:8080/",
          "height": 1000
        },
        "id": "5tQVFVd0fJoM",
        "outputId": "0ea0fa86-2715-4cc1-869e-24f8e98e63d3"
      },
      "execution_count": null,
      "outputs": [
        {
          "output_type": "stream",
          "name": "stderr",
          "text": [
            "Detecting first face:   4%|▍         | 5/133 [00:02<01:05,  1.95it/s]\n"
          ]
        },
        {
          "output_type": "stream",
          "name": "stdout",
          "text": [
            "5 133\n",
            "Processing Bodycam Shows Suspect Shooting Oklahoma City Cop at Close Range During Pat-Down.mp4 (133 seconds)\n"
          ]
        },
        {
          "output_type": "stream",
          "name": "stderr",
          "text": [
            "Extracting frames: 0it [00:00, ?it/s]\n"
          ]
        },
        {
          "output_type": "stream",
          "name": "stdout",
          "text": [
            "\n",
            "No embeddings extracted for Bodycam Shows Suspect Shooting Oklahoma City Cop at Close Range During Pat-Down.mp4.\n",
            "Processing Bodycam Shows Suspect Shooting Oklahoma City Cop at Close Range During Pat-Down.mp4 (133 seconds)\n"
          ]
        },
        {
          "output_type": "stream",
          "name": "stderr",
          "text": [
            "Extracting frames: 100%|██████████| 2/2 [00:00<00:00,  2.90it/s]\n"
          ]
        },
        {
          "output_type": "stream",
          "name": "stdout",
          "text": [
            "\n",
            "No embeddings extracted for Bodycam Shows Suspect Shooting Oklahoma City Cop at Close Range During Pat-Down.mp4.\n",
            "Processing Bodycam Shows Suspect Shooting Oklahoma City Cop at Close Range During Pat-Down.mp4 (133 seconds)\n"
          ]
        },
        {
          "output_type": "stream",
          "name": "stderr",
          "text": [
            "Extracting frames: 100%|██████████| 2/2 [00:02<00:00,  1.18s/it]\n"
          ]
        },
        {
          "output_type": "stream",
          "name": "stdout",
          "text": [
            "\n",
            "No embeddings extracted for Bodycam Shows Suspect Shooting Oklahoma City Cop at Close Range During Pat-Down.mp4.\n",
            "Processing Bodycam Shows Suspect Shooting Oklahoma City Cop at Close Range During Pat-Down.mp4 (133 seconds)\n"
          ]
        },
        {
          "output_type": "stream",
          "name": "stderr",
          "text": [
            "Extracting frames: 100%|██████████| 2/2 [00:00<00:00,  2.75it/s]\n"
          ]
        },
        {
          "output_type": "stream",
          "name": "stdout",
          "text": [
            "\n",
            "No embeddings extracted for Bodycam Shows Suspect Shooting Oklahoma City Cop at Close Range During Pat-Down.mp4.\n",
            "Processing Bodycam Shows Suspect Shooting Oklahoma City Cop at Close Range During Pat-Down.mp4 (133 seconds)\n"
          ]
        },
        {
          "output_type": "stream",
          "name": "stderr",
          "text": [
            "Extracting frames: 100%|██████████| 2/2 [00:00<00:00,  2.17it/s]\n"
          ]
        },
        {
          "output_type": "stream",
          "name": "stdout",
          "text": [
            "\n",
            "No embeddings extracted for Bodycam Shows Suspect Shooting Oklahoma City Cop at Close Range During Pat-Down.mp4.\n",
            "Processing Bodycam Shows Suspect Shooting Oklahoma City Cop at Close Range During Pat-Down.mp4 (133 seconds)\n"
          ]
        },
        {
          "output_type": "stream",
          "name": "stderr",
          "text": [
            "Extracting frames: 100%|██████████| 2/2 [00:00<00:00,  2.33it/s]\n"
          ]
        },
        {
          "output_type": "stream",
          "name": "stdout",
          "text": [
            "\n",
            "No embeddings extracted for Bodycam Shows Suspect Shooting Oklahoma City Cop at Close Range During Pat-Down.mp4.\n",
            "Processing Bodycam Shows Suspect Shooting Oklahoma City Cop at Close Range During Pat-Down.mp4 (133 seconds)\n"
          ]
        },
        {
          "output_type": "stream",
          "name": "stderr",
          "text": [
            "Extracting frames: 100%|██████████| 2/2 [00:01<00:00,  1.30it/s]\n"
          ]
        },
        {
          "output_type": "stream",
          "name": "stdout",
          "text": [
            "Extracted (1, 2051) embeddings\n",
            "Processing Bodycam Shows Suspect Shooting Oklahoma City Cop at Close Range During Pat-Down.mp4 (133 seconds)\n"
          ]
        },
        {
          "output_type": "stream",
          "name": "stderr",
          "text": [
            "Extracting frames: 100%|██████████| 2/2 [00:02<00:00,  1.30s/it]\n"
          ]
        },
        {
          "output_type": "stream",
          "name": "stdout",
          "text": [
            "Extracted (1, 2051) embeddings\n",
            "Processing Bodycam Shows Suspect Shooting Oklahoma City Cop at Close Range During Pat-Down.mp4 (133 seconds)\n"
          ]
        },
        {
          "output_type": "stream",
          "name": "stderr",
          "text": [
            "Extracting frames: 100%|██████████| 2/2 [00:00<00:00,  2.62it/s]\n"
          ]
        },
        {
          "output_type": "stream",
          "name": "stdout",
          "text": [
            "\n",
            "No embeddings extracted for Bodycam Shows Suspect Shooting Oklahoma City Cop at Close Range During Pat-Down.mp4.\n",
            "Processing Bodycam Shows Suspect Shooting Oklahoma City Cop at Close Range During Pat-Down.mp4 (133 seconds)\n"
          ]
        },
        {
          "output_type": "stream",
          "name": "stderr",
          "text": [
            "Extracting frames: 100%|██████████| 2/2 [00:00<00:00,  2.31it/s]\n"
          ]
        },
        {
          "output_type": "stream",
          "name": "stdout",
          "text": [
            "\n",
            "No embeddings extracted for Bodycam Shows Suspect Shooting Oklahoma City Cop at Close Range During Pat-Down.mp4.\n",
            "Processing Bodycam Shows Suspect Shooting Oklahoma City Cop at Close Range During Pat-Down.mp4 (133 seconds)\n"
          ]
        },
        {
          "output_type": "stream",
          "name": "stderr",
          "text": [
            "Extracting frames: 100%|██████████| 2/2 [00:02<00:00,  1.07s/it]\n"
          ]
        },
        {
          "output_type": "stream",
          "name": "stdout",
          "text": [
            "Extracted (1, 2051) embeddings\n",
            "Processing Bodycam Shows Suspect Shooting Oklahoma City Cop at Close Range During Pat-Down.mp4 (133 seconds)\n"
          ]
        },
        {
          "output_type": "stream",
          "name": "stderr",
          "text": [
            "Extracting frames: 100%|██████████| 2/2 [00:02<00:00,  1.14s/it]\n"
          ]
        },
        {
          "output_type": "stream",
          "name": "stdout",
          "text": [
            "Extracted (2, 2051) embeddings\n",
            "Processing Bodycam Shows Suspect Shooting Oklahoma City Cop at Close Range During Pat-Down.mp4 (133 seconds)\n"
          ]
        },
        {
          "output_type": "stream",
          "name": "stderr",
          "text": [
            "Extracting frames: 100%|██████████| 2/2 [00:02<00:00,  1.08s/it]\n"
          ]
        },
        {
          "output_type": "stream",
          "name": "stdout",
          "text": [
            "Extracted (2, 2051) embeddings\n",
            "Processing Bodycam Shows Suspect Shooting Oklahoma City Cop at Close Range During Pat-Down.mp4 (133 seconds)\n"
          ]
        },
        {
          "output_type": "stream",
          "name": "stderr",
          "text": [
            "Extracting frames: 100%|██████████| 2/2 [00:00<00:00,  3.12it/s]\n"
          ]
        },
        {
          "output_type": "stream",
          "name": "stdout",
          "text": [
            "\n",
            "No embeddings extracted for Bodycam Shows Suspect Shooting Oklahoma City Cop at Close Range During Pat-Down.mp4.\n",
            "Processing Bodycam Shows Suspect Shooting Oklahoma City Cop at Close Range During Pat-Down.mp4 (133 seconds)\n"
          ]
        },
        {
          "output_type": "stream",
          "name": "stderr",
          "text": [
            "Extracting frames: 100%|██████████| 2/2 [00:00<00:00,  3.52it/s]\n"
          ]
        },
        {
          "output_type": "stream",
          "name": "stdout",
          "text": [
            "\n",
            "No embeddings extracted for Bodycam Shows Suspect Shooting Oklahoma City Cop at Close Range During Pat-Down.mp4.\n",
            "Processing Bodycam Shows Suspect Shooting Oklahoma City Cop at Close Range During Pat-Down.mp4 (133 seconds)\n"
          ]
        },
        {
          "output_type": "stream",
          "name": "stderr",
          "text": [
            "Extracting frames: 100%|██████████| 2/2 [00:00<00:00,  2.95it/s]\n"
          ]
        },
        {
          "output_type": "stream",
          "name": "stdout",
          "text": [
            "\n",
            "No embeddings extracted for Bodycam Shows Suspect Shooting Oklahoma City Cop at Close Range During Pat-Down.mp4.\n",
            "Processing Bodycam Shows Suspect Shooting Oklahoma City Cop at Close Range During Pat-Down.mp4 (133 seconds)\n"
          ]
        },
        {
          "output_type": "stream",
          "name": "stderr",
          "text": [
            "Extracting frames: 100%|██████████| 2/2 [00:02<00:00,  1.30s/it]\n"
          ]
        },
        {
          "output_type": "stream",
          "name": "stdout",
          "text": [
            "Extracted (1, 2051) embeddings\n",
            "Processing Bodycam Shows Suspect Shooting Oklahoma City Cop at Close Range During Pat-Down.mp4 (133 seconds)\n"
          ]
        },
        {
          "output_type": "stream",
          "name": "stderr",
          "text": [
            "Extracting frames: 100%|██████████| 2/2 [00:01<00:00,  1.53it/s]\n"
          ]
        },
        {
          "output_type": "stream",
          "name": "stdout",
          "text": [
            "Extracted (2, 2051) embeddings\n",
            "Processing Bodycam Shows Suspect Shooting Oklahoma City Cop at Close Range During Pat-Down.mp4 (133 seconds)\n"
          ]
        },
        {
          "output_type": "stream",
          "name": "stderr",
          "text": [
            "Extracting frames: 100%|██████████| 2/2 [00:01<00:00,  1.50it/s]\n"
          ]
        },
        {
          "output_type": "stream",
          "name": "stdout",
          "text": [
            "Extracted (2, 2051) embeddings\n",
            "Processing Bodycam Shows Suspect Shooting Oklahoma City Cop at Close Range During Pat-Down.mp4 (133 seconds)\n"
          ]
        },
        {
          "output_type": "stream",
          "name": "stderr",
          "text": [
            "Extracting frames: 100%|██████████| 2/2 [00:01<00:00,  1.50it/s]\n"
          ]
        },
        {
          "output_type": "stream",
          "name": "stdout",
          "text": [
            "Extracted (2, 2051) embeddings\n",
            "Processing Bodycam Shows Suspect Shooting Oklahoma City Cop at Close Range During Pat-Down.mp4 (133 seconds)\n"
          ]
        },
        {
          "output_type": "stream",
          "name": "stderr",
          "text": [
            "Extracting frames: 100%|██████████| 2/2 [00:01<00:00,  1.48it/s]\n"
          ]
        },
        {
          "output_type": "stream",
          "name": "stdout",
          "text": [
            "Extracted (1, 2051) embeddings\n",
            "Processing Bodycam Shows Suspect Shooting Oklahoma City Cop at Close Range During Pat-Down.mp4 (133 seconds)\n"
          ]
        },
        {
          "output_type": "stream",
          "name": "stderr",
          "text": [
            "Extracting frames: 100%|██████████| 2/2 [00:01<00:00,  1.86it/s]\n"
          ]
        },
        {
          "output_type": "stream",
          "name": "stdout",
          "text": [
            "\n",
            "No embeddings extracted for Bodycam Shows Suspect Shooting Oklahoma City Cop at Close Range During Pat-Down.mp4.\n",
            "Processing Bodycam Shows Suspect Shooting Oklahoma City Cop at Close Range During Pat-Down.mp4 (133 seconds)\n"
          ]
        },
        {
          "output_type": "stream",
          "name": "stderr",
          "text": [
            "Extracting frames: 100%|██████████| 2/2 [00:02<00:00,  1.04s/it]\n"
          ]
        },
        {
          "output_type": "stream",
          "name": "stdout",
          "text": [
            "Extracted (1, 2051) embeddings\n",
            "Processing Bodycam Shows Suspect Shooting Oklahoma City Cop at Close Range During Pat-Down.mp4 (133 seconds)\n"
          ]
        },
        {
          "output_type": "stream",
          "name": "stderr",
          "text": [
            "Extracting frames: 100%|██████████| 2/2 [00:00<00:00,  2.14it/s]\n"
          ]
        },
        {
          "output_type": "stream",
          "name": "stdout",
          "text": [
            "\n",
            "No embeddings extracted for Bodycam Shows Suspect Shooting Oklahoma City Cop at Close Range During Pat-Down.mp4.\n",
            "Processing Bodycam Shows Suspect Shooting Oklahoma City Cop at Close Range During Pat-Down.mp4 (133 seconds)\n"
          ]
        },
        {
          "output_type": "stream",
          "name": "stderr",
          "text": [
            "Extracting frames: 100%|██████████| 2/2 [00:02<00:00,  1.14s/it]\n"
          ]
        },
        {
          "output_type": "stream",
          "name": "stdout",
          "text": [
            "Extracted (1, 2051) embeddings\n",
            "Processing Bodycam Shows Suspect Shooting Oklahoma City Cop at Close Range During Pat-Down.mp4 (133 seconds)\n"
          ]
        },
        {
          "output_type": "stream",
          "name": "stderr",
          "text": [
            "Extracting frames: 100%|██████████| 2/2 [00:00<00:00,  2.50it/s]\n"
          ]
        },
        {
          "output_type": "stream",
          "name": "stdout",
          "text": [
            "\n",
            "No embeddings extracted for Bodycam Shows Suspect Shooting Oklahoma City Cop at Close Range During Pat-Down.mp4.\n",
            "Processing Bodycam Shows Suspect Shooting Oklahoma City Cop at Close Range During Pat-Down.mp4 (133 seconds)\n"
          ]
        },
        {
          "output_type": "stream",
          "name": "stderr",
          "text": [
            "Extracting frames: 100%|██████████| 2/2 [00:01<00:00,  1.25it/s]\n"
          ]
        },
        {
          "output_type": "stream",
          "name": "stdout",
          "text": [
            "Extracted (1, 2051) embeddings\n",
            "Processing Bodycam Shows Suspect Shooting Oklahoma City Cop at Close Range During Pat-Down.mp4 (133 seconds)\n"
          ]
        },
        {
          "output_type": "stream",
          "name": "stderr",
          "text": [
            "Extracting frames: 100%|██████████| 2/2 [00:00<00:00,  2.40it/s]\n"
          ]
        },
        {
          "output_type": "stream",
          "name": "stdout",
          "text": [
            "\n",
            "No embeddings extracted for Bodycam Shows Suspect Shooting Oklahoma City Cop at Close Range During Pat-Down.mp4.\n",
            "Processing Bodycam Shows Suspect Shooting Oklahoma City Cop at Close Range During Pat-Down.mp4 (133 seconds)\n"
          ]
        },
        {
          "output_type": "stream",
          "name": "stderr",
          "text": [
            "Extracting frames: 100%|██████████| 2/2 [00:01<00:00,  1.48it/s]\n"
          ]
        },
        {
          "output_type": "stream",
          "name": "stdout",
          "text": [
            "Extracted (1, 2051) embeddings\n",
            "Processing Bodycam Shows Suspect Shooting Oklahoma City Cop at Close Range During Pat-Down.mp4 (133 seconds)\n"
          ]
        },
        {
          "output_type": "stream",
          "name": "stderr",
          "text": [
            "Extracting frames: 100%|██████████| 2/2 [00:00<00:00,  2.68it/s]\n"
          ]
        },
        {
          "output_type": "stream",
          "name": "stdout",
          "text": [
            "\n",
            "No embeddings extracted for Bodycam Shows Suspect Shooting Oklahoma City Cop at Close Range During Pat-Down.mp4.\n",
            "Processing Bodycam Shows Suspect Shooting Oklahoma City Cop at Close Range During Pat-Down.mp4 (133 seconds)\n"
          ]
        },
        {
          "output_type": "stream",
          "name": "stderr",
          "text": [
            "Extracting frames: 100%|██████████| 2/2 [00:02<00:00,  1.04s/it]\n"
          ]
        },
        {
          "output_type": "stream",
          "name": "stdout",
          "text": [
            "Extracted (1, 2051) embeddings\n",
            "Processing Bodycam Shows Suspect Shooting Oklahoma City Cop at Close Range During Pat-Down.mp4 (133 seconds)\n"
          ]
        },
        {
          "output_type": "stream",
          "name": "stderr",
          "text": [
            "Extracting frames: 100%|██████████| 2/2 [00:01<00:00,  1.32it/s]\n"
          ]
        },
        {
          "output_type": "stream",
          "name": "stdout",
          "text": [
            "\n",
            "No embeddings extracted for Bodycam Shows Suspect Shooting Oklahoma City Cop at Close Range During Pat-Down.mp4.\n",
            "Processing Bodycam Shows Suspect Shooting Oklahoma City Cop at Close Range During Pat-Down.mp4 (133 seconds)\n"
          ]
        },
        {
          "output_type": "stream",
          "name": "stderr",
          "text": [
            "Extracting frames: 100%|██████████| 2/2 [00:01<00:00,  1.91it/s]\n"
          ]
        },
        {
          "output_type": "stream",
          "name": "stdout",
          "text": [
            "\n",
            "No embeddings extracted for Bodycam Shows Suspect Shooting Oklahoma City Cop at Close Range During Pat-Down.mp4.\n",
            "Processing Bodycam Shows Suspect Shooting Oklahoma City Cop at Close Range During Pat-Down.mp4 (133 seconds)\n"
          ]
        },
        {
          "output_type": "stream",
          "name": "stderr",
          "text": [
            "Extracting frames: 100%|██████████| 2/2 [00:00<00:00,  2.51it/s]\n"
          ]
        },
        {
          "output_type": "stream",
          "name": "stdout",
          "text": [
            "\n",
            "No embeddings extracted for Bodycam Shows Suspect Shooting Oklahoma City Cop at Close Range During Pat-Down.mp4.\n",
            "Processing Bodycam Shows Suspect Shooting Oklahoma City Cop at Close Range During Pat-Down.mp4 (133 seconds)\n"
          ]
        },
        {
          "output_type": "stream",
          "name": "stderr",
          "text": [
            "Extracting frames: 100%|██████████| 2/2 [00:00<00:00,  2.67it/s]\n"
          ]
        },
        {
          "output_type": "stream",
          "name": "stdout",
          "text": [
            "\n",
            "No embeddings extracted for Bodycam Shows Suspect Shooting Oklahoma City Cop at Close Range During Pat-Down.mp4.\n",
            "Processing Bodycam Shows Suspect Shooting Oklahoma City Cop at Close Range During Pat-Down.mp4 (133 seconds)\n"
          ]
        },
        {
          "output_type": "stream",
          "name": "stderr",
          "text": [
            "Extracting frames: 100%|██████████| 2/2 [00:00<00:00,  2.58it/s]\n"
          ]
        },
        {
          "output_type": "stream",
          "name": "stdout",
          "text": [
            "\n",
            "No embeddings extracted for Bodycam Shows Suspect Shooting Oklahoma City Cop at Close Range During Pat-Down.mp4.\n",
            "Processing Bodycam Shows Suspect Shooting Oklahoma City Cop at Close Range During Pat-Down.mp4 (133 seconds)\n"
          ]
        },
        {
          "output_type": "stream",
          "name": "stderr",
          "text": [
            "Extracting frames: 100%|██████████| 2/2 [00:01<00:00,  1.05it/s]\n"
          ]
        },
        {
          "output_type": "stream",
          "name": "stdout",
          "text": [
            "Extracted (1, 2051) embeddings\n",
            "Processing Bodycam Shows Suspect Shooting Oklahoma City Cop at Close Range During Pat-Down.mp4 (133 seconds)\n"
          ]
        },
        {
          "output_type": "stream",
          "name": "stderr",
          "text": [
            "Extracting frames: 100%|██████████| 2/2 [00:01<00:00,  1.94it/s]\n"
          ]
        },
        {
          "output_type": "stream",
          "name": "stdout",
          "text": [
            "Extracted (1, 2051) embeddings\n",
            "Processing Bodycam Shows Suspect Shooting Oklahoma City Cop at Close Range During Pat-Down.mp4 (133 seconds)\n"
          ]
        },
        {
          "output_type": "stream",
          "name": "stderr",
          "text": [
            "Extracting frames: 100%|██████████| 2/2 [00:00<00:00,  2.01it/s]\n"
          ]
        },
        {
          "output_type": "stream",
          "name": "stdout",
          "text": [
            "Extracted (1, 2051) embeddings\n",
            "Processing Bodycam Shows Suspect Shooting Oklahoma City Cop at Close Range During Pat-Down.mp4 (133 seconds)\n"
          ]
        },
        {
          "output_type": "stream",
          "name": "stderr",
          "text": [
            "Extracting frames: 100%|██████████| 2/2 [00:00<00:00,  2.92it/s]\n"
          ]
        },
        {
          "output_type": "stream",
          "name": "stdout",
          "text": [
            "\n",
            "No embeddings extracted for Bodycam Shows Suspect Shooting Oklahoma City Cop at Close Range During Pat-Down.mp4.\n",
            "Processing Bodycam Shows Suspect Shooting Oklahoma City Cop at Close Range During Pat-Down.mp4 (133 seconds)\n"
          ]
        },
        {
          "output_type": "stream",
          "name": "stderr",
          "text": [
            "Extracting frames: 100%|██████████| 2/2 [00:00<00:00,  2.54it/s]\n"
          ]
        },
        {
          "output_type": "stream",
          "name": "stdout",
          "text": [
            "\n",
            "No embeddings extracted for Bodycam Shows Suspect Shooting Oklahoma City Cop at Close Range During Pat-Down.mp4.\n",
            "Processing Bodycam Shows Suspect Shooting Oklahoma City Cop at Close Range During Pat-Down.mp4 (133 seconds)\n"
          ]
        },
        {
          "output_type": "stream",
          "name": "stderr",
          "text": [
            "Extracting frames: 100%|██████████| 2/2 [00:00<00:00,  2.60it/s]\n"
          ]
        },
        {
          "output_type": "stream",
          "name": "stdout",
          "text": [
            "\n",
            "No embeddings extracted for Bodycam Shows Suspect Shooting Oklahoma City Cop at Close Range During Pat-Down.mp4.\n",
            "Processing Bodycam Shows Suspect Shooting Oklahoma City Cop at Close Range During Pat-Down.mp4 (133 seconds)\n"
          ]
        },
        {
          "output_type": "stream",
          "name": "stderr",
          "text": [
            "Extracting frames: 100%|██████████| 2/2 [00:03<00:00,  1.73s/it]\n"
          ]
        },
        {
          "output_type": "stream",
          "name": "stdout",
          "text": [
            "\n",
            "No embeddings extracted for Bodycam Shows Suspect Shooting Oklahoma City Cop at Close Range During Pat-Down.mp4.\n",
            "Processing Bodycam Shows Suspect Shooting Oklahoma City Cop at Close Range During Pat-Down.mp4 (133 seconds)\n"
          ]
        },
        {
          "output_type": "stream",
          "name": "stderr",
          "text": [
            "Extracting frames: 100%|██████████| 2/2 [00:00<00:00,  2.56it/s]\n"
          ]
        },
        {
          "output_type": "stream",
          "name": "stdout",
          "text": [
            "\n",
            "No embeddings extracted for Bodycam Shows Suspect Shooting Oklahoma City Cop at Close Range During Pat-Down.mp4.\n",
            "Processing Bodycam Shows Suspect Shooting Oklahoma City Cop at Close Range During Pat-Down.mp4 (133 seconds)\n"
          ]
        },
        {
          "output_type": "stream",
          "name": "stderr",
          "text": [
            "Extracting frames: 100%|██████████| 2/2 [00:00<00:00,  2.66it/s]\n"
          ]
        },
        {
          "output_type": "stream",
          "name": "stdout",
          "text": [
            "\n",
            "No embeddings extracted for Bodycam Shows Suspect Shooting Oklahoma City Cop at Close Range During Pat-Down.mp4.\n",
            "Processing Bodycam Shows Suspect Shooting Oklahoma City Cop at Close Range During Pat-Down.mp4 (133 seconds)\n"
          ]
        },
        {
          "output_type": "stream",
          "name": "stderr",
          "text": [
            "Extracting frames: 100%|██████████| 2/2 [00:01<00:00,  1.80it/s]\n"
          ]
        },
        {
          "output_type": "stream",
          "name": "stdout",
          "text": [
            "Extracted (1, 2051) embeddings\n",
            "Processing Bodycam Shows Suspect Shooting Oklahoma City Cop at Close Range During Pat-Down.mp4 (133 seconds)\n"
          ]
        },
        {
          "output_type": "stream",
          "name": "stderr",
          "text": [
            "Extracting frames: 100%|██████████| 2/2 [00:01<00:00,  1.01it/s]\n"
          ]
        },
        {
          "output_type": "stream",
          "name": "stdout",
          "text": [
            "Extracted (2, 2051) embeddings\n",
            "Processing Bodycam Shows Suspect Shooting Oklahoma City Cop at Close Range During Pat-Down.mp4 (133 seconds)\n"
          ]
        },
        {
          "output_type": "stream",
          "name": "stderr",
          "text": [
            "Extracting frames: 100%|██████████| 2/2 [00:01<00:00,  1.14it/s]\n"
          ]
        },
        {
          "output_type": "stream",
          "name": "stdout",
          "text": [
            "Extracted (2, 2051) embeddings\n",
            "Processing Bodycam Shows Suspect Shooting Oklahoma City Cop at Close Range During Pat-Down.mp4 (133 seconds)\n"
          ]
        },
        {
          "output_type": "stream",
          "name": "stderr",
          "text": [
            "Extracting frames: 100%|██████████| 2/2 [00:01<00:00,  1.75it/s]\n"
          ]
        },
        {
          "output_type": "stream",
          "name": "stdout",
          "text": [
            "Extracted (1, 2051) embeddings\n",
            "Processing Bodycam Shows Suspect Shooting Oklahoma City Cop at Close Range During Pat-Down.mp4 (133 seconds)\n"
          ]
        },
        {
          "output_type": "stream",
          "name": "stderr",
          "text": [
            "Extracting frames: 100%|██████████| 2/2 [00:00<00:00,  2.80it/s]\n"
          ]
        },
        {
          "output_type": "stream",
          "name": "stdout",
          "text": [
            "\n",
            "No embeddings extracted for Bodycam Shows Suspect Shooting Oklahoma City Cop at Close Range During Pat-Down.mp4.\n",
            "Processing Bodycam Shows Suspect Shooting Oklahoma City Cop at Close Range During Pat-Down.mp4 (133 seconds)\n"
          ]
        },
        {
          "output_type": "stream",
          "name": "stderr",
          "text": [
            "Extracting frames: 100%|██████████| 2/2 [00:00<00:00,  3.27it/s]\n"
          ]
        },
        {
          "output_type": "stream",
          "name": "stdout",
          "text": [
            "\n",
            "No embeddings extracted for Bodycam Shows Suspect Shooting Oklahoma City Cop at Close Range During Pat-Down.mp4.\n",
            "Processing Bodycam Shows Suspect Shooting Oklahoma City Cop at Close Range During Pat-Down.mp4 (133 seconds)\n"
          ]
        },
        {
          "output_type": "stream",
          "name": "stderr",
          "text": [
            "Extracting frames: 100%|██████████| 2/2 [00:00<00:00,  3.15it/s]\n"
          ]
        },
        {
          "output_type": "stream",
          "name": "stdout",
          "text": [
            "\n",
            "No embeddings extracted for Bodycam Shows Suspect Shooting Oklahoma City Cop at Close Range During Pat-Down.mp4.\n",
            "Processing Bodycam Shows Suspect Shooting Oklahoma City Cop at Close Range During Pat-Down.mp4 (133 seconds)\n"
          ]
        },
        {
          "output_type": "stream",
          "name": "stderr",
          "text": [
            "Extracting frames: 100%|██████████| 2/2 [00:02<00:00,  1.01s/it]\n"
          ]
        },
        {
          "output_type": "stream",
          "name": "stdout",
          "text": [
            "\n",
            "No embeddings extracted for Bodycam Shows Suspect Shooting Oklahoma City Cop at Close Range During Pat-Down.mp4.\n",
            "Processing Bodycam Shows Suspect Shooting Oklahoma City Cop at Close Range During Pat-Down.mp4 (133 seconds)\n"
          ]
        },
        {
          "output_type": "stream",
          "name": "stderr",
          "text": [
            "Extracting frames: 100%|██████████| 2/2 [00:02<00:00,  1.49s/it]\n"
          ]
        },
        {
          "output_type": "stream",
          "name": "stdout",
          "text": [
            "\n",
            "No embeddings extracted for Bodycam Shows Suspect Shooting Oklahoma City Cop at Close Range During Pat-Down.mp4.\n",
            "Processing Bodycam Shows Suspect Shooting Oklahoma City Cop at Close Range During Pat-Down.mp4 (133 seconds)\n"
          ]
        },
        {
          "output_type": "stream",
          "name": "stderr",
          "text": [
            "Extracting frames: 100%|██████████| 2/2 [00:00<00:00,  3.36it/s]\n"
          ]
        },
        {
          "output_type": "stream",
          "name": "stdout",
          "text": [
            "\n",
            "No embeddings extracted for Bodycam Shows Suspect Shooting Oklahoma City Cop at Close Range During Pat-Down.mp4.\n",
            "Processing Bodycam Shows Suspect Shooting Oklahoma City Cop at Close Range During Pat-Down.mp4 (133 seconds)\n"
          ]
        },
        {
          "output_type": "stream",
          "name": "stderr",
          "text": [
            "Extracting frames: 100%|██████████| 2/2 [00:01<00:00,  1.34it/s]\n"
          ]
        },
        {
          "output_type": "stream",
          "name": "stdout",
          "text": [
            "Extracted (1, 2051) embeddings\n",
            "Processing Bodycam Shows Suspect Shooting Oklahoma City Cop at Close Range During Pat-Down.mp4 (133 seconds)\n"
          ]
        },
        {
          "output_type": "stream",
          "name": "stderr",
          "text": [
            "Extracting frames: 100%|██████████| 2/2 [00:00<00:00,  2.73it/s]\n"
          ]
        },
        {
          "output_type": "stream",
          "name": "stdout",
          "text": [
            "\n",
            "No embeddings extracted for Bodycam Shows Suspect Shooting Oklahoma City Cop at Close Range During Pat-Down.mp4.\n",
            "Processing Bodycam Shows Suspect Shooting Oklahoma City Cop at Close Range During Pat-Down.mp4 (133 seconds)\n"
          ]
        },
        {
          "output_type": "stream",
          "name": "stderr",
          "text": [
            "Extracting frames: 100%|██████████| 2/2 [00:01<00:00,  1.76it/s]\n"
          ]
        },
        {
          "output_type": "stream",
          "name": "stdout",
          "text": [
            "Extracted (1, 2051) embeddings\n",
            "Processing Bodycam Shows Suspect Shooting Oklahoma City Cop at Close Range During Pat-Down.mp4 (133 seconds)\n"
          ]
        },
        {
          "output_type": "stream",
          "name": "stderr",
          "text": [
            "Extracting frames: 100%|██████████| 2/2 [00:01<00:00,  1.90it/s]\n"
          ]
        },
        {
          "output_type": "stream",
          "name": "stdout",
          "text": [
            "\n",
            "No embeddings extracted for Bodycam Shows Suspect Shooting Oklahoma City Cop at Close Range During Pat-Down.mp4.\n",
            "Processing Bodycam Shows Suspect Shooting Oklahoma City Cop at Close Range During Pat-Down.mp4 (133 seconds)\n"
          ]
        },
        {
          "output_type": "stream",
          "name": "stderr",
          "text": [
            "Extracting frames: 100%|██████████| 2/2 [00:01<00:00,  1.89it/s]\n"
          ]
        },
        {
          "output_type": "stream",
          "name": "stdout",
          "text": [
            "Extracted (1, 2051) embeddings\n",
            "Processing Bodycam Shows Suspect Shooting Oklahoma City Cop at Close Range During Pat-Down.mp4 (133 seconds)\n"
          ]
        },
        {
          "output_type": "stream",
          "name": "stderr",
          "text": [
            "Extracting frames: 100%|██████████| 2/2 [00:00<00:00,  3.99it/s]\n"
          ]
        },
        {
          "output_type": "stream",
          "name": "stdout",
          "text": [
            "\n",
            "No embeddings extracted for Bodycam Shows Suspect Shooting Oklahoma City Cop at Close Range During Pat-Down.mp4.\n",
            "Processing Bodycam Shows Suspect Shooting Oklahoma City Cop at Close Range During Pat-Down.mp4 (133 seconds)\n"
          ]
        },
        {
          "output_type": "stream",
          "name": "stderr",
          "text": [
            "Extracting frames: 100%|██████████| 2/2 [00:02<00:00,  1.19s/it]\n"
          ]
        },
        {
          "output_type": "stream",
          "name": "stdout",
          "text": [
            "Extracted (1, 2051) embeddings\n",
            "Processing Bodycam Shows Suspect Shooting Oklahoma City Cop at Close Range During Pat-Down.mp4 (133 seconds)\n"
          ]
        },
        {
          "output_type": "stream",
          "name": "stderr",
          "text": [
            "Extracting frames: 100%|██████████| 2/2 [00:00<00:00,  2.88it/s]\n"
          ]
        },
        {
          "output_type": "stream",
          "name": "stdout",
          "text": [
            "\n",
            "No embeddings extracted for Bodycam Shows Suspect Shooting Oklahoma City Cop at Close Range During Pat-Down.mp4.\n",
            "Processing Bodycam Shows Suspect Shooting Oklahoma City Cop at Close Range During Pat-Down.mp4 (133 seconds)\n"
          ]
        },
        {
          "output_type": "stream",
          "name": "stderr",
          "text": [
            "Extracting frames: 100%|██████████| 2/2 [00:01<00:00,  1.80it/s]\n"
          ]
        },
        {
          "output_type": "stream",
          "name": "stdout",
          "text": [
            "Extracted (1, 2051) embeddings\n"
          ]
        },
        {
          "output_type": "display_data",
          "data": {
            "text/plain": [
              "<Figure size 1000x600 with 1 Axes>"
            ],
            "image/png": "[encoded data removed]"
          },
          "metadata": {}
        }
      ]
    },
    {
      "cell_type": "code",
      "source": [
        "video_name = \"Bodycam Captures Tampa Police Chief Using Position To Get Out of Traffic Violation.mp4\"\n",
        "video_path = os.path.join(video_dir, video_name)\n",
        "result = analyze_video_incremental(video_path, model)\n",
        "p = [i if isinstance(i,float) else i.item() for i in result[0]]\n",
        "t  = [i for i in result[1]]\n",
        "plot_incremental_analysis(p,t)"
      ],
      "metadata": {
        "colab": {
          "base_uri": "https://localhost:8080/",
          "height": 1000
        },
        "id": "rgWhjziLe4aK",
        "outputId": "730d0a18-9406-4ab6-f203-38ec54686a41"
      },
      "execution_count": null,
      "outputs": [
        {
          "output_type": "stream",
          "name": "stderr",
          "text": [
            "Detecting first face:   0%|          | 0/134 [00:00<?, ?it/s]\n"
          ]
        },
        {
          "output_type": "stream",
          "name": "stdout",
          "text": [
            "0 134\n",
            "Processing Bodycam Captures Tampa Police Chief Using Position To Get Out of Traffic Violation.mp4 (134 seconds)\n"
          ]
        },
        {
          "output_type": "stream",
          "name": "stderr",
          "text": [
            "Extracting frames: 0it [00:00, ?it/s]"
          ]
        },
        {
          "output_type": "stream",
          "name": "stdout",
          "text": [
            "\n",
            "No embeddings extracted for Bodycam Captures Tampa Police Chief Using Position To Get Out of Traffic Violation.mp4.\n"
          ]
        },
        {
          "output_type": "stream",
          "name": "stderr",
          "text": [
            "\n"
          ]
        },
        {
          "output_type": "stream",
          "name": "stdout",
          "text": [
            "Processing Bodycam Captures Tampa Police Chief Using Position To Get Out of Traffic Violation.mp4 (134 seconds)\n"
          ]
        },
        {
          "output_type": "stream",
          "name": "stderr",
          "text": [
            "Extracting frames: 100%|██████████| 2/2 [00:01<00:00,  1.82it/s]\n"
          ]
        },
        {
          "output_type": "stream",
          "name": "stdout",
          "text": [
            "Extracted (1, 2051) embeddings\n",
            "Processing Bodycam Captures Tampa Police Chief Using Position To Get Out of Traffic Violation.mp4 (134 seconds)\n"
          ]
        },
        {
          "output_type": "stream",
          "name": "stderr",
          "text": [
            "Extracting frames: 100%|██████████| 2/2 [00:01<00:00,  1.81it/s]\n"
          ]
        },
        {
          "output_type": "stream",
          "name": "stdout",
          "text": [
            "\n",
            "No embeddings extracted for Bodycam Captures Tampa Police Chief Using Position To Get Out of Traffic Violation.mp4.\n",
            "Processing Bodycam Captures Tampa Police Chief Using Position To Get Out of Traffic Violation.mp4 (134 seconds)\n"
          ]
        },
        {
          "output_type": "stream",
          "name": "stderr",
          "text": [
            "Extracting frames: 100%|██████████| 2/2 [00:01<00:00,  1.88it/s]\n"
          ]
        },
        {
          "output_type": "stream",
          "name": "stdout",
          "text": [
            "\n",
            "No embeddings extracted for Bodycam Captures Tampa Police Chief Using Position To Get Out of Traffic Violation.mp4.\n",
            "Processing Bodycam Captures Tampa Police Chief Using Position To Get Out of Traffic Violation.mp4 (134 seconds)\n"
          ]
        },
        {
          "output_type": "stream",
          "name": "stderr",
          "text": [
            "Extracting frames: 100%|██████████| 2/2 [00:00<00:00,  3.62it/s]\n"
          ]
        },
        {
          "output_type": "stream",
          "name": "stdout",
          "text": [
            "\n",
            "No embeddings extracted for Bodycam Captures Tampa Police Chief Using Position To Get Out of Traffic Violation.mp4.\n",
            "Processing Bodycam Captures Tampa Police Chief Using Position To Get Out of Traffic Violation.mp4 (134 seconds)\n"
          ]
        },
        {
          "output_type": "stream",
          "name": "stderr",
          "text": [
            "Extracting frames: 100%|██████████| 2/2 [00:00<00:00,  3.02it/s]\n"
          ]
        },
        {
          "output_type": "stream",
          "name": "stdout",
          "text": [
            "\n",
            "No embeddings extracted for Bodycam Captures Tampa Police Chief Using Position To Get Out of Traffic Violation.mp4.\n",
            "Processing Bodycam Captures Tampa Police Chief Using Position To Get Out of Traffic Violation.mp4 (134 seconds)\n"
          ]
        },
        {
          "output_type": "stream",
          "name": "stderr",
          "text": [
            "Extracting frames: 100%|██████████| 2/2 [00:00<00:00,  3.41it/s]\n"
          ]
        },
        {
          "output_type": "stream",
          "name": "stdout",
          "text": [
            "\n",
            "No embeddings extracted for Bodycam Captures Tampa Police Chief Using Position To Get Out of Traffic Violation.mp4.\n",
            "Processing Bodycam Captures Tampa Police Chief Using Position To Get Out of Traffic Violation.mp4 (134 seconds)\n"
          ]
        },
        {
          "output_type": "stream",
          "name": "stderr",
          "text": [
            "Extracting frames: 100%|██████████| 2/2 [00:01<00:00,  1.98it/s]\n"
          ]
        },
        {
          "output_type": "stream",
          "name": "stdout",
          "text": [
            "\n",
            "No embeddings extracted for Bodycam Captures Tampa Police Chief Using Position To Get Out of Traffic Violation.mp4.\n",
            "Processing Bodycam Captures Tampa Police Chief Using Position To Get Out of Traffic Violation.mp4 (134 seconds)\n"
          ]
        },
        {
          "output_type": "stream",
          "name": "stderr",
          "text": [
            "Extracting frames: 100%|██████████| 2/2 [00:00<00:00,  2.16it/s]\n"
          ]
        },
        {
          "output_type": "stream",
          "name": "stdout",
          "text": [
            "\n",
            "No embeddings extracted for Bodycam Captures Tampa Police Chief Using Position To Get Out of Traffic Violation.mp4.\n",
            "Processing Bodycam Captures Tampa Police Chief Using Position To Get Out of Traffic Violation.mp4 (134 seconds)\n"
          ]
        },
        {
          "output_type": "stream",
          "name": "stderr",
          "text": [
            "Extracting frames: 100%|██████████| 2/2 [00:00<00:00,  3.45it/s]\n"
          ]
        },
        {
          "output_type": "stream",
          "name": "stdout",
          "text": [
            "\n",
            "No embeddings extracted for Bodycam Captures Tampa Police Chief Using Position To Get Out of Traffic Violation.mp4.\n",
            "Processing Bodycam Captures Tampa Police Chief Using Position To Get Out of Traffic Violation.mp4 (134 seconds)\n"
          ]
        },
        {
          "output_type": "stream",
          "name": "stderr",
          "text": [
            "Extracting frames: 100%|██████████| 2/2 [00:00<00:00,  3.22it/s]\n"
          ]
        },
        {
          "output_type": "stream",
          "name": "stdout",
          "text": [
            "\n",
            "No embeddings extracted for Bodycam Captures Tampa Police Chief Using Position To Get Out of Traffic Violation.mp4.\n",
            "Processing Bodycam Captures Tampa Police Chief Using Position To Get Out of Traffic Violation.mp4 (134 seconds)\n"
          ]
        },
        {
          "output_type": "stream",
          "name": "stderr",
          "text": [
            "Extracting frames: 100%|██████████| 2/2 [00:00<00:00,  3.16it/s]\n"
          ]
        },
        {
          "output_type": "stream",
          "name": "stdout",
          "text": [
            "\n",
            "No embeddings extracted for Bodycam Captures Tampa Police Chief Using Position To Get Out of Traffic Violation.mp4.\n",
            "Processing Bodycam Captures Tampa Police Chief Using Position To Get Out of Traffic Violation.mp4 (134 seconds)\n"
          ]
        },
        {
          "output_type": "stream",
          "name": "stderr",
          "text": [
            "Extracting frames: 100%|██████████| 2/2 [00:00<00:00,  3.72it/s]\n"
          ]
        },
        {
          "output_type": "stream",
          "name": "stdout",
          "text": [
            "\n",
            "No embeddings extracted for Bodycam Captures Tampa Police Chief Using Position To Get Out of Traffic Violation.mp4.\n",
            "Processing Bodycam Captures Tampa Police Chief Using Position To Get Out of Traffic Violation.mp4 (134 seconds)\n"
          ]
        },
        {
          "output_type": "stream",
          "name": "stderr",
          "text": [
            "Extracting frames: 100%|██████████| 2/2 [00:00<00:00,  3.43it/s]\n"
          ]
        },
        {
          "output_type": "stream",
          "name": "stdout",
          "text": [
            "\n",
            "No embeddings extracted for Bodycam Captures Tampa Police Chief Using Position To Get Out of Traffic Violation.mp4.\n",
            "Processing Bodycam Captures Tampa Police Chief Using Position To Get Out of Traffic Violation.mp4 (134 seconds)\n"
          ]
        },
        {
          "output_type": "stream",
          "name": "stderr",
          "text": [
            "Extracting frames: 100%|██████████| 2/2 [00:01<00:00,  1.46it/s]\n"
          ]
        },
        {
          "output_type": "stream",
          "name": "stdout",
          "text": [
            "Extracted (1, 2051) embeddings\n",
            "Processing Bodycam Captures Tampa Police Chief Using Position To Get Out of Traffic Violation.mp4 (134 seconds)\n"
          ]
        },
        {
          "output_type": "stream",
          "name": "stderr",
          "text": [
            "Extracting frames: 100%|██████████| 2/2 [00:01<00:00,  1.98it/s]\n"
          ]
        },
        {
          "output_type": "stream",
          "name": "stdout",
          "text": [
            "\n",
            "No embeddings extracted for Bodycam Captures Tampa Police Chief Using Position To Get Out of Traffic Violation.mp4.\n",
            "Processing Bodycam Captures Tampa Police Chief Using Position To Get Out of Traffic Violation.mp4 (134 seconds)\n"
          ]
        },
        {
          "output_type": "stream",
          "name": "stderr",
          "text": [
            "Extracting frames: 100%|██████████| 2/2 [00:03<00:00,  1.79s/it]\n"
          ]
        },
        {
          "output_type": "stream",
          "name": "stdout",
          "text": [
            "Extracted (1, 2051) embeddings\n",
            "Processing Bodycam Captures Tampa Police Chief Using Position To Get Out of Traffic Violation.mp4 (134 seconds)\n"
          ]
        },
        {
          "output_type": "stream",
          "name": "stderr",
          "text": [
            "Extracting frames: 100%|██████████| 2/2 [00:00<00:00,  2.85it/s]\n"
          ]
        },
        {
          "output_type": "stream",
          "name": "stdout",
          "text": [
            "\n",
            "No embeddings extracted for Bodycam Captures Tampa Police Chief Using Position To Get Out of Traffic Violation.mp4.\n",
            "Processing Bodycam Captures Tampa Police Chief Using Position To Get Out of Traffic Violation.mp4 (134 seconds)\n"
          ]
        },
        {
          "output_type": "stream",
          "name": "stderr",
          "text": [
            "Extracting frames: 100%|██████████| 2/2 [00:01<00:00,  1.85it/s]\n"
          ]
        },
        {
          "output_type": "stream",
          "name": "stdout",
          "text": [
            "Extracted (1, 2051) embeddings\n",
            "Processing Bodycam Captures Tampa Police Chief Using Position To Get Out of Traffic Violation.mp4 (134 seconds)\n"
          ]
        },
        {
          "output_type": "stream",
          "name": "stderr",
          "text": [
            "Extracting frames: 100%|██████████| 2/2 [00:01<00:00,  1.05it/s]\n"
          ]
        },
        {
          "output_type": "stream",
          "name": "stdout",
          "text": [
            "Extracted (2, 2051) embeddings\n",
            "Processing Bodycam Captures Tampa Police Chief Using Position To Get Out of Traffic Violation.mp4 (134 seconds)\n"
          ]
        },
        {
          "output_type": "stream",
          "name": "stderr",
          "text": [
            "Extracting frames: 100%|██████████| 2/2 [00:01<00:00,  1.56it/s]\n"
          ]
        },
        {
          "output_type": "stream",
          "name": "stdout",
          "text": [
            "Extracted (2, 2051) embeddings\n",
            "Processing Bodycam Captures Tampa Police Chief Using Position To Get Out of Traffic Violation.mp4 (134 seconds)\n"
          ]
        },
        {
          "output_type": "stream",
          "name": "stderr",
          "text": [
            "Extracting frames: 100%|██████████| 2/2 [00:01<00:00,  1.51it/s]\n"
          ]
        },
        {
          "output_type": "stream",
          "name": "stdout",
          "text": [
            "Extracted (2, 2051) embeddings\n",
            "Processing Bodycam Captures Tampa Police Chief Using Position To Get Out of Traffic Violation.mp4 (134 seconds)\n"
          ]
        },
        {
          "output_type": "stream",
          "name": "stderr",
          "text": [
            "Extracting frames: 100%|██████████| 2/2 [00:02<00:00,  1.02s/it]\n"
          ]
        },
        {
          "output_type": "stream",
          "name": "stdout",
          "text": [
            "Extracted (2, 2051) embeddings\n",
            "Processing Bodycam Captures Tampa Police Chief Using Position To Get Out of Traffic Violation.mp4 (134 seconds)\n"
          ]
        },
        {
          "output_type": "stream",
          "name": "stderr",
          "text": [
            "Extracting frames: 100%|██████████| 2/2 [00:01<00:00,  1.60it/s]\n"
          ]
        },
        {
          "output_type": "stream",
          "name": "stdout",
          "text": [
            "Extracted (2, 2051) embeddings\n",
            "Processing Bodycam Captures Tampa Police Chief Using Position To Get Out of Traffic Violation.mp4 (134 seconds)\n"
          ]
        },
        {
          "output_type": "stream",
          "name": "stderr",
          "text": [
            "Extracting frames: 100%|██████████| 2/2 [00:01<00:00,  1.05it/s]\n"
          ]
        },
        {
          "output_type": "stream",
          "name": "stdout",
          "text": [
            "Extracted (2, 2051) embeddings\n",
            "Processing Bodycam Captures Tampa Police Chief Using Position To Get Out of Traffic Violation.mp4 (134 seconds)\n"
          ]
        },
        {
          "output_type": "stream",
          "name": "stderr",
          "text": [
            "Extracting frames: 100%|██████████| 2/2 [00:01<00:00,  1.57it/s]\n"
          ]
        },
        {
          "output_type": "stream",
          "name": "stdout",
          "text": [
            "Extracted (2, 2051) embeddings\n",
            "Processing Bodycam Captures Tampa Police Chief Using Position To Get Out of Traffic Violation.mp4 (134 seconds)\n"
          ]
        },
        {
          "output_type": "stream",
          "name": "stderr",
          "text": [
            "Extracting frames: 100%|██████████| 2/2 [00:01<00:00,  1.07it/s]\n"
          ]
        },
        {
          "output_type": "stream",
          "name": "stdout",
          "text": [
            "Extracted (2, 2051) embeddings\n",
            "Processing Bodycam Captures Tampa Police Chief Using Position To Get Out of Traffic Violation.mp4 (134 seconds)\n"
          ]
        },
        {
          "output_type": "stream",
          "name": "stderr",
          "text": [
            "Extracting frames: 100%|██████████| 2/2 [00:01<00:00,  1.04it/s]\n"
          ]
        },
        {
          "output_type": "stream",
          "name": "stdout",
          "text": [
            "Extracted (2, 2051) embeddings\n",
            "Processing Bodycam Captures Tampa Police Chief Using Position To Get Out of Traffic Violation.mp4 (134 seconds)\n"
          ]
        },
        {
          "output_type": "stream",
          "name": "stderr",
          "text": [
            "Extracting frames: 100%|██████████| 2/2 [00:02<00:00,  1.45s/it]\n"
          ]
        },
        {
          "output_type": "stream",
          "name": "stdout",
          "text": [
            "Extracted (2, 2051) embeddings\n",
            "Processing Bodycam Captures Tampa Police Chief Using Position To Get Out of Traffic Violation.mp4 (134 seconds)\n"
          ]
        },
        {
          "output_type": "stream",
          "name": "stderr",
          "text": [
            "Extracting frames: 100%|██████████| 2/2 [00:01<00:00,  1.49it/s]\n"
          ]
        },
        {
          "output_type": "stream",
          "name": "stdout",
          "text": [
            "Extracted (2, 2051) embeddings\n",
            "Processing Bodycam Captures Tampa Police Chief Using Position To Get Out of Traffic Violation.mp4 (134 seconds)\n"
          ]
        },
        {
          "output_type": "stream",
          "name": "stderr",
          "text": [
            "Extracting frames: 100%|██████████| 2/2 [00:01<00:00,  1.68it/s]\n"
          ]
        },
        {
          "output_type": "stream",
          "name": "stdout",
          "text": [
            "Extracted (2, 2051) embeddings\n",
            "Processing Bodycam Captures Tampa Police Chief Using Position To Get Out of Traffic Violation.mp4 (134 seconds)\n"
          ]
        },
        {
          "output_type": "stream",
          "name": "stderr",
          "text": [
            "Extracting frames: 100%|██████████| 2/2 [00:01<00:00,  1.54it/s]\n"
          ]
        },
        {
          "output_type": "stream",
          "name": "stdout",
          "text": [
            "Extracted (2, 2051) embeddings\n",
            "Processing Bodycam Captures Tampa Police Chief Using Position To Get Out of Traffic Violation.mp4 (134 seconds)\n"
          ]
        },
        {
          "output_type": "stream",
          "name": "stderr",
          "text": [
            "Extracting frames: 100%|██████████| 2/2 [00:01<00:00,  1.52it/s]\n"
          ]
        },
        {
          "output_type": "stream",
          "name": "stdout",
          "text": [
            "Extracted (2, 2051) embeddings\n",
            "Processing Bodycam Captures Tampa Police Chief Using Position To Get Out of Traffic Violation.mp4 (134 seconds)\n"
          ]
        },
        {
          "output_type": "stream",
          "name": "stderr",
          "text": [
            "Extracting frames: 100%|██████████| 2/2 [00:02<00:00,  1.03s/it]\n"
          ]
        },
        {
          "output_type": "stream",
          "name": "stdout",
          "text": [
            "Extracted (2, 2051) embeddings\n",
            "Processing Bodycam Captures Tampa Police Chief Using Position To Get Out of Traffic Violation.mp4 (134 seconds)\n"
          ]
        },
        {
          "output_type": "stream",
          "name": "stderr",
          "text": [
            "Extracting frames: 100%|██████████| 2/2 [00:01<00:00,  1.01it/s]\n"
          ]
        },
        {
          "output_type": "stream",
          "name": "stdout",
          "text": [
            "Extracted (2, 2051) embeddings\n",
            "Processing Bodycam Captures Tampa Police Chief Using Position To Get Out of Traffic Violation.mp4 (134 seconds)\n"
          ]
        },
        {
          "output_type": "stream",
          "name": "stderr",
          "text": [
            "Extracting frames: 100%|██████████| 2/2 [00:01<00:00,  1.51it/s]\n"
          ]
        },
        {
          "output_type": "stream",
          "name": "stdout",
          "text": [
            "Extracted (2, 2051) embeddings\n",
            "Processing Bodycam Captures Tampa Police Chief Using Position To Get Out of Traffic Violation.mp4 (134 seconds)\n"
          ]
        },
        {
          "output_type": "stream",
          "name": "stderr",
          "text": [
            "Extracting frames: 100%|██████████| 2/2 [00:01<00:00,  1.65it/s]\n"
          ]
        },
        {
          "output_type": "stream",
          "name": "stdout",
          "text": [
            "Extracted (2, 2051) embeddings\n",
            "Processing Bodycam Captures Tampa Police Chief Using Position To Get Out of Traffic Violation.mp4 (134 seconds)\n"
          ]
        },
        {
          "output_type": "stream",
          "name": "stderr",
          "text": [
            "Extracting frames: 100%|██████████| 2/2 [00:02<00:00,  1.08s/it]\n"
          ]
        },
        {
          "output_type": "stream",
          "name": "stdout",
          "text": [
            "Extracted (2, 2051) embeddings\n",
            "Processing Bodycam Captures Tampa Police Chief Using Position To Get Out of Traffic Violation.mp4 (134 seconds)\n"
          ]
        },
        {
          "output_type": "stream",
          "name": "stderr",
          "text": [
            "Extracting frames: 100%|██████████| 2/2 [00:01<00:00,  1.11it/s]\n"
          ]
        },
        {
          "output_type": "stream",
          "name": "stdout",
          "text": [
            "Extracted (2, 2051) embeddings\n",
            "Processing Bodycam Captures Tampa Police Chief Using Position To Get Out of Traffic Violation.mp4 (134 seconds)\n"
          ]
        },
        {
          "output_type": "stream",
          "name": "stderr",
          "text": [
            "Extracting frames: 100%|██████████| 2/2 [00:01<00:00,  1.46it/s]\n"
          ]
        },
        {
          "output_type": "stream",
          "name": "stdout",
          "text": [
            "Extracted (2, 2051) embeddings\n",
            "Processing Bodycam Captures Tampa Police Chief Using Position To Get Out of Traffic Violation.mp4 (134 seconds)\n"
          ]
        },
        {
          "output_type": "stream",
          "name": "stderr",
          "text": [
            "Extracting frames: 100%|██████████| 2/2 [00:01<00:00,  1.02it/s]\n"
          ]
        },
        {
          "output_type": "stream",
          "name": "stdout",
          "text": [
            "Extracted (2, 2051) embeddings\n",
            "Processing Bodycam Captures Tampa Police Chief Using Position To Get Out of Traffic Violation.mp4 (134 seconds)\n"
          ]
        },
        {
          "output_type": "stream",
          "name": "stderr",
          "text": [
            "Extracting frames: 100%|██████████| 2/2 [00:01<00:00,  1.93it/s]\n"
          ]
        },
        {
          "output_type": "stream",
          "name": "stdout",
          "text": [
            "Extracted (1, 2051) embeddings\n",
            "Processing Bodycam Captures Tampa Police Chief Using Position To Get Out of Traffic Violation.mp4 (134 seconds)\n"
          ]
        },
        {
          "output_type": "stream",
          "name": "stderr",
          "text": [
            "Extracting frames: 100%|██████████| 2/2 [00:01<00:00,  1.40it/s]\n"
          ]
        },
        {
          "output_type": "stream",
          "name": "stdout",
          "text": [
            "Extracted (2, 2051) embeddings\n",
            "Processing Bodycam Captures Tampa Police Chief Using Position To Get Out of Traffic Violation.mp4 (134 seconds)\n"
          ]
        },
        {
          "output_type": "stream",
          "name": "stderr",
          "text": [
            "Extracting frames: 100%|██████████| 2/2 [00:01<00:00,  1.07it/s]\n"
          ]
        },
        {
          "output_type": "stream",
          "name": "stdout",
          "text": [
            "Extracted (2, 2051) embeddings\n",
            "Processing Bodycam Captures Tampa Police Chief Using Position To Get Out of Traffic Violation.mp4 (134 seconds)\n"
          ]
        },
        {
          "output_type": "stream",
          "name": "stderr",
          "text": [
            "Extracting frames: 100%|██████████| 2/2 [00:01<00:00,  1.34it/s]\n"
          ]
        },
        {
          "output_type": "stream",
          "name": "stdout",
          "text": [
            "Extracted (2, 2051) embeddings\n",
            "Processing Bodycam Captures Tampa Police Chief Using Position To Get Out of Traffic Violation.mp4 (134 seconds)\n"
          ]
        },
        {
          "output_type": "stream",
          "name": "stderr",
          "text": [
            "Extracting frames: 100%|██████████| 2/2 [00:01<00:00,  1.02it/s]\n"
          ]
        },
        {
          "output_type": "stream",
          "name": "stdout",
          "text": [
            "Extracted (2, 2051) embeddings\n",
            "Processing Bodycam Captures Tampa Police Chief Using Position To Get Out of Traffic Violation.mp4 (134 seconds)\n"
          ]
        },
        {
          "output_type": "stream",
          "name": "stderr",
          "text": [
            "Extracting frames: 100%|██████████| 2/2 [00:01<00:00,  1.44it/s]\n"
          ]
        },
        {
          "output_type": "stream",
          "name": "stdout",
          "text": [
            "Extracted (2, 2051) embeddings\n",
            "Processing Bodycam Captures Tampa Police Chief Using Position To Get Out of Traffic Violation.mp4 (134 seconds)\n"
          ]
        },
        {
          "output_type": "stream",
          "name": "stderr",
          "text": [
            "Extracting frames: 100%|██████████| 2/2 [00:01<00:00,  1.34it/s]\n"
          ]
        },
        {
          "output_type": "stream",
          "name": "stdout",
          "text": [
            "Extracted (2, 2051) embeddings\n",
            "Processing Bodycam Captures Tampa Police Chief Using Position To Get Out of Traffic Violation.mp4 (134 seconds)\n"
          ]
        },
        {
          "output_type": "stream",
          "name": "stderr",
          "text": [
            "Extracting frames: 100%|██████████| 2/2 [00:02<00:00,  1.03s/it]\n"
          ]
        },
        {
          "output_type": "stream",
          "name": "stdout",
          "text": [
            "Extracted (2, 2051) embeddings\n",
            "Processing Bodycam Captures Tampa Police Chief Using Position To Get Out of Traffic Violation.mp4 (134 seconds)\n"
          ]
        },
        {
          "output_type": "stream",
          "name": "stderr",
          "text": [
            "Extracting frames: 100%|██████████| 2/2 [00:01<00:00,  1.42it/s]\n"
          ]
        },
        {
          "output_type": "stream",
          "name": "stdout",
          "text": [
            "Extracted (2, 2051) embeddings\n",
            "Processing Bodycam Captures Tampa Police Chief Using Position To Get Out of Traffic Violation.mp4 (134 seconds)\n"
          ]
        },
        {
          "output_type": "stream",
          "name": "stderr",
          "text": [
            "Extracting frames: 100%|██████████| 2/2 [00:01<00:00,  1.08it/s]\n"
          ]
        },
        {
          "output_type": "stream",
          "name": "stdout",
          "text": [
            "Extracted (2, 2051) embeddings\n",
            "Processing Bodycam Captures Tampa Police Chief Using Position To Get Out of Traffic Violation.mp4 (134 seconds)\n"
          ]
        },
        {
          "output_type": "stream",
          "name": "stderr",
          "text": [
            "Extracting frames: 100%|██████████| 2/2 [00:01<00:00,  1.50it/s]\n"
          ]
        },
        {
          "output_type": "stream",
          "name": "stdout",
          "text": [
            "Extracted (2, 2051) embeddings\n",
            "Processing Bodycam Captures Tampa Police Chief Using Position To Get Out of Traffic Violation.mp4 (134 seconds)\n"
          ]
        },
        {
          "output_type": "stream",
          "name": "stderr",
          "text": [
            "Extracting frames: 100%|██████████| 2/2 [00:00<00:00,  2.07it/s]\n"
          ]
        },
        {
          "output_type": "stream",
          "name": "stdout",
          "text": [
            "Extracted (1, 2051) embeddings\n",
            "Processing Bodycam Captures Tampa Police Chief Using Position To Get Out of Traffic Violation.mp4 (134 seconds)\n"
          ]
        },
        {
          "output_type": "stream",
          "name": "stderr",
          "text": [
            "Extracting frames: 100%|██████████| 2/2 [00:01<00:00,  1.05it/s]\n"
          ]
        },
        {
          "output_type": "stream",
          "name": "stdout",
          "text": [
            "Extracted (2, 2051) embeddings\n",
            "Processing Bodycam Captures Tampa Police Chief Using Position To Get Out of Traffic Violation.mp4 (134 seconds)\n"
          ]
        },
        {
          "output_type": "stream",
          "name": "stderr",
          "text": [
            "Extracting frames: 100%|██████████| 2/2 [00:01<00:00,  1.38it/s]\n"
          ]
        },
        {
          "output_type": "stream",
          "name": "stdout",
          "text": [
            "Extracted (2, 2051) embeddings\n",
            "Processing Bodycam Captures Tampa Police Chief Using Position To Get Out of Traffic Violation.mp4 (134 seconds)\n"
          ]
        },
        {
          "output_type": "stream",
          "name": "stderr",
          "text": [
            "Extracting frames: 100%|██████████| 2/2 [00:00<00:00,  2.03it/s]\n"
          ]
        },
        {
          "output_type": "stream",
          "name": "stdout",
          "text": [
            "Extracted (1, 2051) embeddings\n",
            "Processing Bodycam Captures Tampa Police Chief Using Position To Get Out of Traffic Violation.mp4 (134 seconds)\n"
          ]
        },
        {
          "output_type": "stream",
          "name": "stderr",
          "text": [
            "Extracting frames: 100%|██████████| 2/2 [00:00<00:00,  2.24it/s]\n"
          ]
        },
        {
          "output_type": "stream",
          "name": "stdout",
          "text": [
            "Extracted (1, 2051) embeddings\n",
            "Processing Bodycam Captures Tampa Police Chief Using Position To Get Out of Traffic Violation.mp4 (134 seconds)\n"
          ]
        },
        {
          "output_type": "stream",
          "name": "stderr",
          "text": [
            "Extracting frames: 100%|██████████| 2/2 [00:00<00:00,  3.65it/s]\n"
          ]
        },
        {
          "output_type": "stream",
          "name": "stdout",
          "text": [
            "\n",
            "No embeddings extracted for Bodycam Captures Tampa Police Chief Using Position To Get Out of Traffic Violation.mp4.\n",
            "Processing Bodycam Captures Tampa Police Chief Using Position To Get Out of Traffic Violation.mp4 (134 seconds)\n"
          ]
        },
        {
          "output_type": "stream",
          "name": "stderr",
          "text": [
            "Extracting frames: 100%|██████████| 2/2 [00:00<00:00,  3.33it/s]\n"
          ]
        },
        {
          "output_type": "stream",
          "name": "stdout",
          "text": [
            "\n",
            "No embeddings extracted for Bodycam Captures Tampa Police Chief Using Position To Get Out of Traffic Violation.mp4.\n",
            "Processing Bodycam Captures Tampa Police Chief Using Position To Get Out of Traffic Violation.mp4 (134 seconds)\n"
          ]
        },
        {
          "output_type": "stream",
          "name": "stderr",
          "text": [
            "Extracting frames: 100%|██████████| 2/2 [00:00<00:00,  2.20it/s]\n"
          ]
        },
        {
          "output_type": "stream",
          "name": "stdout",
          "text": [
            "\n",
            "No embeddings extracted for Bodycam Captures Tampa Police Chief Using Position To Get Out of Traffic Violation.mp4.\n",
            "Processing Bodycam Captures Tampa Police Chief Using Position To Get Out of Traffic Violation.mp4 (134 seconds)\n"
          ]
        },
        {
          "output_type": "stream",
          "name": "stderr",
          "text": [
            "Extracting frames: 100%|██████████| 2/2 [00:01<00:00,  1.97it/s]\n"
          ]
        },
        {
          "output_type": "stream",
          "name": "stdout",
          "text": [
            "\n",
            "No embeddings extracted for Bodycam Captures Tampa Police Chief Using Position To Get Out of Traffic Violation.mp4.\n",
            "Processing Bodycam Captures Tampa Police Chief Using Position To Get Out of Traffic Violation.mp4 (134 seconds)\n"
          ]
        },
        {
          "output_type": "stream",
          "name": "stderr",
          "text": [
            "Extracting frames: 100%|██████████| 2/2 [00:00<00:00,  2.93it/s]\n"
          ]
        },
        {
          "output_type": "stream",
          "name": "stdout",
          "text": [
            "\n",
            "No embeddings extracted for Bodycam Captures Tampa Police Chief Using Position To Get Out of Traffic Violation.mp4.\n",
            "Processing Bodycam Captures Tampa Police Chief Using Position To Get Out of Traffic Violation.mp4 (134 seconds)\n"
          ]
        },
        {
          "output_type": "stream",
          "name": "stderr",
          "text": [
            "Extracting frames: 100%|██████████| 2/2 [00:00<00:00,  3.36it/s]\n"
          ]
        },
        {
          "output_type": "stream",
          "name": "stdout",
          "text": [
            "\n",
            "No embeddings extracted for Bodycam Captures Tampa Police Chief Using Position To Get Out of Traffic Violation.mp4.\n",
            "Processing Bodycam Captures Tampa Police Chief Using Position To Get Out of Traffic Violation.mp4 (134 seconds)\n"
          ]
        },
        {
          "output_type": "stream",
          "name": "stderr",
          "text": [
            "Extracting frames: 100%|██████████| 2/2 [00:02<00:00,  1.04s/it]\n"
          ]
        },
        {
          "output_type": "stream",
          "name": "stdout",
          "text": [
            "\n",
            "No embeddings extracted for Bodycam Captures Tampa Police Chief Using Position To Get Out of Traffic Violation.mp4.\n",
            "Processing Bodycam Captures Tampa Police Chief Using Position To Get Out of Traffic Violation.mp4 (134 seconds)\n"
          ]
        },
        {
          "output_type": "stream",
          "name": "stderr",
          "text": [
            "Extracting frames: 100%|██████████| 2/2 [00:00<00:00,  3.70it/s]\n"
          ]
        },
        {
          "output_type": "stream",
          "name": "stdout",
          "text": [
            "\n",
            "No embeddings extracted for Bodycam Captures Tampa Police Chief Using Position To Get Out of Traffic Violation.mp4.\n",
            "Processing Bodycam Captures Tampa Police Chief Using Position To Get Out of Traffic Violation.mp4 (134 seconds)\n"
          ]
        },
        {
          "output_type": "stream",
          "name": "stderr",
          "text": [
            "Extracting frames: 100%|██████████| 2/2 [00:00<00:00,  3.43it/s]\n"
          ]
        },
        {
          "output_type": "stream",
          "name": "stdout",
          "text": [
            "\n",
            "No embeddings extracted for Bodycam Captures Tampa Police Chief Using Position To Get Out of Traffic Violation.mp4.\n",
            "Processing Bodycam Captures Tampa Police Chief Using Position To Get Out of Traffic Violation.mp4 (134 seconds)\n"
          ]
        },
        {
          "output_type": "stream",
          "name": "stderr",
          "text": [
            "Extracting frames: 100%|██████████| 2/2 [00:00<00:00,  2.18it/s]\n"
          ]
        },
        {
          "output_type": "stream",
          "name": "stdout",
          "text": [
            "\n",
            "No embeddings extracted for Bodycam Captures Tampa Police Chief Using Position To Get Out of Traffic Violation.mp4.\n"
          ]
        },
        {
          "output_type": "display_data",
          "data": {
            "text/plain": [
              "<Figure size 1000x600 with 1 Axes>"
            ],
            "image/png": "[encoded data removed]"
          },
          "metadata": {}
        }
      ]
    },
    {
      "cell_type": "code",
      "source": [],
      "metadata": {
        "id": "QrTUeYk8he50"
      },
      "execution_count": null,
      "outputs": []
    }
  ]
}