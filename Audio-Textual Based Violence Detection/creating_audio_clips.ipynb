{
 "cells": [
  {
   "cell_type": "code",
   "execution_count": 1,
   "id": "e3663e5e-8bf2-4978-96ed-8f0092d76d3f",
   "metadata": {},
   "outputs": [
    {
     "name": "stderr",
     "output_type": "stream",
     "text": [
      "/home1/kspatil/.local/lib/python3.13/site-packages/pydub/utils.py:170: RuntimeWarning: Couldn't find ffmpeg or avconv - defaulting to ffmpeg, but may not work\n",
      "  warn(\"Couldn't find ffmpeg or avconv - defaulting to ffmpeg, but may not work\", RuntimeWarning)\n"
     ]
    }
   ],
   "source": [
    "import json\n",
    "import os\n",
    "from pydub import AudioSegment\n",
    "\n",
    "# Load JSON data\n",
    "with open(\"results.json\", \"r\") as f:\n",
    "    data = json.load(f)\n",
    "\n",
    "# Create output directory\n",
    "output_dir = \"audio_clips\"\n",
    "os.makedirs(output_dir, exist_ok=True)"
   ]
  },
  {
   "cell_type": "code",
   "execution_count": 3,
   "id": "0bed5320-ed26-4585-8119-5634abe46fb4",
   "metadata": {},
   "outputs": [
    {
     "name": "stdout",
     "output_type": "stream",
     "text": [
      "Processing Bodycam Video Shows San Diego Police Shooting of Armed Robbery Suspect [Y-Hfq3tljfA].wav...\n",
      "Exported clips for Bodycam Video Shows San Diego Police Shooting of Armed Robbery Suspect [Y-Hfq3tljfA].wav to audio_clips\n",
      "Processing Bodycam Video Of Officer-Involved Shooting In Columbia Heights Standoff [U1lIZwO4zKM].wav...\n",
      "Exported clips for Bodycam Video Of Officer-Involved Shooting In Columbia Heights Standoff [U1lIZwO4zKM].wav to audio_clips\n",
      "Processing Police Bodycam Footage Shows Elderly Woman Being Scammed Out of $40,000 in Bitcoin Scheme [lfHuSkQnBLk].wav...\n",
      "Exported clips for Police Bodycam Footage Shows Elderly Woman Being Scammed Out of $40,000 in Bitcoin Scheme [lfHuSkQnBLk].wav to audio_clips\n",
      "Processing Bodycam Captures Suspect Shooting At LVMPD Officers Before They Return Fire [OOrPCXr0urU].wav...\n",
      "Exported clips for Bodycam Captures Suspect Shooting At LVMPD Officers Before They Return Fire [OOrPCXr0urU].wav to audio_clips\n",
      "Processing Bodycam Video Shows Struggle Over Riverside County Deputy's Gun Before Shooting [n9q1GCifdSw].wav...\n",
      "Exported clips for Bodycam Video Shows Struggle Over Riverside County Deputy's Gun Before Shooting [n9q1GCifdSw].wav to audio_clips\n",
      "Processing Armed Man Shot by Deputy Responding to Active Shooter Call [eXPGbC7LE1U].wav...\n",
      "Exported clips for Armed Man Shot by Deputy Responding to Active Shooter Call [eXPGbC7LE1U].wav to audio_clips\n",
      "Processing Bodycam Shows Phoenix Police Shootout That injured Officer and Killed Suspect [4Kmf4J7mROI].wav...\n",
      "Exported clips for Bodycam Shows Phoenix Police Shootout That injured Officer and Killed Suspect [4Kmf4J7mROI].wav to audio_clips\n",
      "Processing Bodycam Footage From Police Shootout in Roanoke, Virginia [TYbBgCUgZmU].wav...\n",
      "Exported clips for Bodycam Footage From Police Shootout in Roanoke, Virginia [TYbBgCUgZmU].wav to audio_clips\n",
      "Processing Bodycam Shows Police Shooting Armed Suspect in Gastonia, North Carolina [6Citg5Xqsl0].wav...\n",
      "Exported clips for Bodycam Shows Police Shooting Armed Suspect in Gastonia, North Carolina [6Citg5Xqsl0].wav to audio_clips\n",
      "Processing Bodycam Shows 76-Year-Old Woman Arrested For Disorderly Conduct [fHZdgPiAIWs].wav...\n",
      "Exported clips for Bodycam Shows 76-Year-Old Woman Arrested For Disorderly Conduct [fHZdgPiAIWs].wav to audio_clips\n",
      "Processing SWAT Officers Shoot Suspect After Aiming Gun at K9's Head [zMVg7zkejXA].wav...\n",
      "Exported clips for SWAT Officers Shoot Suspect After Aiming Gun at K9's Head [zMVg7zkejXA].wav to audio_clips\n",
      "Processing Connecticut Officers Caught in Shootout While Serving Warrant [2ixEPgUZeeM].wav...\n",
      "Exported clips for Connecticut Officers Caught in Shootout While Serving Warrant [2ixEPgUZeeM].wav to audio_clips\n",
      "Processing Bodycam Shows Police Shooting During Hostage Situation in Salt Lake City, Utah [h7gOJmlSUms].wav...\n",
      "Exported clips for Bodycam Shows Police Shooting During Hostage Situation in Salt Lake City, Utah [h7gOJmlSUms].wav to audio_clips\n",
      "Processing Bodycam Footage of Milwaukee Officers Shooting Two People With Weapons on Cinco de Mayo [H7UAuPcAOR4].wav...\n",
      "Exported clips for Bodycam Footage of Milwaukee Officers Shooting Two People With Weapons on Cinco de Mayo [H7UAuPcAOR4].wav to audio_clips\n",
      "Processing Bodycam Footage Of Arizona Officer Shooting Wheelchair Shoplifting Suspect [rngerMY-WS8].wav...\n",
      "Exported clips for Bodycam Footage Of Arizona Officer Shooting Wheelchair Shoplifting Suspect [rngerMY-WS8].wav to audio_clips\n",
      "Processing Bodycam Shows Officer Deploy K9 Shep On Fleeing Suspect [AfeBZe_qqEg].wav...\n",
      "Exported clips for Bodycam Shows Officer Deploy K9 Shep On Fleeing Suspect [AfeBZe_qqEg].wav to audio_clips\n",
      "Processing Oregon State Police Trooper Shoots Suspect Armed with Knife Near National Guard Air Station [FRJtGrrnA4M].wav...\n",
      "Exported clips for Oregon State Police Trooper Shoots Suspect Armed with Knife Near National Guard Air Station [FRJtGrrnA4M].wav to audio_clips\n",
      "Processing BART Police Bodycam Video Of Shaleem Tindle Shooting [MrVBY-mTOpk].wav...\n",
      "Exported clips for BART Police Bodycam Video Of Shaleem Tindle Shooting [MrVBY-mTOpk].wav to audio_clips\n",
      "Processing Bodycam Footage Shows Shooting and Chase of Armed Man in Kennewick, WA [A6xOSg604Aw].wav...\n",
      "Exported clips for Bodycam Footage Shows Shooting and Chase of Armed Man in Kennewick, WA [A6xOSg604Aw].wav to audio_clips\n",
      "Processing Bodycam Shows Officer Shooting Suspect Armed With a Sword [idYTp9uando].wav...\n",
      "Exported clips for Bodycam Shows Officer Shooting Suspect Armed With a Sword [idYTp9uando].wav to audio_clips\n",
      "Processing Bodycam Footage Shows Moment Cleveland Police Officer Shot [wJuNElKGWt0].wav...\n",
      "Exported clips for Bodycam Footage Shows Moment Cleveland Police Officer Shot [wJuNElKGWt0].wav to audio_clips\n",
      "Processing Bodycam Footage of Suspect Who Ambushed Nevada Officers 3 Times Before Being Fatally Shot [QxWiRVCuW24].wav...\n",
      "Exported clips for Bodycam Footage of Suspect Who Ambushed Nevada Officers 3 Times Before Being Fatally Shot [QxWiRVCuW24].wav to audio_clips\n",
      "Processing Bodycam Shows Good Samaritans Stop Man Trying To Carjack Woman at Starbucks in Florida [diq8a0clGmw].wav...\n",
      "Exported clips for Bodycam Shows Good Samaritans Stop Man Trying To Carjack Woman at Starbucks in Florida [diq8a0clGmw].wav to audio_clips\n",
      "Processing Bodycam Captures Police Shootout After Passenger Opens Fire on San Antonio Officer [c3sJjQB8Y_8].wav...\n",
      "Exported clips for Bodycam Captures Police Shootout After Passenger Opens Fire on San Antonio Officer [c3sJjQB8Y_8].wav to audio_clips\n",
      "Processing Police Bodycam Shows Fatal Shooting Of Mentally Ill Man [EmJSCeKIPrE].wav...\n",
      "Exported clips for Police Bodycam Shows Fatal Shooting Of Mentally Ill Man [EmJSCeKIPrE].wav to audio_clips\n",
      "Processing Bodycam Footage of Chicago Cop Shooting Armed Man Who Was Running Away [735hvJ2yhsA].wav...\n",
      "Exported clips for Bodycam Footage of Chicago Cop Shooting Armed Man Who Was Running Away [735hvJ2yhsA].wav to audio_clips\n",
      "Processing Intense Bodycam Footage Shows Fatal Police Shootout at Fort Lauderdale Hotel [EHWpyYgsFBQ].wav...\n",
      "Exported clips for Intense Bodycam Footage Shows Fatal Police Shootout at Fort Lauderdale Hotel [EHWpyYgsFBQ].wav to audio_clips\n",
      "Processing Police Bodycam Shows Parkour Style Foot Chase [S1-l5pqLtbo].wav...\n",
      "Exported clips for Police Bodycam Shows Parkour Style Foot Chase [S1-l5pqLtbo].wav to audio_clips\n",
      "Processing Bodycam Footage of Chaotic Standoff in Albuquerque, New Mexico [6nSQpYYE27k].wav...\n",
      "Exported clips for Bodycam Footage of Chaotic Standoff in Albuquerque, New Mexico [6nSQpYYE27k].wav to audio_clips\n",
      "Processing Bodycam Footage of Cops Shooting Robbery Suspect in Long Beach, California [sn8-Y_M8Gwo].wav...\n",
      "Exported clips for Bodycam Footage of Cops Shooting Robbery Suspect in Long Beach, California [sn8-Y_M8Gwo].wav to audio_clips\n",
      "Processing Hyde Park Woman Gets Shot After Pulling Knife on Police Officers [0VsYBa-Ez3k].wav...\n",
      "Exported clips for Hyde Park Woman Gets Shot After Pulling Knife on Police Officers [0VsYBa-Ez3k].wav to audio_clips\n",
      "Processing Police Officer Shoots Knife Wielding Suspect After Crashing Car Into Water [_N2_-r49jYU].wav...\n",
      "Exported clips for Police Officer Shoots Knife Wielding Suspect After Crashing Car Into Water [_N2_-r49jYU].wav to audio_clips\n",
      "Processing Bodycam Captures a Man Pulling Out a Pistol And Opening Fire On Officers [EiwoyZFN8Jw].wav...\n",
      "Exported clips for Bodycam Captures a Man Pulling Out a Pistol And Opening Fire On Officers [EiwoyZFN8Jw].wav to audio_clips\n",
      "Processing Police Catch Woman Accused of Stealing Cellphone from Elderly Woman [Yy6q93ZLBZU].wav...\n",
      "Exported clips for Police Catch Woman Accused of Stealing Cellphone from Elderly Woman [Yy6q93ZLBZU].wav to audio_clips\n",
      "Processing Bodycam Footage Of Police Involved Shooting in Chicago, Illinois - WARNING： GRAPHIC CONTENT [zUvkUcQEk9E].wav...\n",
      "Exported clips for Bodycam Footage Of Police Involved Shooting in Chicago, Illinois - WARNING： GRAPHIC CONTENT [zUvkUcQEk9E].wav to audio_clips\n",
      "Processing Bodycam Video Of Fatal Police Shootout in Alamogordo, New Mexico [2c8fC0dZteQ].wav...\n",
      "Exported clips for Bodycam Video Of Fatal Police Shootout in Alamogordo, New Mexico [2c8fC0dZteQ].wav to audio_clips\n",
      "Processing Bodycam Captures Officer Firing Gun at Fleeing Suspect Then Denying It [YHzo5H4ubyg].wav...\n",
      "Exported clips for Bodycam Captures Officer Firing Gun at Fleeing Suspect Then Denying It [YHzo5H4ubyg].wav to audio_clips\n",
      "Processing Bodycam Footage of Greenville Deputies Shooting Armed Man in South Carolina [vh8AL484jBA].wav...\n",
      "Exported clips for Bodycam Footage of Greenville Deputies Shooting Armed Man in South Carolina [vh8AL484jBA].wav to audio_clips\n",
      "Processing Bodycam Captures Fatal Police Shootout in Baltimore, Maryland ⚠(Volume Warning) [I0MeeloG8bM].wav...\n",
      "Exported clips for Bodycam Captures Fatal Police Shootout in Baltimore, Maryland ⚠(Volume Warning) [I0MeeloG8bM].wav to audio_clips\n",
      "Processing Bridgeport Officer Opens Fire After Suspect Pulls Gun During Foot Chase [Mv5BAz14Uo4].wav...\n",
      "Exported clips for Bridgeport Officer Opens Fire After Suspect Pulls Gun During Foot Chase [Mv5BAz14Uo4].wav to audio_clips\n",
      "Processing Body Camera Video Captures Shooting After Suspect Grabs Officers Gun [tUmMMA9LtJs].wav...\n",
      "Exported clips for Body Camera Video Captures Shooting After Suspect Grabs Officers Gun [tUmMMA9LtJs].wav to audio_clips\n",
      "Processing Bodycam Video Shows Scene From Police Shootout in Baltimore, Maryland [2QQul-WKDx4].wav...\n",
      "Exported clips for Bodycam Video Shows Scene From Police Shootout in Baltimore, Maryland [2QQul-WKDx4].wav to audio_clips\n",
      "Processing Bodycam Video Shows Florida Deputy Shooting Suspect Moments After His Brother Was Shot [IR8KliyFlNY].wav...\n",
      "Exported clips for Bodycam Video Shows Florida Deputy Shooting Suspect Moments After His Brother Was Shot [IR8KliyFlNY].wav to audio_clips\n",
      "Processing Bodycam Video Shows Man Swing Machete at Cop And Get Shot [9H4VaoQ9_MQ].wav...\n",
      "Exported clips for Bodycam Video Shows Man Swing Machete at Cop And Get Shot [9H4VaoQ9_MQ].wav to audio_clips\n",
      "Processing Bodycam Video Shows Assault On Officer, Man Tasered [bJ7KP0tTCqg].wav...\n",
      "Exported clips for Bodycam Video Shows Assault On Officer, Man Tasered [bJ7KP0tTCqg].wav to audio_clips\n",
      "Processing Bodycam Shows Police Use Taser on Casselberry Rape Suspect [1sjiv_RuE0M].wav...\n",
      "Exported clips for Bodycam Shows Police Use Taser on Casselberry Rape Suspect [1sjiv_RuE0M].wav to audio_clips\n",
      "Processing Bodycam Shows LAPD Officer Shoot Armed Suspect After Short Foot Chase [bcJJ-tPXMnQ].wav...\n",
      "Exported clips for Bodycam Shows LAPD Officer Shoot Armed Suspect After Short Foot Chase [bcJJ-tPXMnQ].wav to audio_clips\n",
      "Processing Bodycam Shows Cops Shooting Knife-Wielding Suspect at Chico Petco [2JfRxlmrPdM].wav...\n",
      "Exported clips for Bodycam Shows Cops Shooting Knife-Wielding Suspect at Chico Petco [2JfRxlmrPdM].wav to audio_clips\n",
      "Processing Bodycam Shows Gunfire Exchange Between Convicted Felon and Tampa Police [kOcjDJi_QUI].wav...\n",
      "Exported clips for Bodycam Shows Gunfire Exchange Between Convicted Felon and Tampa Police [kOcjDJi_QUI].wav to audio_clips\n",
      "Processing Maricopa Police Shoot Wanted Man After He Fires at Officers [eWHTkzxEJT8].wav...\n",
      "Exported clips for Maricopa Police Shoot Wanted Man After He Fires at Officers [eWHTkzxEJT8].wav to audio_clips\n",
      "Processing Bodycam Footage Shows The Shooting of a Las Vegas Police Officer [J80YIUvQ6-k].wav...\n",
      "Exported clips for Bodycam Footage Shows The Shooting of a Las Vegas Police Officer [J80YIUvQ6-k].wav to audio_clips\n",
      "Processing Bodycam Footage of Oklahoma City Police Officers Shooting Knife-Wielding Suspect [1XhDXpDMYEE].wav...\n",
      "Exported clips for Bodycam Footage of Oklahoma City Police Officers Shooting Knife-Wielding Suspect [1XhDXpDMYEE].wav to audio_clips\n",
      "Processing Santa Ana Police Officers Shoot Homicide Suspect on the Newport Beach Pier [tgr63KBAE_o].wav...\n",
      "Exported clips for Santa Ana Police Officers Shoot Homicide Suspect on the Newport Beach Pier [tgr63KBAE_o].wav to audio_clips\n"
     ]
    }
   ],
   "source": [
    "for audio_file, info in data.items():\n",
    "    print(f\"Processing {audio_file}...\")\n",
    "    try:\n",
    "        # Load audio file\n",
    "        audio = AudioSegment.from_wav('audios/' + audio_file)\n",
    "    except FileNotFoundError:\n",
    "        print(f\"File not found: {audio_file}\")\n",
    "        continue\n",
    "\n",
    "    times = info[\"times\"]\n",
    "    \n",
    "    for idx, entry in enumerate(times):\n",
    "        speaker, start_time, end_time = entry\n",
    "        start_ms = int(start_time * 1000)\n",
    "        end_ms = int(end_time * 1000)\n",
    "        clip = audio[start_ms:end_ms]\n",
    "        \n",
    "        base_name = os.path.splitext(os.path.basename(audio_file))[0]\n",
    "        clip_filename = f\"{base_name}_{speaker}_clip{idx+1}.wav\"\n",
    "        clip_path = os.path.join(output_dir, clip_filename)\n",
    "        clip.export(clip_path, format=\"wav\")\n",
    "        \n",
    "    print(f\"Exported clips for {audio_file} to {output_dir}\")"
   ]
  },
  {
   "cell_type": "code",
   "execution_count": 5,
   "id": "e4b5db37-882c-4474-bfa8-42046fb3c2ef",
   "metadata": {},
   "outputs": [
    {
     "name": "stdout",
     "output_type": "stream",
     "text": [
      "2485\n"
     ]
    }
   ],
   "source": [
    "clip_files = [f for f in os.listdir(\"audio_clips\") if os.path.isfile(os.path.join(\"audio_clips\", f))]\n",
    "print(len(clip_files))"
   ]
  },
  {
   "cell_type": "code",
   "execution_count": 6,
   "id": "62b15ff4-8a2a-4f87-8c1d-d1f0401f42e2",
   "metadata": {},
   "outputs": [],
   "source": [
    "import json\n",
    "import os\n",
    "from pydub import AudioSegment\n",
    "\n",
    "# Load JSON data\n",
    "with open(\"temp.json\", \"r\") as f:\n",
    "    data = json.load(f)\n",
    "\n",
    "# Create output directory\n",
    "output_dir = \"test_dataset\"\n",
    "os.makedirs(output_dir, exist_ok=True)"
   ]
  },
  {
   "cell_type": "code",
   "execution_count": 8,
   "id": "9abe4ac8-6104-4000-89a4-9b227d7a9076",
   "metadata": {},
   "outputs": [
    {
     "name": "stdout",
     "output_type": "stream",
     "text": [
      "Processing test.wav...\n",
      "Exported clips for test.wav to test_dataset\n"
     ]
    }
   ],
   "source": [
    "for audio_file, info in data.items():\n",
    "    print(f\"Processing {audio_file}...\")\n",
    "    try:\n",
    "        # Load audio file\n",
    "        audio = AudioSegment.from_wav('test.wav')\n",
    "    except FileNotFoundError:\n",
    "        print(f\"File not found: {audio_file}\")\n",
    "        continue\n",
    "\n",
    "    times = info[\"times\"]\n",
    "    \n",
    "    for idx, entry in enumerate(times):\n",
    "        speaker, start_time, end_time = entry\n",
    "        start_ms = int(start_time * 1000)\n",
    "        end_ms = int(end_time * 1000)\n",
    "        clip = audio[start_ms:end_ms]\n",
    "        \n",
    "        base_name = os.path.splitext(os.path.basename(audio_file))[0]\n",
    "        clip_filename = f\"{base_name}_{speaker}_clip{idx+1}.wav\"\n",
    "        clip_path = os.path.join(output_dir, clip_filename)\n",
    "        clip.export(clip_path, format=\"wav\")\n",
    "        \n",
    "    print(f\"Exported clips for {audio_file} to {output_dir}\")"
   ]
  },
  {
   "cell_type": "code",
   "execution_count": null,
   "id": "9223192b-5fa5-4391-8b50-681f73d1885b",
   "metadata": {},
   "outputs": [],
   "source": []
  }
 ],
 "metadata": {
  "kernelspec": {
   "display_name": "Python 3.13.1 (default)",
   "language": "python",
   "name": "python3"
  },
  "language_info": {
   "codemirror_mode": {
    "name": "ipython",
    "version": 3
   },
   "file_extension": ".py",
   "mimetype": "text/x-python",
   "name": "python",
   "nbconvert_exporter": "python",
   "pygments_lexer": "ipython3",
   "version": "3.13.1"
  }
 },
 "nbformat": 4,
 "nbformat_minor": 5
}
